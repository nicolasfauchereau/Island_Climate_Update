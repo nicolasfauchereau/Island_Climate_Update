{
 "cells": [
  {
   "cell_type": "code",
   "execution_count": 1,
   "metadata": {},
   "outputs": [],
   "source": [
    "import os\n",
    "import sys\n",
    "import pathlib\n",
    "from glob import glob \n",
    "from datetime import date, datetime, timedelta\n",
    "from dateutil.relativedelta import relativedelta\n",
    "import json"
   ]
  },
  {
   "cell_type": "code",
   "execution_count": 2,
   "metadata": {},
   "outputs": [],
   "source": [
    "import numpy as np\n",
    "import pandas as pd"
   ]
  },
  {
   "cell_type": "code",
   "execution_count": 3,
   "metadata": {},
   "outputs": [],
   "source": [
    "import xarray as xr\n",
    "import salem"
   ]
  },
  {
   "cell_type": "code",
   "execution_count": 4,
   "metadata": {},
   "outputs": [
    {
     "data": {
      "text/plain": [
       "'0.2.3-5-g7864474'"
      ]
     },
     "execution_count": 4,
     "metadata": {},
     "output_type": "execute_result"
    }
   ],
   "source": [
    "salem.__version__"
   ]
  },
  {
   "cell_type": "markdown",
   "metadata": {},
   "source": [
    "### local function definition "
   ]
  },
  {
   "cell_type": "code",
   "execution_count": 5,
   "metadata": {},
   "outputs": [],
   "source": [
    "def make_ts(trmm_ts, climo): \n",
    "    \n",
    "    trmm_ts_c = trmm_ts.copy()\n",
    "    \n",
    "    dec = [\"{}%\".format(x) for x in range(20, 100, 20)]\n",
    "    \n",
    "    categories = []\n",
    "    anoms = []\n",
    "    anoms_pc = []\n",
    "\n",
    "    for i, row in trmm_ts_c.iterrows(): \n",
    "\n",
    "        month = row.name.month \n",
    "\n",
    "        val = row.values[0]\n",
    "\n",
    "        clim = climo.loc[month, :]\n",
    "\n",
    "        deciles = clim.loc[dec,]\n",
    "\n",
    "        ave = clim.loc['mean']\n",
    "\n",
    "        anom = val - ave\n",
    "\n",
    "        anom_pc = (val / ave) * 100\n",
    "\n",
    "        if (val < deciles.loc['20%']): \n",
    "            category = 'Well below'\n",
    "        elif (deciles.loc['20%'] <= val <= deciles.loc['40%']): \n",
    "            category = 'Below'\n",
    "        elif (deciles.loc['40%'] < val <= deciles.loc['60%']): \n",
    "            category = 'Normal'\n",
    "        elif (deciles.loc['60%'] < val <= deciles.loc['80%']): \n",
    "            category = 'Above'    \n",
    "        elif (val > deciles.loc['80%']): \n",
    "            category = 'Well above' \n",
    "        else: \n",
    "            print(\"category cannot be calculated\")\n",
    "\n",
    "        categories.append(category)\n",
    "\n",
    "        anoms.append(anom)\n",
    "\n",
    "        anoms_pc.append(anom_pc)\n",
    "        \n",
    "    trmm_ts_c.loc[:,'year'] = trmm_ts.index.year \n",
    "\n",
    "    trmm_ts_c.loc[:,'month'] = trmm_ts.index.month \n",
    "\n",
    "    trmm_ts_c.loc[:,'anomaly'] = np.array(anoms)\n",
    "\n",
    "    trmm_ts_c.loc[:,'percent'] = np.array(anoms_pc)\n",
    "\n",
    "    trmm_ts_c.loc[:,'category'] = np.array(categories)\n",
    "    \n",
    "    return trmm_ts_c.loc[:,['year','month','trmm','anomaly','percent','category']]"
   ]
  },
  {
   "cell_type": "markdown",
   "metadata": {},
   "source": [
    "### defines the path to the climatologies "
   ]
  },
  {
   "cell_type": "code",
   "execution_count": 6,
   "metadata": {},
   "outputs": [],
   "source": [
    "dpath_climo = pathlib.Path.cwd().parent / 'outputs' / 'climatologies'"
   ]
  },
  {
   "cell_type": "code",
   "execution_count": 7,
   "metadata": {},
   "outputs": [
    {
     "data": {
      "text/plain": [
       "PosixPath('/home/nicolasf/operational/ICU/ops/TRMM/outputs/climatologies')"
      ]
     },
     "execution_count": 7,
     "metadata": {},
     "output_type": "execute_result"
    }
   ],
   "source": [
    "dpath_climo"
   ]
  },
  {
   "cell_type": "markdown",
   "metadata": {},
   "source": [
    "### list the files (monthly climatologies for each Island Group)"
   ]
  },
  {
   "cell_type": "code",
   "execution_count": 8,
   "metadata": {},
   "outputs": [],
   "source": [
    "lfiles_climo = list(dpath_climo.glob(\"monthly*.csv\"))"
   ]
  },
  {
   "cell_type": "markdown",
   "metadata": {},
   "source": [
    "### output path for the last 6 months time-series "
   ]
  },
  {
   "cell_type": "code",
   "execution_count": 9,
   "metadata": {},
   "outputs": [],
   "source": [
    "output_path = pathlib.Path.cwd().parent / 'outputs' / 'Time_Series' / 'last_6_months'"
   ]
  },
  {
   "cell_type": "code",
   "execution_count": 10,
   "metadata": {},
   "outputs": [
    {
     "data": {
      "text/plain": [
       "PosixPath('/home/nicolasf/operational/ICU/ops/TRMM/outputs/Time_Series/last_6_months')"
      ]
     },
     "execution_count": 10,
     "metadata": {},
     "output_type": "execute_result"
    }
   ],
   "source": [
    "output_path"
   ]
  },
  {
   "cell_type": "markdown",
   "metadata": {},
   "source": [
    "### path to the updated **extended South Pacific** daily TRMM / GPM files "
   ]
  },
  {
   "cell_type": "code",
   "execution_count": 11,
   "metadata": {},
   "outputs": [],
   "source": [
    "dpath_TRMM = pathlib.Path.cwd().parents[1] / 'data' / 'TRMM' / 'daily' / 'extended_SP'"
   ]
  },
  {
   "cell_type": "code",
   "execution_count": 12,
   "metadata": {},
   "outputs": [
    {
     "data": {
      "text/plain": [
       "PosixPath('/home/nicolasf/operational/ICU/ops/data/TRMM/daily/extended_SP')"
      ]
     },
     "execution_count": 12,
     "metadata": {},
     "output_type": "execute_result"
    }
   ],
   "source": [
    "dpath_TRMM"
   ]
  },
  {
   "cell_type": "code",
   "execution_count": 13,
   "metadata": {},
   "outputs": [],
   "source": [
    "lfiles_TRMM = list(dpath_TRMM.glob('*.nc'))"
   ]
  },
  {
   "cell_type": "code",
   "execution_count": 14,
   "metadata": {},
   "outputs": [],
   "source": [
    "lfiles_TRMM.sort()"
   ]
  },
  {
   "cell_type": "markdown",
   "metadata": {},
   "source": [
    "### check that the TRMM dataset has been updated to the latest available date here (~ 2 days lag to real time)"
   ]
  },
  {
   "cell_type": "code",
   "execution_count": 15,
   "metadata": {},
   "outputs": [
    {
     "data": {
      "text/plain": [
       "[PosixPath('/home/nicolasf/operational/ICU/ops/data/TRMM/daily/extended_SP/3B42RT_daily.2019.03.14.nc'),\n",
       " PosixPath('/home/nicolasf/operational/ICU/ops/data/TRMM/daily/extended_SP/3B42RT_daily.2019.03.15.nc'),\n",
       " PosixPath('/home/nicolasf/operational/ICU/ops/data/TRMM/daily/extended_SP/3B42RT_daily.2019.03.16.nc'),\n",
       " PosixPath('/home/nicolasf/operational/ICU/ops/data/TRMM/daily/extended_SP/3B42RT_daily.2019.03.17.nc'),\n",
       " PosixPath('/home/nicolasf/operational/ICU/ops/data/TRMM/daily/extended_SP/3B42RT_daily.2019.03.18.nc'),\n",
       " PosixPath('/home/nicolasf/operational/ICU/ops/data/TRMM/daily/extended_SP/3B42RT_daily.2019.03.19.nc'),\n",
       " PosixPath('/home/nicolasf/operational/ICU/ops/data/TRMM/daily/extended_SP/3B42RT_daily.2019.03.20.nc'),\n",
       " PosixPath('/home/nicolasf/operational/ICU/ops/data/TRMM/daily/extended_SP/3B42RT_daily.2019.03.21.nc'),\n",
       " PosixPath('/home/nicolasf/operational/ICU/ops/data/TRMM/daily/extended_SP/3B42RT_daily.2019.03.22.nc'),\n",
       " PosixPath('/home/nicolasf/operational/ICU/ops/data/TRMM/daily/extended_SP/3B42RT_daily.2019.03.23.nc')]"
      ]
     },
     "execution_count": 15,
     "metadata": {},
     "output_type": "execute_result"
    }
   ],
   "source": [
    "lfiles_TRMM[-10:]"
   ]
  },
  {
   "cell_type": "markdown",
   "metadata": {},
   "source": [
    "if not updated:\n",
    "\n",
    "  \n",
    "1) cd into `~/operational/ICU/ops/data/TRMM/daily/extended_SP/` and note the date of the last netcdf file   \n",
    "2) activate the `pangeo` environment and cd into `~/operational/ICU/ops/data/TRMM/daily/scripts/`  \n",
    "3) run:   \n",
    "\n",
    "```\n",
    "python get_daily_TRMM_TMPA_netcdf.py -o ../extended_SP -lonW 125 -lonE 240 -latN 25 -latS -50 -s YYYMMDD -e YYYYMMDD\n",
    "```\n",
    "\n",
    "Then re-run the lines above to get the updated list of files "
   ]
  },
  {
   "cell_type": "markdown",
   "metadata": {},
   "source": [
    "### get the last dates and determine the period to load in "
   ]
  },
  {
   "cell_type": "code",
   "execution_count": 16,
   "metadata": {},
   "outputs": [],
   "source": [
    "last_TRMM_file = lfiles_TRMM[-1]"
   ]
  },
  {
   "cell_type": "code",
   "execution_count": 17,
   "metadata": {},
   "outputs": [],
   "source": [
    "dates_elems = list(map(int, str(last_TRMM_file).split('.')[-4:-1]))"
   ]
  },
  {
   "cell_type": "code",
   "execution_count": 18,
   "metadata": {},
   "outputs": [],
   "source": [
    "last_date_TRMM = datetime(*dates_elems)"
   ]
  },
  {
   "cell_type": "code",
   "execution_count": 19,
   "metadata": {},
   "outputs": [
    {
     "data": {
      "text/plain": [
       "datetime.datetime(2019, 3, 23, 0, 0)"
      ]
     },
     "execution_count": 19,
     "metadata": {},
     "output_type": "execute_result"
    }
   ],
   "source": [
    "last_date_TRMM"
   ]
  },
  {
   "cell_type": "markdown",
   "metadata": {},
   "source": [
    "### we want the last 6 months of daily TRMM data "
   ]
  },
  {
   "cell_type": "code",
   "execution_count": 20,
   "metadata": {},
   "outputs": [],
   "source": [
    "nmonths = 6"
   ]
  },
  {
   "cell_type": "code",
   "execution_count": 21,
   "metadata": {},
   "outputs": [],
   "source": [
    "start_date_TRMM = datetime((last_date_TRMM - relativedelta(months=nmonths - 1)).year, (last_date_TRMM - relativedelta(months=nmonths - 1)).month, 1)"
   ]
  },
  {
   "cell_type": "code",
   "execution_count": 22,
   "metadata": {},
   "outputs": [
    {
     "data": {
      "text/plain": [
       "datetime.datetime(2018, 10, 1, 0, 0)"
      ]
     },
     "execution_count": 22,
     "metadata": {},
     "output_type": "execute_result"
    }
   ],
   "source": [
    "start_date_TRMM"
   ]
  },
  {
   "cell_type": "markdown",
   "metadata": {},
   "source": [
    "### sanity check on the dates here"
   ]
  },
  {
   "cell_type": "code",
   "execution_count": 23,
   "metadata": {},
   "outputs": [
    {
     "name": "stdout",
     "output_type": "stream",
     "text": [
      "the last 6 months TRMM period will cover the days from 2018-10-01 to 2019-03-23\n"
     ]
    }
   ],
   "source": [
    "print(\"the last 6 months TRMM period will cover the days from {:%Y-%m-%d} to {:%Y-%m-%d}\".format(start_date_TRMM, last_date_TRMM))"
   ]
  },
  {
   "cell_type": "markdown",
   "metadata": {},
   "source": [
    "### now construct the final list of files (using pandas date_range function)"
   ]
  },
  {
   "cell_type": "code",
   "execution_count": 24,
   "metadata": {},
   "outputs": [],
   "source": [
    "dates_TRMM = pd.date_range(start=start_date_TRMM, end=last_date_TRMM, freq='1D')"
   ]
  },
  {
   "cell_type": "code",
   "execution_count": 25,
   "metadata": {},
   "outputs": [
    {
     "data": {
      "text/plain": [
       "DatetimeIndex(['2018-10-01', '2018-10-02', '2018-10-03', '2018-10-04',\n",
       "               '2018-10-05', '2018-10-06', '2018-10-07', '2018-10-08',\n",
       "               '2018-10-09', '2018-10-10',\n",
       "               ...\n",
       "               '2019-03-14', '2019-03-15', '2019-03-16', '2019-03-17',\n",
       "               '2019-03-18', '2019-03-19', '2019-03-20', '2019-03-21',\n",
       "               '2019-03-22', '2019-03-23'],\n",
       "              dtype='datetime64[ns]', length=174, freq='D')"
      ]
     },
     "execution_count": 25,
     "metadata": {},
     "output_type": "execute_result"
    }
   ],
   "source": [
    "dates_TRMM"
   ]
  },
  {
   "cell_type": "code",
   "execution_count": 26,
   "metadata": {},
   "outputs": [],
   "source": [
    "lfiles_TRMM = [] \n",
    "for d in dates_TRMM: \n",
    "    lfiles_TRMM.append(dpath_TRMM / '3B42RT_daily.{:%Y.%m.%d}.nc'.format(d))"
   ]
  },
  {
   "cell_type": "markdown",
   "metadata": {},
   "source": [
    "### and now loads the whole dataset of the last 6 months"
   ]
  },
  {
   "cell_type": "code",
   "execution_count": 27,
   "metadata": {},
   "outputs": [],
   "source": [
    "dset = xr.open_mfdataset(lfiles_TRMM)"
   ]
  },
  {
   "cell_type": "code",
   "execution_count": 28,
   "metadata": {},
   "outputs": [
    {
     "data": {
      "text/plain": [
       "<xarray.Dataset>\n",
       "Dimensions:  (lat: 300, lon: 460, time: 174)\n",
       "Coordinates:\n",
       "  * lat      (lat) float32 -49.875 -49.625 -49.375 ... 24.375 24.625 24.875\n",
       "  * lon      (lon) float32 125.125 125.375 125.625 ... 239.375 239.625 239.875\n",
       "  * time     (time) datetime64[ns] 2018-10-01 2018-10-02 ... 2019-03-23\n",
       "Data variables:\n",
       "    trmm     (time, lat, lon) float32 dask.array<shape=(174, 300, 460), chunksize=(1, 300, 460)>"
      ]
     },
     "execution_count": 28,
     "metadata": {},
     "output_type": "execute_result"
    }
   ],
   "source": [
    "dset"
   ]
  },
  {
   "cell_type": "markdown",
   "metadata": {},
   "source": [
    "### calculates the monthly averages, will be preliminary for the last month if not all days downloaded"
   ]
  },
  {
   "cell_type": "code",
   "execution_count": 29,
   "metadata": {},
   "outputs": [],
   "source": [
    "dset = dset.resample(time='1M').mean('time')"
   ]
  },
  {
   "cell_type": "code",
   "execution_count": 31,
   "metadata": {},
   "outputs": [
    {
     "data": {
      "text/plain": [
       "<xarray.Dataset>\n",
       "Dimensions:  (lat: 300, lon: 460, time: 6)\n",
       "Coordinates:\n",
       "  * time     (time) datetime64[ns] 2018-10-31 2018-11-30 ... 2019-03-31\n",
       "  * lat      (lat) float32 -49.875 -49.625 -49.375 ... 24.375 24.625 24.875\n",
       "  * lon      (lon) float32 125.125 125.375 125.625 ... 239.375 239.625 239.875\n",
       "Data variables:\n",
       "    trmm     (time, lat, lon) float32 2.4841936 2.6641932 ... 0.06521738"
      ]
     },
     "execution_count": 31,
     "metadata": {},
     "output_type": "execute_result"
    }
   ],
   "source": [
    "dset.compute()"
   ]
  },
  {
   "cell_type": "markdown",
   "metadata": {},
   "source": [
    "### Now loads the shapefiles "
   ]
  },
  {
   "cell_type": "code",
   "execution_count": 32,
   "metadata": {},
   "outputs": [],
   "source": [
    "shapes_ipath = pathlib.Path.cwd().parents[1] / 'data' / 'shapefiles' / 'ICU' / 'clipped' / 'countries_converted'"
   ]
  },
  {
   "cell_type": "code",
   "execution_count": 33,
   "metadata": {},
   "outputs": [
    {
     "data": {
      "text/plain": [
       "PosixPath('/home/nicolasf/operational/ICU/ops/data/shapefiles/ICU/clipped/countries_converted')"
      ]
     },
     "execution_count": 33,
     "metadata": {},
     "output_type": "execute_result"
    }
   ],
   "source": [
    "shapes_ipath"
   ]
  },
  {
   "cell_type": "code",
   "execution_count": 34,
   "metadata": {},
   "outputs": [],
   "source": [
    "lshapefiles = shapes_ipath.glob('*/*.shp')"
   ]
  },
  {
   "cell_type": "code",
   "execution_count": 35,
   "metadata": {},
   "outputs": [],
   "source": [
    "lshapefiles = list(lshapefiles)"
   ]
  },
  {
   "cell_type": "code",
   "execution_count": 36,
   "metadata": {},
   "outputs": [],
   "source": [
    "lshapefiles.sort()"
   ]
  },
  {
   "cell_type": "markdown",
   "metadata": {},
   "source": [
    "### open the dictionnay mapping country name in filenames to actual country name "
   ]
  },
  {
   "cell_type": "code",
   "execution_count": 37,
   "metadata": {},
   "outputs": [],
   "source": [
    "with open(pathlib.Path.cwd().parents[1] / 'resources' / 'dict_countries.json', 'r') as fj: \n",
    "    dict_countries = json.load(fj)"
   ]
  },
  {
   "cell_type": "markdown",
   "metadata": {},
   "source": [
    "### Now loops over each shapefile, use the country geometry to clip and mask the TRMM dataset, calculates the regional average, and make the last 6 months Time-Series"
   ]
  },
  {
   "cell_type": "code",
   "execution_count": 38,
   "metadata": {},
   "outputs": [
    {
     "name": "stdout",
     "output_type": "stream",
     "text": [
      "processing American Samoa\n",
      "processing Austral Islands\n",
      "processing Federated States of Micronesia\n",
      "processing Fiji\n",
      "processing Guam\n",
      "processing Kiribati: Gilbert Islands\n",
      "processing Kiribati: Line Islands\n",
      "processing Kiribati: Phoenix Islands\n",
      "processing Marquesas\n",
      "processing Marshall Islands\n",
      "processing Nauru\n",
      "processing New Caledonia\n",
      "processing Niue\n",
      "processing Northern Cook Islands\n",
      "processing Northern Marianas\n",
      "processing Palau\n",
      "processing Papua New Guinea\n",
      "processing Pitcairn Islands\n",
      "processing Samoa\n",
      "processing Society Islands\n",
      "processing Solomon Islands\n",
      "processing Southern Cook Islands\n",
      "processing Tokelau\n",
      "processing Tonga\n",
      "processing Tuamotu / Gambier Islands\n",
      "processing Tuvalu\n",
      "processing Vanuatu North\n",
      "processing Vanuatu South\n",
      "processing Wallis & Futuna\n"
     ]
    }
   ],
   "source": [
    "for shp_filename in lshapefiles: \n",
    "    \n",
    "    shapes = salem.read_shapefile(shp_filename)\n",
    "    \n",
    "    country_fname = os.path.basename(shp_filename)[7:-4]\n",
    "    \n",
    "    country_name = dict_countries[country_fname]\n",
    "    \n",
    "    print(\"processing {}\".format(country_name))\n",
    "    \n",
    "    subset = dset.salem.subset(shape=shapes, margin=2)\n",
    "    \n",
    "    roi = subset.salem.roi(shape=shapes, all_touched=True)\n",
    "\n",
    "    trmm_ts = roi.mean(dim=('lat','lon')).to_dataframe()\n",
    "    \n",
    "    last_date = trmm_ts.index[-1]\n",
    "    \n",
    "    climo = pd.read_csv(dpath_climo / 'monthly_climo_{}.csv'.format(country_fname), index_col=0)\n",
    "    \n",
    "    last_6_months = make_ts(trmm_ts, climo)\n",
    "        \n",
    "    last_6_months.to_csv(output_path / '{}_pbased.csv'.format(country_fname))"
   ]
  },
  {
   "cell_type": "code",
   "execution_count": 39,
   "metadata": {},
   "outputs": [
    {
     "data": {
      "text/plain": [
       "PosixPath('/home/nicolasf/operational/ICU/ops/TRMM/outputs/climatologies')"
      ]
     },
     "execution_count": 39,
     "metadata": {},
     "output_type": "execute_result"
    }
   ],
   "source": [
    "dpath_climo"
   ]
  },
  {
   "cell_type": "code",
   "execution_count": 40,
   "metadata": {},
   "outputs": [
    {
     "data": {
      "text/plain": [
       "PosixPath('/home/nicolasf/operational/ICU/ops/TRMM/outputs/Time_Series/last_6_months')"
      ]
     },
     "execution_count": 40,
     "metadata": {},
     "output_type": "execute_result"
    }
   ],
   "source": [
    "output_path"
   ]
  },
  {
   "cell_type": "code",
   "execution_count": null,
   "metadata": {},
   "outputs": [],
   "source": []
  }
 ],
 "metadata": {
  "kernelspec": {
   "display_name": "Python 3",
   "language": "python",
   "name": "python3"
  },
  "language_info": {
   "codemirror_mode": {
    "name": "ipython",
    "version": 3
   },
   "file_extension": ".py",
   "mimetype": "text/x-python",
   "name": "python",
   "nbconvert_exporter": "python",
   "pygments_lexer": "ipython3",
   "version": "3.6.6"
  }
 },
 "nbformat": 4,
 "nbformat_minor": 2
}
