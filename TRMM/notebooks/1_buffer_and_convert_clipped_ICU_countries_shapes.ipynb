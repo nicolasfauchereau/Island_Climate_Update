{
 "cells": [
  {
   "cell_type": "markdown",
   "metadata": {},
   "source": [
    "### take the ICU clipped country shapes, buffer and convert from [-180 - 180] to [0 - 360]"
   ]
  },
  {
   "cell_type": "code",
   "execution_count": 29,
   "metadata": {},
   "outputs": [],
   "source": [
    "%matplotlib inline"
   ]
  },
  {
   "cell_type": "code",
   "execution_count": 30,
   "metadata": {},
   "outputs": [],
   "source": [
    "import os\n",
    "import sys\n",
    "import pathlib"
   ]
  },
  {
   "cell_type": "code",
   "execution_count": 31,
   "metadata": {},
   "outputs": [],
   "source": [
    "import fiona\n",
    "import geopandas as gpd"
   ]
  },
  {
   "cell_type": "code",
   "execution_count": 32,
   "metadata": {},
   "outputs": [],
   "source": [
    "shapes_ipath = pathlib.Path.cwd().parents[1] / 'data' / 'shapefiles' / 'ICU' / 'clipped'"
   ]
  },
  {
   "cell_type": "code",
   "execution_count": 33,
   "metadata": {},
   "outputs": [],
   "source": [
    "resources_path = pathlib.Path.cwd().parents[1] / 'resources'"
   ]
  },
  {
   "cell_type": "code",
   "execution_count": 34,
   "metadata": {},
   "outputs": [],
   "source": [
    "shapes_opath = shapes_ipath / 'countries'"
   ]
  },
  {
   "cell_type": "code",
   "execution_count": 35,
   "metadata": {},
   "outputs": [],
   "source": [
    "shapes_opath_converted = shapes_opath  / 'countries_converted'"
   ]
  },
  {
   "cell_type": "code",
   "execution_count": 36,
   "metadata": {},
   "outputs": [],
   "source": [
    "shapefile_fname = 'Clipped_ICU_Countries2.shp'"
   ]
  },
  {
   "cell_type": "code",
   "execution_count": 37,
   "metadata": {},
   "outputs": [],
   "source": [
    "shapefile = gpd.read_file(os.path.join(shapes_ipath, shapefile_fname))"
   ]
  },
  {
   "cell_type": "code",
   "execution_count": 24,
   "metadata": {},
   "outputs": [],
   "source": [
    "def sanitize(country_name): \n",
    "    return country_name.replace(' ','_').replace(':','').replace('/','').replace('&','and')"
   ]
  },
  {
   "cell_type": "markdown",
   "metadata": {},
   "source": [
    "### creates dictionnary mapping filenames to country names"
   ]
  },
  {
   "cell_type": "code",
   "execution_count": 25,
   "metadata": {},
   "outputs": [],
   "source": [
    "dict_countries = {}"
   ]
  },
  {
   "cell_type": "code",
   "execution_count": 26,
   "metadata": {},
   "outputs": [],
   "source": [
    "for country in shapefile.COUNTRYNAM.unique():\n",
    "    dict_countries[sanitize(country)] = country"
   ]
  },
  {
   "cell_type": "code",
   "execution_count": 27,
   "metadata": {},
   "outputs": [],
   "source": [
    "import json\n",
    "\n",
    "with open(resources_path / 'dict_countries.json', 'w') as fp:\n",
    "    json.dump(dict_countries, fp)"
   ]
  },
  {
   "cell_type": "markdown",
   "metadata": {},
   "source": [
    "### loops and converts the shapes in the shapefile "
   ]
  },
  {
   "cell_type": "code",
   "execution_count": 50,
   "metadata": {},
   "outputs": [],
   "source": [
    "for country in shapefile.COUNTRYNAM.unique(): \n",
    "    country_fname = sanitize(country)\n",
    "    shape_country = shapefile.query(\"COUNTRYNAM == '{}'\".format(country))\n",
    "    shape_country = shape_country.buffer(distance=0.1) \n",
    "    shape_country.to_file(os.path.join(shapes_opath, '{}'.format(country_fname))) \n",
    "    shapes = fiona.open(os.path.join(shapes_opath, '{}'.format(country_fname))) \n",
    "    if not os.path.exists(os.path.join(shapes_opath_converted, country_fname)): \n",
    "        os.mkdir(os.path.join(shapes_opath_converted, country_fname))\n",
    "    with fiona.open(os.path.join(shapes_opath_converted, country_fname, 'shapes_{}.shp'.format(country_fname)), 'w', 'ESRI Shapefile', shapes.schema.copy(), crs = shapes.crs) as output:\n",
    "\n",
    "        for shape in shapes:\n",
    "\n",
    "    #         if shape['properties']['min_x'] < 0:\n",
    "\n",
    "    #             shape['properties']['min_x'] += 360\n",
    "\n",
    "    #         if shape['properties']['max_x'] < 0:\n",
    "\n",
    "    #             shape['properties']['max_x'] += 360\n",
    "\n",
    "            if (len(shape['geometry']['coordinates']) == 1):\n",
    "\n",
    "                coords = shape['geometry']['coordinates']\n",
    "\n",
    "                coords_mod = coords.copy()\n",
    "\n",
    "                for j in range(len(coords[0])):\n",
    "\n",
    "                    lon, lat = coords[0][j]\n",
    "\n",
    "                    if lon < 0:\n",
    "\n",
    "                        lon += 360\n",
    "\n",
    "                    coords_mod[0][j] = (lon, lat)\n",
    "\n",
    "                shape['geometry']['coordinates'] = coords_mod \n",
    "\n",
    "            else:\n",
    "\n",
    "                for i in range(len(shape['geometry']['coordinates'])):\n",
    "\n",
    "                    coords = shape['geometry']['coordinates'][i]\n",
    "\n",
    "                    coords_mod = coords.copy()\n",
    "\n",
    "                    for j in range(len(coords[0])):\n",
    "\n",
    "                        lon, lat = coords[0][j]\n",
    "\n",
    "                        if lon < 0:\n",
    "\n",
    "                            lon += 360\n",
    "\n",
    "                        coords_mod[0][j] = (lon, lat)\n",
    "\n",
    "                    shape['geometry']['coordinates'][i] = coords_mod \n",
    "\n",
    "            output.write(shape)"
   ]
  }
 ],
 "metadata": {
  "kernelspec": {
   "display_name": "Python 3",
   "language": "python",
   "name": "python3"
  },
  "language_info": {
   "codemirror_mode": {
    "name": "ipython",
    "version": 3
   },
   "file_extension": ".py",
   "mimetype": "text/x-python",
   "name": "python",
   "nbconvert_exporter": "python",
   "pygments_lexer": "ipython3",
   "version": "3.6.6"
  }
 },
 "nbformat": 4,
 "nbformat_minor": 2
}
