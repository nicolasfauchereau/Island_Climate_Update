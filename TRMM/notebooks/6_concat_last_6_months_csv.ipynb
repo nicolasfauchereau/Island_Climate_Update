{
 "cells": [
  {
   "cell_type": "code",
   "execution_count": 1,
   "metadata": {},
   "outputs": [],
   "source": [
    "%matplotlib inline"
   ]
  },
  {
   "cell_type": "code",
   "execution_count": 2,
   "metadata": {},
   "outputs": [],
   "source": [
    "import os "
   ]
  },
  {
   "cell_type": "code",
   "execution_count": 3,
   "metadata": {},
   "outputs": [],
   "source": [
    "import numpy as np \n",
    "import pandas as pd"
   ]
  },
  {
   "cell_type": "code",
   "execution_count": 4,
   "metadata": {},
   "outputs": [],
   "source": [
    "import pathlib"
   ]
  },
  {
   "cell_type": "code",
   "execution_count": 5,
   "metadata": {},
   "outputs": [],
   "source": [
    "bulletin_dir = 'AMJ_2019'"
   ]
  },
  {
   "cell_type": "markdown",
   "metadata": {},
   "source": [
    "### path to the last 6 months TRMM-derived rainfall anomalies and categories "
   ]
  },
  {
   "cell_type": "code",
   "execution_count": 6,
   "metadata": {},
   "outputs": [],
   "source": [
    "dpath = pathlib.Path.cwd().parent / 'outputs' / 'Time_Series' / 'last_6_months'"
   ]
  },
  {
   "cell_type": "code",
   "execution_count": 7,
   "metadata": {},
   "outputs": [],
   "source": [
    "opath = pathlib.Path.cwd().parents[1] / 'bulletin' / bulletin_dir"
   ]
  },
  {
   "cell_type": "code",
   "execution_count": 8,
   "metadata": {},
   "outputs": [],
   "source": [
    "lfiles = dpath.glob('*.csv')"
   ]
  },
  {
   "cell_type": "markdown",
   "metadata": {},
   "source": [
    "### reads the last 6 months categories for each Island group, and concatenates "
   ]
  },
  {
   "cell_type": "code",
   "execution_count": 9,
   "metadata": {},
   "outputs": [],
   "source": [
    "l = []\n",
    "for f in lfiles: \n",
    "    data = pd.read_csv(f)\n",
    "    data = data.T.iloc[-1,:]\n",
    "    data = data.to_frame()\n",
    "    data.columns = [str(f).split('/')[-1][:-11]]\n",
    "    l.append(data)"
   ]
  },
  {
   "cell_type": "code",
   "execution_count": 10,
   "metadata": {},
   "outputs": [],
   "source": [
    "df = pd.concat(l, axis=1)"
   ]
  },
  {
   "cell_type": "code",
   "execution_count": 11,
   "metadata": {},
   "outputs": [],
   "source": [
    "data_keep = pd.read_csv(dpath / 'New_Caledonia_pbased.csv')"
   ]
  },
  {
   "cell_type": "code",
   "execution_count": 12,
   "metadata": {},
   "outputs": [],
   "source": [
    "df.loc[:,'year'] = data_keep.year"
   ]
  },
  {
   "cell_type": "code",
   "execution_count": 13,
   "metadata": {},
   "outputs": [],
   "source": [
    "df.loc[:,'month'] = data_keep.month"
   ]
  },
  {
   "cell_type": "code",
   "execution_count": 14,
   "metadata": {},
   "outputs": [
    {
     "data": {
      "text/plain": [
       "RangeIndex(start=0, stop=6, step=1)"
      ]
     },
     "execution_count": 14,
     "metadata": {},
     "output_type": "execute_result"
    }
   ],
   "source": [
    "df.index"
   ]
  },
  {
   "cell_type": "code",
   "execution_count": 15,
   "metadata": {},
   "outputs": [
    {
     "data": {
      "text/html": [
       "<div>\n",
       "<style scoped>\n",
       "    .dataframe tbody tr th:only-of-type {\n",
       "        vertical-align: middle;\n",
       "    }\n",
       "\n",
       "    .dataframe tbody tr th {\n",
       "        vertical-align: top;\n",
       "    }\n",
       "\n",
       "    .dataframe thead th {\n",
       "        text-align: right;\n",
       "    }\n",
       "</style>\n",
       "<table border=\"1\" class=\"dataframe\">\n",
       "  <thead>\n",
       "    <tr style=\"text-align: right;\">\n",
       "      <th></th>\n",
       "      <th>Palau</th>\n",
       "      <th>Papua_New_Guinea</th>\n",
       "      <th>Society_Islands</th>\n",
       "      <th>Niue</th>\n",
       "      <th>Kiribati_Phoenix_Islands</th>\n",
       "      <th>Wallis_and_Futuna</th>\n",
       "      <th>Marquesas</th>\n",
       "      <th>Fiji</th>\n",
       "      <th>Kiribati_Line_Islands</th>\n",
       "      <th>Vanuatu_North</th>\n",
       "      <th>...</th>\n",
       "      <th>Solomon_Islands</th>\n",
       "      <th>Tonga</th>\n",
       "      <th>Pitcairn_Islands</th>\n",
       "      <th>Guam</th>\n",
       "      <th>Northern_Marianas</th>\n",
       "      <th>Federated_States_of_Micronesia</th>\n",
       "      <th>Marshall_Islands</th>\n",
       "      <th>American_Samoa</th>\n",
       "      <th>year</th>\n",
       "      <th>month</th>\n",
       "    </tr>\n",
       "  </thead>\n",
       "  <tbody>\n",
       "    <tr>\n",
       "      <th>0</th>\n",
       "      <td>Normal</td>\n",
       "      <td>Below</td>\n",
       "      <td>Well below</td>\n",
       "      <td>Below</td>\n",
       "      <td>Above</td>\n",
       "      <td>Well above</td>\n",
       "      <td>Below</td>\n",
       "      <td>Well above</td>\n",
       "      <td>Below</td>\n",
       "      <td>Below</td>\n",
       "      <td>...</td>\n",
       "      <td>Below</td>\n",
       "      <td>Above</td>\n",
       "      <td>Well above</td>\n",
       "      <td>Below</td>\n",
       "      <td>Normal</td>\n",
       "      <td>Well below</td>\n",
       "      <td>Normal</td>\n",
       "      <td>Well above</td>\n",
       "      <td>2018</td>\n",
       "      <td>10</td>\n",
       "    </tr>\n",
       "    <tr>\n",
       "      <th>1</th>\n",
       "      <td>Normal</td>\n",
       "      <td>Normal</td>\n",
       "      <td>Below</td>\n",
       "      <td>Well below</td>\n",
       "      <td>Well above</td>\n",
       "      <td>Below</td>\n",
       "      <td>Normal</td>\n",
       "      <td>Normal</td>\n",
       "      <td>Above</td>\n",
       "      <td>Well below</td>\n",
       "      <td>...</td>\n",
       "      <td>Well above</td>\n",
       "      <td>Well below</td>\n",
       "      <td>Below</td>\n",
       "      <td>Above</td>\n",
       "      <td>Above</td>\n",
       "      <td>Below</td>\n",
       "      <td>Below</td>\n",
       "      <td>Below</td>\n",
       "      <td>2018</td>\n",
       "      <td>11</td>\n",
       "    </tr>\n",
       "    <tr>\n",
       "      <th>2</th>\n",
       "      <td>Normal</td>\n",
       "      <td>Above</td>\n",
       "      <td>Well below</td>\n",
       "      <td>Well above</td>\n",
       "      <td>Normal</td>\n",
       "      <td>Well above</td>\n",
       "      <td>Above</td>\n",
       "      <td>Well above</td>\n",
       "      <td>Normal</td>\n",
       "      <td>Well above</td>\n",
       "      <td>...</td>\n",
       "      <td>Well above</td>\n",
       "      <td>Well above</td>\n",
       "      <td>Below</td>\n",
       "      <td>Above</td>\n",
       "      <td>Below</td>\n",
       "      <td>Below</td>\n",
       "      <td>Above</td>\n",
       "      <td>Well above</td>\n",
       "      <td>2018</td>\n",
       "      <td>12</td>\n",
       "    </tr>\n",
       "    <tr>\n",
       "      <th>3</th>\n",
       "      <td>Below</td>\n",
       "      <td>Normal</td>\n",
       "      <td>Above</td>\n",
       "      <td>Above</td>\n",
       "      <td>Normal</td>\n",
       "      <td>Above</td>\n",
       "      <td>Normal</td>\n",
       "      <td>Well above</td>\n",
       "      <td>Above</td>\n",
       "      <td>Below</td>\n",
       "      <td>...</td>\n",
       "      <td>Below</td>\n",
       "      <td>Well above</td>\n",
       "      <td>Well below</td>\n",
       "      <td>Normal</td>\n",
       "      <td>Below</td>\n",
       "      <td>Well above</td>\n",
       "      <td>Normal</td>\n",
       "      <td>Well below</td>\n",
       "      <td>2019</td>\n",
       "      <td>1</td>\n",
       "    </tr>\n",
       "    <tr>\n",
       "      <th>4</th>\n",
       "      <td>Well below</td>\n",
       "      <td>Well below</td>\n",
       "      <td>Normal</td>\n",
       "      <td>Below</td>\n",
       "      <td>Well above</td>\n",
       "      <td>Well above</td>\n",
       "      <td>Well below</td>\n",
       "      <td>Normal</td>\n",
       "      <td>Above</td>\n",
       "      <td>Above</td>\n",
       "      <td>...</td>\n",
       "      <td>Above</td>\n",
       "      <td>Well above</td>\n",
       "      <td>Above</td>\n",
       "      <td>Well above</td>\n",
       "      <td>Above</td>\n",
       "      <td>Below</td>\n",
       "      <td>Above</td>\n",
       "      <td>Well above</td>\n",
       "      <td>2019</td>\n",
       "      <td>2</td>\n",
       "    </tr>\n",
       "    <tr>\n",
       "      <th>5</th>\n",
       "      <td>Above</td>\n",
       "      <td>Well above</td>\n",
       "      <td>Above</td>\n",
       "      <td>Well below</td>\n",
       "      <td>Above</td>\n",
       "      <td>Well below</td>\n",
       "      <td>Normal</td>\n",
       "      <td>Well below</td>\n",
       "      <td>Well above</td>\n",
       "      <td>Well below</td>\n",
       "      <td>...</td>\n",
       "      <td>Well below</td>\n",
       "      <td>Normal</td>\n",
       "      <td>Well above</td>\n",
       "      <td>Below</td>\n",
       "      <td>Well below</td>\n",
       "      <td>Well above</td>\n",
       "      <td>Normal</td>\n",
       "      <td>Below</td>\n",
       "      <td>2019</td>\n",
       "      <td>3</td>\n",
       "    </tr>\n",
       "  </tbody>\n",
       "</table>\n",
       "<p>6 rows × 31 columns</p>\n",
       "</div>"
      ],
      "text/plain": [
       "        Palau Papua_New_Guinea Society_Islands        Niue  \\\n",
       "0      Normal            Below      Well below       Below   \n",
       "1      Normal           Normal           Below  Well below   \n",
       "2      Normal            Above      Well below  Well above   \n",
       "3       Below           Normal           Above       Above   \n",
       "4  Well below       Well below          Normal       Below   \n",
       "5       Above       Well above           Above  Well below   \n",
       "\n",
       "  Kiribati_Phoenix_Islands Wallis_and_Futuna   Marquesas        Fiji  \\\n",
       "0                    Above        Well above       Below  Well above   \n",
       "1               Well above             Below      Normal      Normal   \n",
       "2                   Normal        Well above       Above  Well above   \n",
       "3                   Normal             Above      Normal  Well above   \n",
       "4               Well above        Well above  Well below      Normal   \n",
       "5                    Above        Well below      Normal  Well below   \n",
       "\n",
       "  Kiribati_Line_Islands Vanuatu_North  ... Solomon_Islands       Tonga  \\\n",
       "0                 Below         Below  ...           Below       Above   \n",
       "1                 Above    Well below  ...      Well above  Well below   \n",
       "2                Normal    Well above  ...      Well above  Well above   \n",
       "3                 Above         Below  ...           Below  Well above   \n",
       "4                 Above         Above  ...           Above  Well above   \n",
       "5            Well above    Well below  ...      Well below      Normal   \n",
       "\n",
       "  Pitcairn_Islands        Guam Northern_Marianas  \\\n",
       "0       Well above       Below            Normal   \n",
       "1            Below       Above             Above   \n",
       "2            Below       Above             Below   \n",
       "3       Well below      Normal             Below   \n",
       "4            Above  Well above             Above   \n",
       "5       Well above       Below        Well below   \n",
       "\n",
       "  Federated_States_of_Micronesia Marshall_Islands American_Samoa  year month  \n",
       "0                     Well below           Normal     Well above  2018    10  \n",
       "1                          Below            Below          Below  2018    11  \n",
       "2                          Below            Above     Well above  2018    12  \n",
       "3                     Well above           Normal     Well below  2019     1  \n",
       "4                          Below            Above     Well above  2019     2  \n",
       "5                     Well above           Normal          Below  2019     3  \n",
       "\n",
       "[6 rows x 31 columns]"
      ]
     },
     "execution_count": 15,
     "metadata": {},
     "output_type": "execute_result"
    }
   ],
   "source": [
    "df"
   ]
  },
  {
   "cell_type": "code",
   "execution_count": 16,
   "metadata": {},
   "outputs": [
    {
     "data": {
      "text/plain": [
       "0    10\n",
       "1    11\n",
       "2    12\n",
       "3     1\n",
       "4     2\n",
       "5     3\n",
       "Name: month, dtype: int64"
      ]
     },
     "execution_count": 16,
     "metadata": {},
     "output_type": "execute_result"
    }
   ],
   "source": [
    "df.month"
   ]
  },
  {
   "cell_type": "markdown",
   "metadata": {},
   "source": [
    "### this just to make sure that we have the last 6 months ... "
   ]
  },
  {
   "cell_type": "code",
   "execution_count": 17,
   "metadata": {},
   "outputs": [],
   "source": [
    "df = df.iloc[-6:]"
   ]
  },
  {
   "cell_type": "markdown",
   "metadata": {},
   "source": [
    "### saves to disk in the corresponding bulletin directory "
   ]
  },
  {
   "cell_type": "code",
   "execution_count": 23,
   "metadata": {},
   "outputs": [],
   "source": [
    "if not opath.exists(): \n",
    "    opath.mkdir()"
   ]
  },
  {
   "cell_type": "code",
   "execution_count": 24,
   "metadata": {},
   "outputs": [],
   "source": [
    "df.to_csv(opath / 'last_6_months_TRMM_categories.csv') "
   ]
  },
  {
   "cell_type": "code",
   "execution_count": null,
   "metadata": {},
   "outputs": [],
   "source": []
  }
 ],
 "metadata": {
  "anaconda-cloud": {},
  "kernelspec": {
   "display_name": "Python 3",
   "language": "python",
   "name": "python3"
  },
  "language_info": {
   "codemirror_mode": {
    "name": "ipython",
    "version": 3
   },
   "file_extension": ".py",
   "mimetype": "text/x-python",
   "name": "python",
   "nbconvert_exporter": "python",
   "pygments_lexer": "ipython3",
   "version": "3.6.6"
  },
  "latex_envs": {
   "LaTeX_envs_menu_present": true,
   "autocomplete": true,
   "bibliofile": "biblio.bib",
   "cite_by": "apalike",
   "current_citInitial": 1,
   "eqLabelWithNumbers": true,
   "eqNumInitial": 1,
   "hotkeys": {
    "equation": "Ctrl-E",
    "itemize": "Ctrl-I"
   },
   "labels_anchors": false,
   "latex_user_defs": false,
   "report_style_numbering": false,
   "user_envs_cfg": false
  },
  "toc": {
   "colors": {
    "hover_highlight": "#DAA520",
    "running_highlight": "#FF0000",
    "selected_highlight": "#FFD700"
   },
   "moveMenuLeft": true,
   "nav_menu": {
    "height": "12px",
    "width": "252px"
   },
   "navigate_menu": true,
   "number_sections": true,
   "sideBar": true,
   "threshold": 4,
   "toc_cell": false,
   "toc_section_display": "block",
   "toc_window_display": false,
   "widenNotebook": false
  }
 },
 "nbformat": 4,
 "nbformat_minor": 2
}
