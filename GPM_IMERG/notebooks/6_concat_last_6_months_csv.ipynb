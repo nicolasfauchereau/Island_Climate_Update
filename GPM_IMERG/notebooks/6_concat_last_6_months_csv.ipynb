{
 "cells": [
  {
   "cell_type": "code",
   "execution_count": 41,
   "metadata": {},
   "outputs": [],
   "source": [
    "%matplotlib inline"
   ]
  },
  {
   "cell_type": "code",
   "execution_count": 42,
   "metadata": {},
   "outputs": [],
   "source": [
    "import os "
   ]
  },
  {
   "cell_type": "code",
   "execution_count": 43,
   "metadata": {},
   "outputs": [],
   "source": [
    "import numpy as np \n",
    "import pandas as pd"
   ]
  },
  {
   "cell_type": "code",
   "execution_count": 44,
   "metadata": {},
   "outputs": [],
   "source": [
    "import pathlib"
   ]
  },
  {
   "cell_type": "markdown",
   "metadata": {},
   "source": [
    "### change the name of the bulletin folder here "
   ]
  },
  {
   "cell_type": "code",
   "execution_count": 45,
   "metadata": {},
   "outputs": [],
   "source": [
    "bulletin_dir = 'FMA_2020'"
   ]
  },
  {
   "cell_type": "markdown",
   "metadata": {},
   "source": [
    "### path to the last 6 months TRMM-derived rainfall anomalies and categories "
   ]
  },
  {
   "cell_type": "code",
   "execution_count": 46,
   "metadata": {},
   "outputs": [],
   "source": [
    "dpath = pathlib.Path.cwd().parent / 'outputs' / 'Time_Series' / 'last_6_months'"
   ]
  },
  {
   "cell_type": "code",
   "execution_count": 47,
   "metadata": {},
   "outputs": [],
   "source": [
    "opath = pathlib.Path.cwd().parents[1] / 'bulletin' / bulletin_dir"
   ]
  },
  {
   "cell_type": "markdown",
   "metadata": {},
   "source": [
    "### if the bulletin folder doesnt exists, create it "
   ]
  },
  {
   "cell_type": "code",
   "execution_count": 48,
   "metadata": {},
   "outputs": [],
   "source": [
    "if not opath.exists(): \n",
    "    opath.mkdir()"
   ]
  },
  {
   "cell_type": "markdown",
   "metadata": {},
   "source": [
    "### get the list of files"
   ]
  },
  {
   "cell_type": "code",
   "execution_count": 49,
   "metadata": {},
   "outputs": [],
   "source": [
    "lfiles = list(dpath.glob('GPM_IMERG*.csv'))"
   ]
  },
  {
   "cell_type": "code",
   "execution_count": 50,
   "metadata": {},
   "outputs": [
    {
     "data": {
      "text/plain": [
       "29"
      ]
     },
     "execution_count": 50,
     "metadata": {},
     "output_type": "execute_result"
    }
   ],
   "source": [
    "len(lfiles)"
   ]
  },
  {
   "cell_type": "code",
   "execution_count": 51,
   "metadata": {},
   "outputs": [
    {
     "data": {
      "text/plain": [
       "[PosixPath('/home/nicolasf/operational/ICU/ops/GPM_IMERG/outputs/Time_Series/last_6_months/GPM_IMERG_Papua_New_Guinea_pbased.csv'),\n",
       " PosixPath('/home/nicolasf/operational/ICU/ops/GPM_IMERG/outputs/Time_Series/last_6_months/GPM_IMERG_Marshall_Islands_pbased.csv'),\n",
       " PosixPath('/home/nicolasf/operational/ICU/ops/GPM_IMERG/outputs/Time_Series/last_6_months/GPM_IMERG_Kiribati_Phoenix_Islands_pbased.csv'),\n",
       " PosixPath('/home/nicolasf/operational/ICU/ops/GPM_IMERG/outputs/Time_Series/last_6_months/GPM_IMERG_Northern_Cook_Islands_pbased.csv'),\n",
       " PosixPath('/home/nicolasf/operational/ICU/ops/GPM_IMERG/outputs/Time_Series/last_6_months/GPM_IMERG_Samoa_pbased.csv'),\n",
       " PosixPath('/home/nicolasf/operational/ICU/ops/GPM_IMERG/outputs/Time_Series/last_6_months/GPM_IMERG_Vanuatu_South_pbased.csv'),\n",
       " PosixPath('/home/nicolasf/operational/ICU/ops/GPM_IMERG/outputs/Time_Series/last_6_months/GPM_IMERG_Guam_pbased.csv'),\n",
       " PosixPath('/home/nicolasf/operational/ICU/ops/GPM_IMERG/outputs/Time_Series/last_6_months/GPM_IMERG_Solomon_Islands_pbased.csv'),\n",
       " PosixPath('/home/nicolasf/operational/ICU/ops/GPM_IMERG/outputs/Time_Series/last_6_months/GPM_IMERG_Palau_pbased.csv'),\n",
       " PosixPath('/home/nicolasf/operational/ICU/ops/GPM_IMERG/outputs/Time_Series/last_6_months/GPM_IMERG_Austral_Islands_pbased.csv'),\n",
       " PosixPath('/home/nicolasf/operational/ICU/ops/GPM_IMERG/outputs/Time_Series/last_6_months/GPM_IMERG_Niue_pbased.csv'),\n",
       " PosixPath('/home/nicolasf/operational/ICU/ops/GPM_IMERG/outputs/Time_Series/last_6_months/GPM_IMERG_Society_Islands_pbased.csv'),\n",
       " PosixPath('/home/nicolasf/operational/ICU/ops/GPM_IMERG/outputs/Time_Series/last_6_months/GPM_IMERG_Fiji_pbased.csv'),\n",
       " PosixPath('/home/nicolasf/operational/ICU/ops/GPM_IMERG/outputs/Time_Series/last_6_months/GPM_IMERG_New_Caledonia_pbased.csv'),\n",
       " PosixPath('/home/nicolasf/operational/ICU/ops/GPM_IMERG/outputs/Time_Series/last_6_months/GPM_IMERG_Kiribati_Gilbert_Islands_pbased.csv'),\n",
       " PosixPath('/home/nicolasf/operational/ICU/ops/GPM_IMERG/outputs/Time_Series/last_6_months/GPM_IMERG_Kiribati_Line_Islands_pbased.csv'),\n",
       " PosixPath('/home/nicolasf/operational/ICU/ops/GPM_IMERG/outputs/Time_Series/last_6_months/GPM_IMERG_Pitcairn_Islands_pbased.csv'),\n",
       " PosixPath('/home/nicolasf/operational/ICU/ops/GPM_IMERG/outputs/Time_Series/last_6_months/GPM_IMERG_Tokelau_pbased.csv'),\n",
       " PosixPath('/home/nicolasf/operational/ICU/ops/GPM_IMERG/outputs/Time_Series/last_6_months/GPM_IMERG_American_Samoa_pbased.csv'),\n",
       " PosixPath('/home/nicolasf/operational/ICU/ops/GPM_IMERG/outputs/Time_Series/last_6_months/GPM_IMERG_Tuamotu__Gambier_Islands_pbased.csv'),\n",
       " PosixPath('/home/nicolasf/operational/ICU/ops/GPM_IMERG/outputs/Time_Series/last_6_months/GPM_IMERG_Federated_States_of_Micronesia_pbased.csv'),\n",
       " PosixPath('/home/nicolasf/operational/ICU/ops/GPM_IMERG/outputs/Time_Series/last_6_months/GPM_IMERG_Northern_Marianas_pbased.csv'),\n",
       " PosixPath('/home/nicolasf/operational/ICU/ops/GPM_IMERG/outputs/Time_Series/last_6_months/GPM_IMERG_Wallis_and_Futuna_pbased.csv'),\n",
       " PosixPath('/home/nicolasf/operational/ICU/ops/GPM_IMERG/outputs/Time_Series/last_6_months/GPM_IMERG_Tuvalu_pbased.csv'),\n",
       " PosixPath('/home/nicolasf/operational/ICU/ops/GPM_IMERG/outputs/Time_Series/last_6_months/GPM_IMERG_Marquesas_pbased.csv'),\n",
       " PosixPath('/home/nicolasf/operational/ICU/ops/GPM_IMERG/outputs/Time_Series/last_6_months/GPM_IMERG_Vanuatu_North_pbased.csv'),\n",
       " PosixPath('/home/nicolasf/operational/ICU/ops/GPM_IMERG/outputs/Time_Series/last_6_months/GPM_IMERG_Nauru_pbased.csv'),\n",
       " PosixPath('/home/nicolasf/operational/ICU/ops/GPM_IMERG/outputs/Time_Series/last_6_months/GPM_IMERG_Tonga_pbased.csv'),\n",
       " PosixPath('/home/nicolasf/operational/ICU/ops/GPM_IMERG/outputs/Time_Series/last_6_months/GPM_IMERG_Southern_Cook_Islands_pbased.csv')]"
      ]
     },
     "execution_count": 51,
     "metadata": {},
     "output_type": "execute_result"
    }
   ],
   "source": [
    "lfiles"
   ]
  },
  {
   "cell_type": "markdown",
   "metadata": {},
   "source": [
    "### reads the last 6 months categories for each Island group, and concatenates "
   ]
  },
  {
   "cell_type": "code",
   "execution_count": 52,
   "metadata": {},
   "outputs": [],
   "source": [
    "l = []\n",
    "for f in lfiles: \n",
    "    data = pd.read_csv(f)\n",
    "    data = data.T.iloc[-1,:]\n",
    "    data = data.to_frame()\n",
    "    data.columns = [str(f).split('/')[-1][:-11]]\n",
    "    l.append(data)"
   ]
  },
  {
   "cell_type": "code",
   "execution_count": 53,
   "metadata": {},
   "outputs": [],
   "source": [
    "df = pd.concat(l, axis=1)"
   ]
  },
  {
   "cell_type": "code",
   "execution_count": 54,
   "metadata": {},
   "outputs": [],
   "source": [
    "data_keep = pd.read_csv(dpath / 'GPM_IMERG_New_Caledonia_pbased.csv')"
   ]
  },
  {
   "cell_type": "code",
   "execution_count": 55,
   "metadata": {},
   "outputs": [],
   "source": [
    "df.loc[:,'year'] = data_keep.year"
   ]
  },
  {
   "cell_type": "code",
   "execution_count": 56,
   "metadata": {},
   "outputs": [],
   "source": [
    "df.loc[:,'month'] = data_keep.month"
   ]
  },
  {
   "cell_type": "code",
   "execution_count": 57,
   "metadata": {},
   "outputs": [
    {
     "data": {
      "text/plain": [
       "RangeIndex(start=0, stop=6, step=1)"
      ]
     },
     "execution_count": 57,
     "metadata": {},
     "output_type": "execute_result"
    }
   ],
   "source": [
    "df.index"
   ]
  },
  {
   "cell_type": "code",
   "execution_count": 58,
   "metadata": {},
   "outputs": [
    {
     "data": {
      "text/html": [
       "<div>\n",
       "<style scoped>\n",
       "    .dataframe tbody tr th:only-of-type {\n",
       "        vertical-align: middle;\n",
       "    }\n",
       "\n",
       "    .dataframe tbody tr th {\n",
       "        vertical-align: top;\n",
       "    }\n",
       "\n",
       "    .dataframe thead th {\n",
       "        text-align: right;\n",
       "    }\n",
       "</style>\n",
       "<table border=\"1\" class=\"dataframe\">\n",
       "  <thead>\n",
       "    <tr style=\"text-align: right;\">\n",
       "      <th></th>\n",
       "      <th>GPM_IMERG_Papua_New_Guinea</th>\n",
       "      <th>GPM_IMERG_Marshall_Islands</th>\n",
       "      <th>GPM_IMERG_Kiribati_Phoenix_Islands</th>\n",
       "      <th>GPM_IMERG_Northern_Cook_Islands</th>\n",
       "      <th>GPM_IMERG_Samoa</th>\n",
       "      <th>GPM_IMERG_Vanuatu_South</th>\n",
       "      <th>GPM_IMERG_Guam</th>\n",
       "      <th>GPM_IMERG_Solomon_Islands</th>\n",
       "      <th>GPM_IMERG_Palau</th>\n",
       "      <th>GPM_IMERG_Austral_Islands</th>\n",
       "      <th>...</th>\n",
       "      <th>GPM_IMERG_Northern_Marianas</th>\n",
       "      <th>GPM_IMERG_Wallis_and_Futuna</th>\n",
       "      <th>GPM_IMERG_Tuvalu</th>\n",
       "      <th>GPM_IMERG_Marquesas</th>\n",
       "      <th>GPM_IMERG_Vanuatu_North</th>\n",
       "      <th>GPM_IMERG_Nauru</th>\n",
       "      <th>GPM_IMERG_Tonga</th>\n",
       "      <th>GPM_IMERG_Southern_Cook_Islands</th>\n",
       "      <th>year</th>\n",
       "      <th>month</th>\n",
       "    </tr>\n",
       "  </thead>\n",
       "  <tbody>\n",
       "    <tr>\n",
       "      <th>0</th>\n",
       "      <td>Below</td>\n",
       "      <td>Below</td>\n",
       "      <td>Below</td>\n",
       "      <td>Well below</td>\n",
       "      <td>Well below</td>\n",
       "      <td>Below</td>\n",
       "      <td>Above</td>\n",
       "      <td>Well above</td>\n",
       "      <td>Normal</td>\n",
       "      <td>Below</td>\n",
       "      <td>...</td>\n",
       "      <td>Well above</td>\n",
       "      <td>Well above</td>\n",
       "      <td>Well above</td>\n",
       "      <td>Normal</td>\n",
       "      <td>Normal</td>\n",
       "      <td>Normal</td>\n",
       "      <td>Below</td>\n",
       "      <td>Below</td>\n",
       "      <td>2019</td>\n",
       "      <td>8</td>\n",
       "    </tr>\n",
       "    <tr>\n",
       "      <th>1</th>\n",
       "      <td>Well below</td>\n",
       "      <td>Above</td>\n",
       "      <td>Normal</td>\n",
       "      <td>Above</td>\n",
       "      <td>Below</td>\n",
       "      <td>Above</td>\n",
       "      <td>Above</td>\n",
       "      <td>Well above</td>\n",
       "      <td>Well below</td>\n",
       "      <td>Below</td>\n",
       "      <td>...</td>\n",
       "      <td>Well above</td>\n",
       "      <td>Above</td>\n",
       "      <td>Well above</td>\n",
       "      <td>Normal</td>\n",
       "      <td>Below</td>\n",
       "      <td>Normal</td>\n",
       "      <td>Normal</td>\n",
       "      <td>Normal</td>\n",
       "      <td>2019</td>\n",
       "      <td>9</td>\n",
       "    </tr>\n",
       "    <tr>\n",
       "      <th>2</th>\n",
       "      <td>Above</td>\n",
       "      <td>Normal</td>\n",
       "      <td>Normal</td>\n",
       "      <td>Normal</td>\n",
       "      <td>Normal</td>\n",
       "      <td>Well below</td>\n",
       "      <td>Below</td>\n",
       "      <td>Below</td>\n",
       "      <td>Normal</td>\n",
       "      <td>Well below</td>\n",
       "      <td>...</td>\n",
       "      <td>Well above</td>\n",
       "      <td>Below</td>\n",
       "      <td>Below</td>\n",
       "      <td>Well below</td>\n",
       "      <td>Well below</td>\n",
       "      <td>Above</td>\n",
       "      <td>Above</td>\n",
       "      <td>Well above</td>\n",
       "      <td>2019</td>\n",
       "      <td>10</td>\n",
       "    </tr>\n",
       "    <tr>\n",
       "      <th>3</th>\n",
       "      <td>Above</td>\n",
       "      <td>Above</td>\n",
       "      <td>Below</td>\n",
       "      <td>Well below</td>\n",
       "      <td>Well below</td>\n",
       "      <td>Well below</td>\n",
       "      <td>Well above</td>\n",
       "      <td>Below</td>\n",
       "      <td>Normal</td>\n",
       "      <td>Well above</td>\n",
       "      <td>...</td>\n",
       "      <td>Well above</td>\n",
       "      <td>Below</td>\n",
       "      <td>Well below</td>\n",
       "      <td>Well below</td>\n",
       "      <td>Well below</td>\n",
       "      <td>Normal</td>\n",
       "      <td>Below</td>\n",
       "      <td>Well above</td>\n",
       "      <td>2019</td>\n",
       "      <td>11</td>\n",
       "    </tr>\n",
       "    <tr>\n",
       "      <th>4</th>\n",
       "      <td>Well below</td>\n",
       "      <td>Below</td>\n",
       "      <td>Below</td>\n",
       "      <td>Normal</td>\n",
       "      <td>Well above</td>\n",
       "      <td>Well below</td>\n",
       "      <td>Well below</td>\n",
       "      <td>Well below</td>\n",
       "      <td>Below</td>\n",
       "      <td>Well below</td>\n",
       "      <td>...</td>\n",
       "      <td>Well below</td>\n",
       "      <td>Normal</td>\n",
       "      <td>Well above</td>\n",
       "      <td>Well below</td>\n",
       "      <td>Well below</td>\n",
       "      <td>Above</td>\n",
       "      <td>Below</td>\n",
       "      <td>Well above</td>\n",
       "      <td>2019</td>\n",
       "      <td>12</td>\n",
       "    </tr>\n",
       "    <tr>\n",
       "      <th>5</th>\n",
       "      <td>Normal</td>\n",
       "      <td>Well above</td>\n",
       "      <td>Above</td>\n",
       "      <td>Below</td>\n",
       "      <td>Above</td>\n",
       "      <td>Below</td>\n",
       "      <td>Normal</td>\n",
       "      <td>Below</td>\n",
       "      <td>Below</td>\n",
       "      <td>Well below</td>\n",
       "      <td>...</td>\n",
       "      <td>Below</td>\n",
       "      <td>Above</td>\n",
       "      <td>Above</td>\n",
       "      <td>Above</td>\n",
       "      <td>Below</td>\n",
       "      <td>Above</td>\n",
       "      <td>Below</td>\n",
       "      <td>Below</td>\n",
       "      <td>2020</td>\n",
       "      <td>1</td>\n",
       "    </tr>\n",
       "  </tbody>\n",
       "</table>\n",
       "<p>6 rows × 31 columns</p>\n",
       "</div>"
      ],
      "text/plain": [
       "  GPM_IMERG_Papua_New_Guinea GPM_IMERG_Marshall_Islands  \\\n",
       "0                      Below                      Below   \n",
       "1                 Well below                      Above   \n",
       "2                      Above                     Normal   \n",
       "3                      Above                      Above   \n",
       "4                 Well below                      Below   \n",
       "5                     Normal                 Well above   \n",
       "\n",
       "  GPM_IMERG_Kiribati_Phoenix_Islands GPM_IMERG_Northern_Cook_Islands  \\\n",
       "0                              Below                      Well below   \n",
       "1                             Normal                           Above   \n",
       "2                             Normal                          Normal   \n",
       "3                              Below                      Well below   \n",
       "4                              Below                          Normal   \n",
       "5                              Above                           Below   \n",
       "\n",
       "  GPM_IMERG_Samoa GPM_IMERG_Vanuatu_South GPM_IMERG_Guam  \\\n",
       "0      Well below                   Below          Above   \n",
       "1           Below                   Above          Above   \n",
       "2          Normal              Well below          Below   \n",
       "3      Well below              Well below     Well above   \n",
       "4      Well above              Well below     Well below   \n",
       "5           Above                   Below         Normal   \n",
       "\n",
       "  GPM_IMERG_Solomon_Islands GPM_IMERG_Palau GPM_IMERG_Austral_Islands  ...  \\\n",
       "0                Well above          Normal                     Below  ...   \n",
       "1                Well above      Well below                     Below  ...   \n",
       "2                     Below          Normal                Well below  ...   \n",
       "3                     Below          Normal                Well above  ...   \n",
       "4                Well below           Below                Well below  ...   \n",
       "5                     Below           Below                Well below  ...   \n",
       "\n",
       "  GPM_IMERG_Northern_Marianas GPM_IMERG_Wallis_and_Futuna GPM_IMERG_Tuvalu  \\\n",
       "0                  Well above                  Well above       Well above   \n",
       "1                  Well above                       Above       Well above   \n",
       "2                  Well above                       Below            Below   \n",
       "3                  Well above                       Below       Well below   \n",
       "4                  Well below                      Normal       Well above   \n",
       "5                       Below                       Above            Above   \n",
       "\n",
       "  GPM_IMERG_Marquesas GPM_IMERG_Vanuatu_North GPM_IMERG_Nauru GPM_IMERG_Tonga  \\\n",
       "0              Normal                  Normal          Normal           Below   \n",
       "1              Normal                   Below          Normal          Normal   \n",
       "2          Well below              Well below           Above           Above   \n",
       "3          Well below              Well below          Normal           Below   \n",
       "4          Well below              Well below           Above           Below   \n",
       "5               Above                   Below           Above           Below   \n",
       "\n",
       "  GPM_IMERG_Southern_Cook_Islands  year month  \n",
       "0                           Below  2019     8  \n",
       "1                          Normal  2019     9  \n",
       "2                      Well above  2019    10  \n",
       "3                      Well above  2019    11  \n",
       "4                      Well above  2019    12  \n",
       "5                           Below  2020     1  \n",
       "\n",
       "[6 rows x 31 columns]"
      ]
     },
     "execution_count": 58,
     "metadata": {},
     "output_type": "execute_result"
    }
   ],
   "source": [
    "df"
   ]
  },
  {
   "cell_type": "code",
   "execution_count": 59,
   "metadata": {},
   "outputs": [
    {
     "data": {
      "text/plain": [
       "0     8\n",
       "1     9\n",
       "2    10\n",
       "3    11\n",
       "4    12\n",
       "5     1\n",
       "Name: month, dtype: int64"
      ]
     },
     "execution_count": 59,
     "metadata": {},
     "output_type": "execute_result"
    }
   ],
   "source": [
    "df.month"
   ]
  },
  {
   "cell_type": "markdown",
   "metadata": {},
   "source": [
    "### this just to make sure that we have the last 6 months ... "
   ]
  },
  {
   "cell_type": "code",
   "execution_count": 60,
   "metadata": {},
   "outputs": [],
   "source": [
    "df = df.iloc[-6:]"
   ]
  },
  {
   "cell_type": "markdown",
   "metadata": {},
   "source": [
    "### saves to disk in the corresponding bulletin directory "
   ]
  },
  {
   "cell_type": "code",
   "execution_count": 61,
   "metadata": {},
   "outputs": [],
   "source": [
    "df.to_csv(opath / 'last_6_months_GPM_IMERG_categories.csv') "
   ]
  },
  {
   "cell_type": "code",
   "execution_count": 62,
   "metadata": {},
   "outputs": [
    {
     "data": {
      "text/plain": [
       "PosixPath('/home/nicolasf/operational/ICU/ops/bulletin/FMA_2020')"
      ]
     },
     "execution_count": 62,
     "metadata": {},
     "output_type": "execute_result"
    }
   ],
   "source": [
    "opath"
   ]
  },
  {
   "cell_type": "code",
   "execution_count": 63,
   "metadata": {},
   "outputs": [
    {
     "data": {
      "text/html": [
       "<div>\n",
       "<style scoped>\n",
       "    .dataframe tbody tr th:only-of-type {\n",
       "        vertical-align: middle;\n",
       "    }\n",
       "\n",
       "    .dataframe tbody tr th {\n",
       "        vertical-align: top;\n",
       "    }\n",
       "\n",
       "    .dataframe thead th {\n",
       "        text-align: right;\n",
       "    }\n",
       "</style>\n",
       "<table border=\"1\" class=\"dataframe\">\n",
       "  <thead>\n",
       "    <tr style=\"text-align: right;\">\n",
       "      <th></th>\n",
       "      <th>GPM_IMERG_Papua_New_Guinea</th>\n",
       "      <th>GPM_IMERG_Marshall_Islands</th>\n",
       "      <th>GPM_IMERG_Kiribati_Phoenix_Islands</th>\n",
       "      <th>GPM_IMERG_Northern_Cook_Islands</th>\n",
       "      <th>GPM_IMERG_Samoa</th>\n",
       "      <th>GPM_IMERG_Vanuatu_South</th>\n",
       "      <th>GPM_IMERG_Guam</th>\n",
       "      <th>GPM_IMERG_Solomon_Islands</th>\n",
       "      <th>GPM_IMERG_Palau</th>\n",
       "      <th>GPM_IMERG_Austral_Islands</th>\n",
       "      <th>...</th>\n",
       "      <th>GPM_IMERG_Northern_Marianas</th>\n",
       "      <th>GPM_IMERG_Wallis_and_Futuna</th>\n",
       "      <th>GPM_IMERG_Tuvalu</th>\n",
       "      <th>GPM_IMERG_Marquesas</th>\n",
       "      <th>GPM_IMERG_Vanuatu_North</th>\n",
       "      <th>GPM_IMERG_Nauru</th>\n",
       "      <th>GPM_IMERG_Tonga</th>\n",
       "      <th>GPM_IMERG_Southern_Cook_Islands</th>\n",
       "      <th>year</th>\n",
       "      <th>month</th>\n",
       "    </tr>\n",
       "  </thead>\n",
       "  <tbody>\n",
       "    <tr>\n",
       "      <th>0</th>\n",
       "      <td>Below</td>\n",
       "      <td>Below</td>\n",
       "      <td>Below</td>\n",
       "      <td>Well below</td>\n",
       "      <td>Well below</td>\n",
       "      <td>Below</td>\n",
       "      <td>Above</td>\n",
       "      <td>Well above</td>\n",
       "      <td>Normal</td>\n",
       "      <td>Below</td>\n",
       "      <td>...</td>\n",
       "      <td>Well above</td>\n",
       "      <td>Well above</td>\n",
       "      <td>Well above</td>\n",
       "      <td>Normal</td>\n",
       "      <td>Normal</td>\n",
       "      <td>Normal</td>\n",
       "      <td>Below</td>\n",
       "      <td>Below</td>\n",
       "      <td>2019</td>\n",
       "      <td>8</td>\n",
       "    </tr>\n",
       "    <tr>\n",
       "      <th>1</th>\n",
       "      <td>Well below</td>\n",
       "      <td>Above</td>\n",
       "      <td>Normal</td>\n",
       "      <td>Above</td>\n",
       "      <td>Below</td>\n",
       "      <td>Above</td>\n",
       "      <td>Above</td>\n",
       "      <td>Well above</td>\n",
       "      <td>Well below</td>\n",
       "      <td>Below</td>\n",
       "      <td>...</td>\n",
       "      <td>Well above</td>\n",
       "      <td>Above</td>\n",
       "      <td>Well above</td>\n",
       "      <td>Normal</td>\n",
       "      <td>Below</td>\n",
       "      <td>Normal</td>\n",
       "      <td>Normal</td>\n",
       "      <td>Normal</td>\n",
       "      <td>2019</td>\n",
       "      <td>9</td>\n",
       "    </tr>\n",
       "    <tr>\n",
       "      <th>2</th>\n",
       "      <td>Above</td>\n",
       "      <td>Normal</td>\n",
       "      <td>Normal</td>\n",
       "      <td>Normal</td>\n",
       "      <td>Normal</td>\n",
       "      <td>Well below</td>\n",
       "      <td>Below</td>\n",
       "      <td>Below</td>\n",
       "      <td>Normal</td>\n",
       "      <td>Well below</td>\n",
       "      <td>...</td>\n",
       "      <td>Well above</td>\n",
       "      <td>Below</td>\n",
       "      <td>Below</td>\n",
       "      <td>Well below</td>\n",
       "      <td>Well below</td>\n",
       "      <td>Above</td>\n",
       "      <td>Above</td>\n",
       "      <td>Well above</td>\n",
       "      <td>2019</td>\n",
       "      <td>10</td>\n",
       "    </tr>\n",
       "    <tr>\n",
       "      <th>3</th>\n",
       "      <td>Above</td>\n",
       "      <td>Above</td>\n",
       "      <td>Below</td>\n",
       "      <td>Well below</td>\n",
       "      <td>Well below</td>\n",
       "      <td>Well below</td>\n",
       "      <td>Well above</td>\n",
       "      <td>Below</td>\n",
       "      <td>Normal</td>\n",
       "      <td>Well above</td>\n",
       "      <td>...</td>\n",
       "      <td>Well above</td>\n",
       "      <td>Below</td>\n",
       "      <td>Well below</td>\n",
       "      <td>Well below</td>\n",
       "      <td>Well below</td>\n",
       "      <td>Normal</td>\n",
       "      <td>Below</td>\n",
       "      <td>Well above</td>\n",
       "      <td>2019</td>\n",
       "      <td>11</td>\n",
       "    </tr>\n",
       "    <tr>\n",
       "      <th>4</th>\n",
       "      <td>Well below</td>\n",
       "      <td>Below</td>\n",
       "      <td>Below</td>\n",
       "      <td>Normal</td>\n",
       "      <td>Well above</td>\n",
       "      <td>Well below</td>\n",
       "      <td>Well below</td>\n",
       "      <td>Well below</td>\n",
       "      <td>Below</td>\n",
       "      <td>Well below</td>\n",
       "      <td>...</td>\n",
       "      <td>Well below</td>\n",
       "      <td>Normal</td>\n",
       "      <td>Well above</td>\n",
       "      <td>Well below</td>\n",
       "      <td>Well below</td>\n",
       "      <td>Above</td>\n",
       "      <td>Below</td>\n",
       "      <td>Well above</td>\n",
       "      <td>2019</td>\n",
       "      <td>12</td>\n",
       "    </tr>\n",
       "    <tr>\n",
       "      <th>5</th>\n",
       "      <td>Normal</td>\n",
       "      <td>Well above</td>\n",
       "      <td>Above</td>\n",
       "      <td>Below</td>\n",
       "      <td>Above</td>\n",
       "      <td>Below</td>\n",
       "      <td>Normal</td>\n",
       "      <td>Below</td>\n",
       "      <td>Below</td>\n",
       "      <td>Well below</td>\n",
       "      <td>...</td>\n",
       "      <td>Below</td>\n",
       "      <td>Above</td>\n",
       "      <td>Above</td>\n",
       "      <td>Above</td>\n",
       "      <td>Below</td>\n",
       "      <td>Above</td>\n",
       "      <td>Below</td>\n",
       "      <td>Below</td>\n",
       "      <td>2020</td>\n",
       "      <td>1</td>\n",
       "    </tr>\n",
       "  </tbody>\n",
       "</table>\n",
       "<p>6 rows × 31 columns</p>\n",
       "</div>"
      ],
      "text/plain": [
       "  GPM_IMERG_Papua_New_Guinea GPM_IMERG_Marshall_Islands  \\\n",
       "0                      Below                      Below   \n",
       "1                 Well below                      Above   \n",
       "2                      Above                     Normal   \n",
       "3                      Above                      Above   \n",
       "4                 Well below                      Below   \n",
       "5                     Normal                 Well above   \n",
       "\n",
       "  GPM_IMERG_Kiribati_Phoenix_Islands GPM_IMERG_Northern_Cook_Islands  \\\n",
       "0                              Below                      Well below   \n",
       "1                             Normal                           Above   \n",
       "2                             Normal                          Normal   \n",
       "3                              Below                      Well below   \n",
       "4                              Below                          Normal   \n",
       "5                              Above                           Below   \n",
       "\n",
       "  GPM_IMERG_Samoa GPM_IMERG_Vanuatu_South GPM_IMERG_Guam  \\\n",
       "0      Well below                   Below          Above   \n",
       "1           Below                   Above          Above   \n",
       "2          Normal              Well below          Below   \n",
       "3      Well below              Well below     Well above   \n",
       "4      Well above              Well below     Well below   \n",
       "5           Above                   Below         Normal   \n",
       "\n",
       "  GPM_IMERG_Solomon_Islands GPM_IMERG_Palau GPM_IMERG_Austral_Islands  ...  \\\n",
       "0                Well above          Normal                     Below  ...   \n",
       "1                Well above      Well below                     Below  ...   \n",
       "2                     Below          Normal                Well below  ...   \n",
       "3                     Below          Normal                Well above  ...   \n",
       "4                Well below           Below                Well below  ...   \n",
       "5                     Below           Below                Well below  ...   \n",
       "\n",
       "  GPM_IMERG_Northern_Marianas GPM_IMERG_Wallis_and_Futuna GPM_IMERG_Tuvalu  \\\n",
       "0                  Well above                  Well above       Well above   \n",
       "1                  Well above                       Above       Well above   \n",
       "2                  Well above                       Below            Below   \n",
       "3                  Well above                       Below       Well below   \n",
       "4                  Well below                      Normal       Well above   \n",
       "5                       Below                       Above            Above   \n",
       "\n",
       "  GPM_IMERG_Marquesas GPM_IMERG_Vanuatu_North GPM_IMERG_Nauru GPM_IMERG_Tonga  \\\n",
       "0              Normal                  Normal          Normal           Below   \n",
       "1              Normal                   Below          Normal          Normal   \n",
       "2          Well below              Well below           Above           Above   \n",
       "3          Well below              Well below          Normal           Below   \n",
       "4          Well below              Well below           Above           Below   \n",
       "5               Above                   Below           Above           Below   \n",
       "\n",
       "  GPM_IMERG_Southern_Cook_Islands  year month  \n",
       "0                           Below  2019     8  \n",
       "1                          Normal  2019     9  \n",
       "2                      Well above  2019    10  \n",
       "3                      Well above  2019    11  \n",
       "4                      Well above  2019    12  \n",
       "5                           Below  2020     1  \n",
       "\n",
       "[6 rows x 31 columns]"
      ]
     },
     "execution_count": 63,
     "metadata": {},
     "output_type": "execute_result"
    }
   ],
   "source": [
    "df"
   ]
  },
  {
   "cell_type": "code",
   "execution_count": null,
   "metadata": {},
   "outputs": [],
   "source": []
  },
  {
   "cell_type": "code",
   "execution_count": null,
   "metadata": {},
   "outputs": [],
   "source": []
  },
  {
   "cell_type": "code",
   "execution_count": null,
   "metadata": {},
   "outputs": [],
   "source": []
  },
  {
   "cell_type": "code",
   "execution_count": null,
   "metadata": {},
   "outputs": [],
   "source": []
  }
 ],
 "metadata": {
  "anaconda-cloud": {},
  "kernelspec": {
   "display_name": "Python 3",
   "language": "python",
   "name": "python3"
  },
  "language_info": {
   "codemirror_mode": {
    "name": "ipython",
    "version": 3
   },
   "file_extension": ".py",
   "mimetype": "text/x-python",
   "name": "python",
   "nbconvert_exporter": "python",
   "pygments_lexer": "ipython3",
   "version": "3.7.5"
  },
  "latex_envs": {
   "LaTeX_envs_menu_present": true,
   "autocomplete": true,
   "bibliofile": "biblio.bib",
   "cite_by": "apalike",
   "current_citInitial": 1,
   "eqLabelWithNumbers": true,
   "eqNumInitial": 1,
   "hotkeys": {
    "equation": "Ctrl-E",
    "itemize": "Ctrl-I"
   },
   "labels_anchors": false,
   "latex_user_defs": false,
   "report_style_numbering": false,
   "user_envs_cfg": false
  },
  "toc": {
   "colors": {
    "hover_highlight": "#DAA520",
    "running_highlight": "#FF0000",
    "selected_highlight": "#FFD700"
   },
   "moveMenuLeft": true,
   "nav_menu": {
    "height": "12px",
    "width": "252px"
   },
   "navigate_menu": true,
   "number_sections": true,
   "sideBar": true,
   "threshold": 4,
   "toc_cell": false,
   "toc_section_display": "block",
   "toc_window_display": false,
   "widenNotebook": false
  }
 },
 "nbformat": 4,
 "nbformat_minor": 4
}
