{
 "cells": [
  {
   "cell_type": "code",
   "execution_count": 6,
   "metadata": {},
   "outputs": [],
   "source": [
    "%matplotlib inline"
   ]
  },
  {
   "cell_type": "code",
   "execution_count": 7,
   "metadata": {},
   "outputs": [],
   "source": [
    "import os "
   ]
  },
  {
   "cell_type": "code",
   "execution_count": 8,
   "metadata": {},
   "outputs": [],
   "source": [
    "import numpy as np \n",
    "import pandas as pd"
   ]
  },
  {
   "cell_type": "code",
   "execution_count": 9,
   "metadata": {},
   "outputs": [],
   "source": [
    "import pathlib"
   ]
  },
  {
   "cell_type": "markdown",
   "metadata": {},
   "source": [
    "### change the name of the bulletin folder here "
   ]
  },
  {
   "cell_type": "code",
   "execution_count": 10,
   "metadata": {},
   "outputs": [],
   "source": [
    "bulletin_dir = 'FMA_2020'"
   ]
  },
  {
   "cell_type": "markdown",
   "metadata": {},
   "source": [
    "### path to the last 6 months TRMM-derived rainfall anomalies and categories "
   ]
  },
  {
   "cell_type": "code",
   "execution_count": 11,
   "metadata": {},
   "outputs": [],
   "source": [
    "dpath = pathlib.Path.cwd().parent / 'outputs' / 'Time_Series' / 'last_6_months'"
   ]
  },
  {
   "cell_type": "code",
   "execution_count": 12,
   "metadata": {},
   "outputs": [],
   "source": [
    "opath = pathlib.Path.cwd().parents[1] / 'bulletin' / bulletin_dir"
   ]
  },
  {
   "cell_type": "markdown",
   "metadata": {},
   "source": [
    "### if the bulletin folder doesnt exists, create it "
   ]
  },
  {
   "cell_type": "code",
   "execution_count": 13,
   "metadata": {},
   "outputs": [],
   "source": [
    "if not opath.exists(): \n",
    "    opath.mkdir()"
   ]
  },
  {
   "cell_type": "markdown",
   "metadata": {},
   "source": [
    "### get the list of files"
   ]
  },
  {
   "cell_type": "code",
   "execution_count": 16,
   "metadata": {},
   "outputs": [],
   "source": [
    "lfiles = list(dpath.glob('*.csv'))"
   ]
  },
  {
   "cell_type": "code",
   "execution_count": 17,
   "metadata": {},
   "outputs": [
    {
     "data": {
      "text/plain": [
       "[PosixPath('/home/nicolasf/operational/ICU/ops/GPM_IMERG/outputs/Time_Series/last_6_months/GPM_IMERG_Papua_New_Guinea_pbased.csv'),\n",
       " PosixPath('/home/nicolasf/operational/ICU/ops/GPM_IMERG/outputs/Time_Series/last_6_months/GPM_IMERG_Marshall_Islands_pbased.csv'),\n",
       " PosixPath('/home/nicolasf/operational/ICU/ops/GPM_IMERG/outputs/Time_Series/last_6_months/GPM_IMERG_Kiribati_Phoenix_Islands_pbased.csv'),\n",
       " PosixPath('/home/nicolasf/operational/ICU/ops/GPM_IMERG/outputs/Time_Series/last_6_months/GPM_IMERG_Northern_Cook_Islands_pbased.csv'),\n",
       " PosixPath('/home/nicolasf/operational/ICU/ops/GPM_IMERG/outputs/Time_Series/last_6_months/GPM_IMERG_Samoa_pbased.csv'),\n",
       " PosixPath('/home/nicolasf/operational/ICU/ops/GPM_IMERG/outputs/Time_Series/last_6_months/GPM_IMERG_Vanuatu_South_pbased.csv'),\n",
       " PosixPath('/home/nicolasf/operational/ICU/ops/GPM_IMERG/outputs/Time_Series/last_6_months/GPM_IMERG_Guam_pbased.csv'),\n",
       " PosixPath('/home/nicolasf/operational/ICU/ops/GPM_IMERG/outputs/Time_Series/last_6_months/GPM_IMERG_Solomon_Islands_pbased.csv'),\n",
       " PosixPath('/home/nicolasf/operational/ICU/ops/GPM_IMERG/outputs/Time_Series/last_6_months/GPM_IMERG_Palau_pbased.csv'),\n",
       " PosixPath('/home/nicolasf/operational/ICU/ops/GPM_IMERG/outputs/Time_Series/last_6_months/GPM_IMERG_Austral_Islands_pbased.csv'),\n",
       " PosixPath('/home/nicolasf/operational/ICU/ops/GPM_IMERG/outputs/Time_Series/last_6_months/GPM_IMERG_Niue_pbased.csv'),\n",
       " PosixPath('/home/nicolasf/operational/ICU/ops/GPM_IMERG/outputs/Time_Series/last_6_months/GPM_IMERG_Society_Islands_pbased.csv'),\n",
       " PosixPath('/home/nicolasf/operational/ICU/ops/GPM_IMERG/outputs/Time_Series/last_6_months/GPM_IMERG_Fiji_pbased.csv'),\n",
       " PosixPath('/home/nicolasf/operational/ICU/ops/GPM_IMERG/outputs/Time_Series/last_6_months/GPM_IMERG_New_Caledonia_pbased.csv'),\n",
       " PosixPath('/home/nicolasf/operational/ICU/ops/GPM_IMERG/outputs/Time_Series/last_6_months/GPM_IMERG_Kiribati_Gilbert_Islands_pbased.csv'),\n",
       " PosixPath('/home/nicolasf/operational/ICU/ops/GPM_IMERG/outputs/Time_Series/last_6_months/GPM_IMERG_Kiribati_Line_Islands_pbased.csv'),\n",
       " PosixPath('/home/nicolasf/operational/ICU/ops/GPM_IMERG/outputs/Time_Series/last_6_months/GPM_IMERG_Pitcairn_Islands_pbased.csv'),\n",
       " PosixPath('/home/nicolasf/operational/ICU/ops/GPM_IMERG/outputs/Time_Series/last_6_months/GPM_IMERG_Tokelau_pbased.csv'),\n",
       " PosixPath('/home/nicolasf/operational/ICU/ops/GPM_IMERG/outputs/Time_Series/last_6_months/GPM_IMERG_American_Samoa_pbased.csv'),\n",
       " PosixPath('/home/nicolasf/operational/ICU/ops/GPM_IMERG/outputs/Time_Series/last_6_months/GPM_IMERG_Tuamotu__Gambier_Islands_pbased.csv'),\n",
       " PosixPath('/home/nicolasf/operational/ICU/ops/GPM_IMERG/outputs/Time_Series/last_6_months/GPM_IMERG_Federated_States_of_Micronesia_pbased.csv'),\n",
       " PosixPath('/home/nicolasf/operational/ICU/ops/GPM_IMERG/outputs/Time_Series/last_6_months/GPM_IMERG_Northern_Marianas_pbased.csv'),\n",
       " PosixPath('/home/nicolasf/operational/ICU/ops/GPM_IMERG/outputs/Time_Series/last_6_months/GPM_IMERG_Wallis_and_Futuna_pbased.csv'),\n",
       " PosixPath('/home/nicolasf/operational/ICU/ops/GPM_IMERG/outputs/Time_Series/last_6_months/GPM_IMERG_Tuvalu_pbased.csv'),\n",
       " PosixPath('/home/nicolasf/operational/ICU/ops/GPM_IMERG/outputs/Time_Series/last_6_months/GPM_IMERG_Marquesas_pbased.csv'),\n",
       " PosixPath('/home/nicolasf/operational/ICU/ops/GPM_IMERG/outputs/Time_Series/last_6_months/GPM_IMERG_Vanuatu_North_pbased.csv'),\n",
       " PosixPath('/home/nicolasf/operational/ICU/ops/GPM_IMERG/outputs/Time_Series/last_6_months/GPM_IMERG_Nauru_pbased.csv'),\n",
       " PosixPath('/home/nicolasf/operational/ICU/ops/GPM_IMERG/outputs/Time_Series/last_6_months/GPM_IMERG_Tonga_pbased.csv'),\n",
       " PosixPath('/home/nicolasf/operational/ICU/ops/GPM_IMERG/outputs/Time_Series/last_6_months/GPM_IMERG_Southern_Cook_Islands_pbased.csv')]"
      ]
     },
     "execution_count": 17,
     "metadata": {},
     "output_type": "execute_result"
    }
   ],
   "source": [
    "lfiles"
   ]
  },
  {
   "cell_type": "code",
   "execution_count": 18,
   "metadata": {},
   "outputs": [
    {
     "data": {
      "text/plain": [
       "29"
      ]
     },
     "execution_count": 18,
     "metadata": {},
     "output_type": "execute_result"
    }
   ],
   "source": [
    "len(lfiles)"
   ]
  },
  {
   "cell_type": "markdown",
   "metadata": {},
   "source": [
    "### reads the last 6 months categories for each Island group, and concatenates "
   ]
  },
  {
   "cell_type": "code",
   "execution_count": 10,
   "metadata": {},
   "outputs": [],
   "source": [
    "l = []\n",
    "for f in lfiles: \n",
    "    data = pd.read_csv(f)\n",
    "    data = data.T.iloc[-1,:]\n",
    "    data = data.to_frame()\n",
    "    data.columns = [str(f).split('/')[-1][:-11]]\n",
    "    l.append(data)"
   ]
  },
  {
   "cell_type": "code",
   "execution_count": 11,
   "metadata": {},
   "outputs": [],
   "source": [
    "df = pd.concat(l, axis=1)"
   ]
  },
  {
   "cell_type": "code",
   "execution_count": 12,
   "metadata": {},
   "outputs": [],
   "source": [
    "data_keep = pd.read_csv(dpath / 'New_Caledonia_pbased.csv')"
   ]
  },
  {
   "cell_type": "code",
   "execution_count": 13,
   "metadata": {},
   "outputs": [],
   "source": [
    "df.loc[:,'year'] = data_keep.year"
   ]
  },
  {
   "cell_type": "code",
   "execution_count": 14,
   "metadata": {},
   "outputs": [],
   "source": [
    "df.loc[:,'month'] = data_keep.month"
   ]
  },
  {
   "cell_type": "code",
   "execution_count": 15,
   "metadata": {},
   "outputs": [
    {
     "data": {
      "text/plain": [
       "RangeIndex(start=0, stop=6, step=1)"
      ]
     },
     "execution_count": 15,
     "metadata": {},
     "output_type": "execute_result"
    }
   ],
   "source": [
    "df.index"
   ]
  },
  {
   "cell_type": "code",
   "execution_count": 16,
   "metadata": {},
   "outputs": [
    {
     "data": {
      "text/html": [
       "<div>\n",
       "<style scoped>\n",
       "    .dataframe tbody tr th:only-of-type {\n",
       "        vertical-align: middle;\n",
       "    }\n",
       "\n",
       "    .dataframe tbody tr th {\n",
       "        vertical-align: top;\n",
       "    }\n",
       "\n",
       "    .dataframe thead th {\n",
       "        text-align: right;\n",
       "    }\n",
       "</style>\n",
       "<table border=\"1\" class=\"dataframe\">\n",
       "  <thead>\n",
       "    <tr style=\"text-align: right;\">\n",
       "      <th></th>\n",
       "      <th>Palau</th>\n",
       "      <th>Papua_New_Guinea</th>\n",
       "      <th>Society_Islands</th>\n",
       "      <th>Niue</th>\n",
       "      <th>Kiribati_Phoenix_Islands</th>\n",
       "      <th>Wallis_and_Futuna</th>\n",
       "      <th>Marquesas</th>\n",
       "      <th>Fiji</th>\n",
       "      <th>Kiribati_Line_Islands</th>\n",
       "      <th>Vanuatu_North</th>\n",
       "      <th>...</th>\n",
       "      <th>Solomon_Islands</th>\n",
       "      <th>Tonga</th>\n",
       "      <th>Pitcairn_Islands</th>\n",
       "      <th>Guam</th>\n",
       "      <th>Northern_Marianas</th>\n",
       "      <th>Federated_States_of_Micronesia</th>\n",
       "      <th>Marshall_Islands</th>\n",
       "      <th>American_Samoa</th>\n",
       "      <th>year</th>\n",
       "      <th>month</th>\n",
       "    </tr>\n",
       "  </thead>\n",
       "  <tbody>\n",
       "    <tr>\n",
       "      <th>0</th>\n",
       "      <td>Normal</td>\n",
       "      <td>Below</td>\n",
       "      <td>Well above</td>\n",
       "      <td>Above</td>\n",
       "      <td>Well below</td>\n",
       "      <td>Well above</td>\n",
       "      <td>Above</td>\n",
       "      <td>Normal</td>\n",
       "      <td>Well above</td>\n",
       "      <td>Normal</td>\n",
       "      <td>...</td>\n",
       "      <td>Well above</td>\n",
       "      <td>Well above</td>\n",
       "      <td>Well above</td>\n",
       "      <td>Below</td>\n",
       "      <td>Below</td>\n",
       "      <td>Normal</td>\n",
       "      <td>Below</td>\n",
       "      <td>Well above</td>\n",
       "      <td>2019</td>\n",
       "      <td>7</td>\n",
       "    </tr>\n",
       "    <tr>\n",
       "      <th>1</th>\n",
       "      <td>Above</td>\n",
       "      <td>Normal</td>\n",
       "      <td>Below</td>\n",
       "      <td>Well above</td>\n",
       "      <td>Normal</td>\n",
       "      <td>Well above</td>\n",
       "      <td>Above</td>\n",
       "      <td>Below</td>\n",
       "      <td>Normal</td>\n",
       "      <td>Well above</td>\n",
       "      <td>...</td>\n",
       "      <td>Well above</td>\n",
       "      <td>Below</td>\n",
       "      <td>Well below</td>\n",
       "      <td>Above</td>\n",
       "      <td>Well above</td>\n",
       "      <td>Well above</td>\n",
       "      <td>Above</td>\n",
       "      <td>Below</td>\n",
       "      <td>2019</td>\n",
       "      <td>8</td>\n",
       "    </tr>\n",
       "    <tr>\n",
       "      <th>2</th>\n",
       "      <td>Well below</td>\n",
       "      <td>Well below</td>\n",
       "      <td>Below</td>\n",
       "      <td>Well above</td>\n",
       "      <td>Above</td>\n",
       "      <td>Well above</td>\n",
       "      <td>Well above</td>\n",
       "      <td>Above</td>\n",
       "      <td>Normal</td>\n",
       "      <td>Above</td>\n",
       "      <td>...</td>\n",
       "      <td>Well above</td>\n",
       "      <td>Below</td>\n",
       "      <td>Above</td>\n",
       "      <td>Well above</td>\n",
       "      <td>Well above</td>\n",
       "      <td>Below</td>\n",
       "      <td>Well above</td>\n",
       "      <td>Above</td>\n",
       "      <td>2019</td>\n",
       "      <td>9</td>\n",
       "    </tr>\n",
       "    <tr>\n",
       "      <th>3</th>\n",
       "      <td>Below</td>\n",
       "      <td>Well above</td>\n",
       "      <td>Below</td>\n",
       "      <td>Above</td>\n",
       "      <td>Below</td>\n",
       "      <td>Normal</td>\n",
       "      <td>Well below</td>\n",
       "      <td>Well above</td>\n",
       "      <td>Below</td>\n",
       "      <td>Well below</td>\n",
       "      <td>...</td>\n",
       "      <td>Normal</td>\n",
       "      <td>Above</td>\n",
       "      <td>Well above</td>\n",
       "      <td>Normal</td>\n",
       "      <td>Above</td>\n",
       "      <td>Well below</td>\n",
       "      <td>Above</td>\n",
       "      <td>Normal</td>\n",
       "      <td>2019</td>\n",
       "      <td>10</td>\n",
       "    </tr>\n",
       "    <tr>\n",
       "      <th>4</th>\n",
       "      <td>Normal</td>\n",
       "      <td>Well above</td>\n",
       "      <td>Above</td>\n",
       "      <td>Below</td>\n",
       "      <td>Below</td>\n",
       "      <td>Normal</td>\n",
       "      <td>Well below</td>\n",
       "      <td>Normal</td>\n",
       "      <td>Below</td>\n",
       "      <td>Below</td>\n",
       "      <td>...</td>\n",
       "      <td>Normal</td>\n",
       "      <td>Below</td>\n",
       "      <td>Above</td>\n",
       "      <td>Well above</td>\n",
       "      <td>Well above</td>\n",
       "      <td>Well above</td>\n",
       "      <td>Well above</td>\n",
       "      <td>Well below</td>\n",
       "      <td>2019</td>\n",
       "      <td>11</td>\n",
       "    </tr>\n",
       "    <tr>\n",
       "      <th>5</th>\n",
       "      <td>Normal</td>\n",
       "      <td>Well below</td>\n",
       "      <td>Well above</td>\n",
       "      <td>Above</td>\n",
       "      <td>Normal</td>\n",
       "      <td>Normal</td>\n",
       "      <td>Well below</td>\n",
       "      <td>Above</td>\n",
       "      <td>Well below</td>\n",
       "      <td>Well below</td>\n",
       "      <td>...</td>\n",
       "      <td>Below</td>\n",
       "      <td>Normal</td>\n",
       "      <td>Well above</td>\n",
       "      <td>Well below</td>\n",
       "      <td>Well below</td>\n",
       "      <td>Well above</td>\n",
       "      <td>Normal</td>\n",
       "      <td>Well above</td>\n",
       "      <td>2019</td>\n",
       "      <td>12</td>\n",
       "    </tr>\n",
       "  </tbody>\n",
       "</table>\n",
       "<p>6 rows × 31 columns</p>\n",
       "</div>"
      ],
      "text/plain": [
       "        Palau Papua_New_Guinea Society_Islands        Niue  \\\n",
       "0      Normal            Below      Well above       Above   \n",
       "1       Above           Normal           Below  Well above   \n",
       "2  Well below       Well below           Below  Well above   \n",
       "3       Below       Well above           Below       Above   \n",
       "4      Normal       Well above           Above       Below   \n",
       "5      Normal       Well below      Well above       Above   \n",
       "\n",
       "  Kiribati_Phoenix_Islands Wallis_and_Futuna   Marquesas        Fiji  \\\n",
       "0               Well below        Well above       Above      Normal   \n",
       "1                   Normal        Well above       Above       Below   \n",
       "2                    Above        Well above  Well above       Above   \n",
       "3                    Below            Normal  Well below  Well above   \n",
       "4                    Below            Normal  Well below      Normal   \n",
       "5                   Normal            Normal  Well below       Above   \n",
       "\n",
       "  Kiribati_Line_Islands Vanuatu_North  ... Solomon_Islands       Tonga  \\\n",
       "0            Well above        Normal  ...      Well above  Well above   \n",
       "1                Normal    Well above  ...      Well above       Below   \n",
       "2                Normal         Above  ...      Well above       Below   \n",
       "3                 Below    Well below  ...          Normal       Above   \n",
       "4                 Below         Below  ...          Normal       Below   \n",
       "5            Well below    Well below  ...           Below      Normal   \n",
       "\n",
       "  Pitcairn_Islands        Guam Northern_Marianas  \\\n",
       "0       Well above       Below             Below   \n",
       "1       Well below       Above        Well above   \n",
       "2            Above  Well above        Well above   \n",
       "3       Well above      Normal             Above   \n",
       "4            Above  Well above        Well above   \n",
       "5       Well above  Well below        Well below   \n",
       "\n",
       "  Federated_States_of_Micronesia Marshall_Islands American_Samoa  year month  \n",
       "0                         Normal            Below     Well above  2019     7  \n",
       "1                     Well above            Above          Below  2019     8  \n",
       "2                          Below       Well above          Above  2019     9  \n",
       "3                     Well below            Above         Normal  2019    10  \n",
       "4                     Well above       Well above     Well below  2019    11  \n",
       "5                     Well above           Normal     Well above  2019    12  \n",
       "\n",
       "[6 rows x 31 columns]"
      ]
     },
     "execution_count": 16,
     "metadata": {},
     "output_type": "execute_result"
    }
   ],
   "source": [
    "df"
   ]
  },
  {
   "cell_type": "code",
   "execution_count": 17,
   "metadata": {},
   "outputs": [
    {
     "data": {
      "text/plain": [
       "0     7\n",
       "1     8\n",
       "2     9\n",
       "3    10\n",
       "4    11\n",
       "5    12\n",
       "Name: month, dtype: int64"
      ]
     },
     "execution_count": 17,
     "metadata": {},
     "output_type": "execute_result"
    }
   ],
   "source": [
    "df.month"
   ]
  },
  {
   "cell_type": "markdown",
   "metadata": {},
   "source": [
    "### this just to make sure that we have the last 6 months ... "
   ]
  },
  {
   "cell_type": "code",
   "execution_count": 18,
   "metadata": {},
   "outputs": [],
   "source": [
    "df = df.iloc[-6:]"
   ]
  },
  {
   "cell_type": "markdown",
   "metadata": {},
   "source": [
    "### saves to disk in the corresponding bulletin directory "
   ]
  },
  {
   "cell_type": "code",
   "execution_count": 19,
   "metadata": {},
   "outputs": [],
   "source": [
    "df.to_csv(opath / 'last_6_months_TRMM_categories.csv') "
   ]
  },
  {
   "cell_type": "code",
   "execution_count": 20,
   "metadata": {},
   "outputs": [
    {
     "data": {
      "text/plain": [
       "PosixPath('/home/nicolasf/operational/ICU/ops/bulletin/JFM_2020')"
      ]
     },
     "execution_count": 20,
     "metadata": {},
     "output_type": "execute_result"
    }
   ],
   "source": [
    "opath"
   ]
  },
  {
   "cell_type": "code",
   "execution_count": 21,
   "metadata": {},
   "outputs": [
    {
     "data": {
      "text/html": [
       "<div>\n",
       "<style scoped>\n",
       "    .dataframe tbody tr th:only-of-type {\n",
       "        vertical-align: middle;\n",
       "    }\n",
       "\n",
       "    .dataframe tbody tr th {\n",
       "        vertical-align: top;\n",
       "    }\n",
       "\n",
       "    .dataframe thead th {\n",
       "        text-align: right;\n",
       "    }\n",
       "</style>\n",
       "<table border=\"1\" class=\"dataframe\">\n",
       "  <thead>\n",
       "    <tr style=\"text-align: right;\">\n",
       "      <th></th>\n",
       "      <th>Palau</th>\n",
       "      <th>Papua_New_Guinea</th>\n",
       "      <th>Society_Islands</th>\n",
       "      <th>Niue</th>\n",
       "      <th>Kiribati_Phoenix_Islands</th>\n",
       "      <th>Wallis_and_Futuna</th>\n",
       "      <th>Marquesas</th>\n",
       "      <th>Fiji</th>\n",
       "      <th>Kiribati_Line_Islands</th>\n",
       "      <th>Vanuatu_North</th>\n",
       "      <th>...</th>\n",
       "      <th>Solomon_Islands</th>\n",
       "      <th>Tonga</th>\n",
       "      <th>Pitcairn_Islands</th>\n",
       "      <th>Guam</th>\n",
       "      <th>Northern_Marianas</th>\n",
       "      <th>Federated_States_of_Micronesia</th>\n",
       "      <th>Marshall_Islands</th>\n",
       "      <th>American_Samoa</th>\n",
       "      <th>year</th>\n",
       "      <th>month</th>\n",
       "    </tr>\n",
       "  </thead>\n",
       "  <tbody>\n",
       "    <tr>\n",
       "      <th>0</th>\n",
       "      <td>Normal</td>\n",
       "      <td>Below</td>\n",
       "      <td>Well above</td>\n",
       "      <td>Above</td>\n",
       "      <td>Well below</td>\n",
       "      <td>Well above</td>\n",
       "      <td>Above</td>\n",
       "      <td>Normal</td>\n",
       "      <td>Well above</td>\n",
       "      <td>Normal</td>\n",
       "      <td>...</td>\n",
       "      <td>Well above</td>\n",
       "      <td>Well above</td>\n",
       "      <td>Well above</td>\n",
       "      <td>Below</td>\n",
       "      <td>Below</td>\n",
       "      <td>Normal</td>\n",
       "      <td>Below</td>\n",
       "      <td>Well above</td>\n",
       "      <td>2019</td>\n",
       "      <td>7</td>\n",
       "    </tr>\n",
       "    <tr>\n",
       "      <th>1</th>\n",
       "      <td>Above</td>\n",
       "      <td>Normal</td>\n",
       "      <td>Below</td>\n",
       "      <td>Well above</td>\n",
       "      <td>Normal</td>\n",
       "      <td>Well above</td>\n",
       "      <td>Above</td>\n",
       "      <td>Below</td>\n",
       "      <td>Normal</td>\n",
       "      <td>Well above</td>\n",
       "      <td>...</td>\n",
       "      <td>Well above</td>\n",
       "      <td>Below</td>\n",
       "      <td>Well below</td>\n",
       "      <td>Above</td>\n",
       "      <td>Well above</td>\n",
       "      <td>Well above</td>\n",
       "      <td>Above</td>\n",
       "      <td>Below</td>\n",
       "      <td>2019</td>\n",
       "      <td>8</td>\n",
       "    </tr>\n",
       "    <tr>\n",
       "      <th>2</th>\n",
       "      <td>Well below</td>\n",
       "      <td>Well below</td>\n",
       "      <td>Below</td>\n",
       "      <td>Well above</td>\n",
       "      <td>Above</td>\n",
       "      <td>Well above</td>\n",
       "      <td>Well above</td>\n",
       "      <td>Above</td>\n",
       "      <td>Normal</td>\n",
       "      <td>Above</td>\n",
       "      <td>...</td>\n",
       "      <td>Well above</td>\n",
       "      <td>Below</td>\n",
       "      <td>Above</td>\n",
       "      <td>Well above</td>\n",
       "      <td>Well above</td>\n",
       "      <td>Below</td>\n",
       "      <td>Well above</td>\n",
       "      <td>Above</td>\n",
       "      <td>2019</td>\n",
       "      <td>9</td>\n",
       "    </tr>\n",
       "    <tr>\n",
       "      <th>3</th>\n",
       "      <td>Below</td>\n",
       "      <td>Well above</td>\n",
       "      <td>Below</td>\n",
       "      <td>Above</td>\n",
       "      <td>Below</td>\n",
       "      <td>Normal</td>\n",
       "      <td>Well below</td>\n",
       "      <td>Well above</td>\n",
       "      <td>Below</td>\n",
       "      <td>Well below</td>\n",
       "      <td>...</td>\n",
       "      <td>Normal</td>\n",
       "      <td>Above</td>\n",
       "      <td>Well above</td>\n",
       "      <td>Normal</td>\n",
       "      <td>Above</td>\n",
       "      <td>Well below</td>\n",
       "      <td>Above</td>\n",
       "      <td>Normal</td>\n",
       "      <td>2019</td>\n",
       "      <td>10</td>\n",
       "    </tr>\n",
       "    <tr>\n",
       "      <th>4</th>\n",
       "      <td>Normal</td>\n",
       "      <td>Well above</td>\n",
       "      <td>Above</td>\n",
       "      <td>Below</td>\n",
       "      <td>Below</td>\n",
       "      <td>Normal</td>\n",
       "      <td>Well below</td>\n",
       "      <td>Normal</td>\n",
       "      <td>Below</td>\n",
       "      <td>Below</td>\n",
       "      <td>...</td>\n",
       "      <td>Normal</td>\n",
       "      <td>Below</td>\n",
       "      <td>Above</td>\n",
       "      <td>Well above</td>\n",
       "      <td>Well above</td>\n",
       "      <td>Well above</td>\n",
       "      <td>Well above</td>\n",
       "      <td>Well below</td>\n",
       "      <td>2019</td>\n",
       "      <td>11</td>\n",
       "    </tr>\n",
       "    <tr>\n",
       "      <th>5</th>\n",
       "      <td>Normal</td>\n",
       "      <td>Well below</td>\n",
       "      <td>Well above</td>\n",
       "      <td>Above</td>\n",
       "      <td>Normal</td>\n",
       "      <td>Normal</td>\n",
       "      <td>Well below</td>\n",
       "      <td>Above</td>\n",
       "      <td>Well below</td>\n",
       "      <td>Well below</td>\n",
       "      <td>...</td>\n",
       "      <td>Below</td>\n",
       "      <td>Normal</td>\n",
       "      <td>Well above</td>\n",
       "      <td>Well below</td>\n",
       "      <td>Well below</td>\n",
       "      <td>Well above</td>\n",
       "      <td>Normal</td>\n",
       "      <td>Well above</td>\n",
       "      <td>2019</td>\n",
       "      <td>12</td>\n",
       "    </tr>\n",
       "  </tbody>\n",
       "</table>\n",
       "<p>6 rows × 31 columns</p>\n",
       "</div>"
      ],
      "text/plain": [
       "        Palau Papua_New_Guinea Society_Islands        Niue  \\\n",
       "0      Normal            Below      Well above       Above   \n",
       "1       Above           Normal           Below  Well above   \n",
       "2  Well below       Well below           Below  Well above   \n",
       "3       Below       Well above           Below       Above   \n",
       "4      Normal       Well above           Above       Below   \n",
       "5      Normal       Well below      Well above       Above   \n",
       "\n",
       "  Kiribati_Phoenix_Islands Wallis_and_Futuna   Marquesas        Fiji  \\\n",
       "0               Well below        Well above       Above      Normal   \n",
       "1                   Normal        Well above       Above       Below   \n",
       "2                    Above        Well above  Well above       Above   \n",
       "3                    Below            Normal  Well below  Well above   \n",
       "4                    Below            Normal  Well below      Normal   \n",
       "5                   Normal            Normal  Well below       Above   \n",
       "\n",
       "  Kiribati_Line_Islands Vanuatu_North  ... Solomon_Islands       Tonga  \\\n",
       "0            Well above        Normal  ...      Well above  Well above   \n",
       "1                Normal    Well above  ...      Well above       Below   \n",
       "2                Normal         Above  ...      Well above       Below   \n",
       "3                 Below    Well below  ...          Normal       Above   \n",
       "4                 Below         Below  ...          Normal       Below   \n",
       "5            Well below    Well below  ...           Below      Normal   \n",
       "\n",
       "  Pitcairn_Islands        Guam Northern_Marianas  \\\n",
       "0       Well above       Below             Below   \n",
       "1       Well below       Above        Well above   \n",
       "2            Above  Well above        Well above   \n",
       "3       Well above      Normal             Above   \n",
       "4            Above  Well above        Well above   \n",
       "5       Well above  Well below        Well below   \n",
       "\n",
       "  Federated_States_of_Micronesia Marshall_Islands American_Samoa  year month  \n",
       "0                         Normal            Below     Well above  2019     7  \n",
       "1                     Well above            Above          Below  2019     8  \n",
       "2                          Below       Well above          Above  2019     9  \n",
       "3                     Well below            Above         Normal  2019    10  \n",
       "4                     Well above       Well above     Well below  2019    11  \n",
       "5                     Well above           Normal     Well above  2019    12  \n",
       "\n",
       "[6 rows x 31 columns]"
      ]
     },
     "execution_count": 21,
     "metadata": {},
     "output_type": "execute_result"
    }
   ],
   "source": [
    "df"
   ]
  },
  {
   "cell_type": "code",
   "execution_count": null,
   "metadata": {},
   "outputs": [],
   "source": []
  },
  {
   "cell_type": "code",
   "execution_count": null,
   "metadata": {},
   "outputs": [],
   "source": []
  }
 ],
 "metadata": {
  "anaconda-cloud": {},
  "kernelspec": {
   "display_name": "Python 3",
   "language": "python",
   "name": "python3"
  },
  "language_info": {
   "codemirror_mode": {
    "name": "ipython",
    "version": 3
   },
   "file_extension": ".py",
   "mimetype": "text/x-python",
   "name": "python",
   "nbconvert_exporter": "python",
   "pygments_lexer": "ipython3",
   "version": "3.7.5"
  },
  "latex_envs": {
   "LaTeX_envs_menu_present": true,
   "autocomplete": true,
   "bibliofile": "biblio.bib",
   "cite_by": "apalike",
   "current_citInitial": 1,
   "eqLabelWithNumbers": true,
   "eqNumInitial": 1,
   "hotkeys": {
    "equation": "Ctrl-E",
    "itemize": "Ctrl-I"
   },
   "labels_anchors": false,
   "latex_user_defs": false,
   "report_style_numbering": false,
   "user_envs_cfg": false
  },
  "toc": {
   "colors": {
    "hover_highlight": "#DAA520",
    "running_highlight": "#FF0000",
    "selected_highlight": "#FFD700"
   },
   "moveMenuLeft": true,
   "nav_menu": {
    "height": "12px",
    "width": "252px"
   },
   "navigate_menu": true,
   "number_sections": true,
   "sideBar": true,
   "threshold": 4,
   "toc_cell": false,
   "toc_section_display": "block",
   "toc_window_display": false,
   "widenNotebook": false
  }
 },
 "nbformat": 4,
 "nbformat_minor": 4
}
