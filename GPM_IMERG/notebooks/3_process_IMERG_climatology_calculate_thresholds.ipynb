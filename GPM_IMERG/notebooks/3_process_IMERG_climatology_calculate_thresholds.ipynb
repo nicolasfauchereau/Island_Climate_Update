{
 "cells": [
  {
   "cell_type": "markdown",
   "metadata": {},
   "source": [
    "### calculate a rolling 30 days climatology (including terciles and quintiles) from GPM / IMERG over the period 2001 - 2018"
   ]
  },
  {
   "cell_type": "code",
   "execution_count": 1,
   "metadata": {},
   "outputs": [],
   "source": [
    "%matplotlib inline\n",
    "from matplotlib import pyplot as plt"
   ]
  },
  {
   "cell_type": "code",
   "execution_count": 2,
   "metadata": {},
   "outputs": [],
   "source": [
    "import seaborn as sns"
   ]
  },
  {
   "cell_type": "code",
   "execution_count": 3,
   "metadata": {},
   "outputs": [],
   "source": [
    "sns.set_context('paper')"
   ]
  },
  {
   "cell_type": "code",
   "execution_count": 4,
   "metadata": {},
   "outputs": [],
   "source": [
    "import os\n",
    "import sys\n",
    "from glob import glob\n",
    "import json\n",
    "import pathlib"
   ]
  },
  {
   "cell_type": "code",
   "execution_count": 5,
   "metadata": {},
   "outputs": [],
   "source": [
    "from datetime import datetime, timedelta"
   ]
  },
  {
   "cell_type": "code",
   "execution_count": 6,
   "metadata": {},
   "outputs": [],
   "source": [
    "from dateutil import parser"
   ]
  },
  {
   "cell_type": "code",
   "execution_count": 7,
   "metadata": {},
   "outputs": [],
   "source": [
    "import numpy as np\n",
    "import pandas as pd "
   ]
  },
  {
   "cell_type": "markdown",
   "metadata": {},
   "source": [
    "### load the dictionnary "
   ]
  },
  {
   "cell_type": "code",
   "execution_count": 8,
   "metadata": {},
   "outputs": [],
   "source": [
    "with open('../../data/dict_countries.json', 'r') as fj: \n",
    "    dict_countries = json.load(fj)"
   ]
  },
  {
   "cell_type": "markdown",
   "metadata": {},
   "source": [
    "### functions_definitions"
   ]
  },
  {
   "cell_type": "code",
   "execution_count": 10,
   "metadata": {},
   "outputs": [],
   "source": [
    "def plot_climo(climo, window=30, dirname='../figures/climatologies/', country_fname=''): \n",
    "    import seaborn as sns\n",
    "    sns.set_context('talk')\n",
    "    \n",
    "    climo = pd.DataFrame(climo.to_numpy(), index=range(1, 366), columns=climo.columns)\n",
    "    \n",
    "    f, ax = plt.subplots(figsize=(10,10))\n",
    "    ax.fill_between(climo.index, climo.loc[:,'33.3%'].values, climo.loc[:,'66.6%'].values, alpha=0.5, label='interquartile range')\n",
    "    ax.plot(climo.loc[:,'mean'], lw=3, label='mean')\n",
    "    ax.plot(climo.loc[:,'50%'], lw=3, label='median')\n",
    "    ax.legend(frameon=False)\n",
    "    ax.grid(ls=':')\n",
    "    ax.set_xlim(0, 366)\n",
    "    ax.set_title(\"{} days running total for {}\".format(window, country_name))\n",
    "    ax.set_xlabel('day of year (365 days)')\n",
    "    ax.set_ylabel('GPM / IMERG rainfall (mm/day)')\n",
    "    f.savefig(os.path.join(dirname, 'climo_GPM_IMERG_{}_days_{}.png'.format(window, country_fname)))\n",
    "    plt.close(f)"
   ]
  },
  {
   "cell_type": "code",
   "execution_count": 11,
   "metadata": {},
   "outputs": [],
   "source": [
    "lfiles = glob('../outputs/DF_ROI_daily_*.csv')"
   ]
  },
  {
   "cell_type": "code",
   "execution_count": 12,
   "metadata": {},
   "outputs": [
    {
     "data": {
      "text/plain": [
       "['../outputs/DF_ROI_daily_GPM_IMERG_rainfall_2001_2018_Samoa.csv',\n",
       " '../outputs/DF_ROI_daily_GPM_IMERG_rainfall_2001_2018_Guam.csv',\n",
       " '../outputs/DF_ROI_daily_GPM_IMERG_rainfall_2001_2018_Nauru.csv',\n",
       " '../outputs/DF_ROI_daily_GPM_IMERG_rainfall_2001_2018_Marquesas.csv',\n",
       " '../outputs/DF_ROI_daily_GPM_IMERG_rainfall_2001_2018_Tuvalu.csv',\n",
       " '../outputs/DF_ROI_daily_GPM_IMERG_rainfall_2001_2018_Palau.csv',\n",
       " '../outputs/DF_ROI_daily_GPM_IMERG_rainfall_2001_2018_Northern_Marianas.csv',\n",
       " '../outputs/DF_ROI_daily_GPM_IMERG_rainfall_2001_2018_Marshall_Islands.csv',\n",
       " '../outputs/DF_ROI_daily_GPM_IMERG_rainfall_2001_2018_Wallis_and_Futuna.csv',\n",
       " '../outputs/DF_ROI_daily_GPM_IMERG_rainfall_2001_2018_Kiribati_Phoenix_Islands.csv',\n",
       " '../outputs/DF_ROI_daily_GPM_IMERG_rainfall_2001_2018_Solomon_Islands.csv',\n",
       " '../outputs/DF_ROI_daily_GPM_IMERG_rainfall_2001_2018_Vanuatu_South.csv',\n",
       " '../outputs/DF_ROI_daily_GPM_IMERG_rainfall_2001_2018_New_Caledonia.csv',\n",
       " '../outputs/DF_ROI_daily_GPM_IMERG_rainfall_2001_2018_Vanuatu_North.csv',\n",
       " '../outputs/DF_ROI_daily_GPM_IMERG_rainfall_2001_2018_Southern_Cook_Islands.csv',\n",
       " '../outputs/DF_ROI_daily_GPM_IMERG_rainfall_2001_2018_Austral_Islands.csv',\n",
       " '../outputs/DF_ROI_daily_GPM_IMERG_rainfall_2001_2018_Kiribati_Gilbert_Islands.csv',\n",
       " '../outputs/DF_ROI_daily_GPM_IMERG_rainfall_2001_2018_Northern_Cook_Islands.csv',\n",
       " '../outputs/DF_ROI_daily_GPM_IMERG_rainfall_2001_2018_Federated_States_of_Micronesia.csv',\n",
       " '../outputs/DF_ROI_daily_GPM_IMERG_rainfall_2001_2018_Fiji.csv',\n",
       " '../outputs/DF_ROI_daily_GPM_IMERG_rainfall_2001_2018_Kiribati_Line_Islands.csv',\n",
       " '../outputs/DF_ROI_daily_GPM_IMERG_rainfall_2001_2018_Pitcairn_Islands.csv',\n",
       " '../outputs/DF_ROI_daily_GPM_IMERG_rainfall_2001_2018_Tokelau.csv',\n",
       " '../outputs/DF_ROI_daily_GPM_IMERG_rainfall_2001_2018_Niue.csv',\n",
       " '../outputs/DF_ROI_daily_GPM_IMERG_rainfall_2001_2018_American_Samoa.csv',\n",
       " '../outputs/DF_ROI_daily_GPM_IMERG_rainfall_2001_2018_Society_Islands.csv',\n",
       " '../outputs/DF_ROI_daily_GPM_IMERG_rainfall_2001_2018_Tonga.csv',\n",
       " '../outputs/DF_ROI_daily_GPM_IMERG_rainfall_2001_2018_Papua_New_Guinea.csv',\n",
       " '../outputs/DF_ROI_daily_GPM_IMERG_rainfall_2001_2018_Tuamotu__Gambier_Islands.csv']"
      ]
     },
     "execution_count": 12,
     "metadata": {},
     "output_type": "execute_result"
    }
   ],
   "source": [
    "lfiles"
   ]
  },
  {
   "cell_type": "code",
   "execution_count": 13,
   "metadata": {},
   "outputs": [
    {
     "data": {
      "text/plain": [
       "29"
      ]
     },
     "execution_count": 13,
     "metadata": {},
     "output_type": "execute_result"
    }
   ],
   "source": [
    "len(lfiles)"
   ]
  },
  {
   "cell_type": "code",
   "execution_count": 15,
   "metadata": {},
   "outputs": [],
   "source": [
    "opath = '../outputs/climatologies/'"
   ]
  },
  {
   "cell_type": "code",
   "execution_count": 25,
   "metadata": {},
   "outputs": [],
   "source": [
    "for filename in lfiles: \n",
    "    country_fname = os.path.basename(filename)[42:].split('.')[-2] \n",
    "    country_name = dict_countries[country_fname] \n",
    "    roi_df = pd.read_csv(filename, index_col=0, parse_dates=True) \n",
    "    \n",
    "    \"\"\"\n",
    "    removes the 29th of Feb \n",
    "    \"\"\"\n",
    "    \n",
    "    roi_df.loc[(roi_df.index.month == 2) & (roi_df.index.day == 29),:] = np.nan\n",
    "\n",
    "    roi_df = roi_df.dropna() \n",
    "    \n",
    "    for window in [30,60,90,180]: \n",
    "    \n",
    "        roi_df_rm = roi_df.rolling(window=window, min_periods=window).sum()\n",
    "\n",
    "        climo = roi_df_rm.groupby([roi_df_rm.index.month, roi_df_rm.index.day]).describe(percentiles=[0.1,0.2,0.3,0.333,0.4,0.5,0.6,0.666,0.7,0.8,0.9])\n",
    "\n",
    "        climo.index.names = ['month','day']\n",
    "\n",
    "        climo.columns = climo.columns.droplevel(0) \n",
    "\n",
    "        plot_climo(climo, window=window, country_fname=country_fname)\n",
    "\n",
    "        climo.to_csv(os.path.join(opath, 'GPM_IMERG_climo_{}_days_{}.csv'.format(window, country_fname)))"
   ]
  },
  {
   "cell_type": "markdown",
   "metadata": {},
   "source": [
    "### calculates the monthly climatologies "
   ]
  },
  {
   "cell_type": "code",
   "execution_count": 26,
   "metadata": {},
   "outputs": [],
   "source": [
    "opath = pathlib.Path(opath)"
   ]
  },
  {
   "cell_type": "code",
   "execution_count": 27,
   "metadata": {},
   "outputs": [
    {
     "data": {
      "text/plain": [
       "PosixPath('../outputs/climatologies')"
      ]
     },
     "execution_count": 27,
     "metadata": {},
     "output_type": "execute_result"
    }
   ],
   "source": [
    "opath"
   ]
  },
  {
   "cell_type": "code",
   "execution_count": 29,
   "metadata": {},
   "outputs": [],
   "source": [
    "for filename in lfiles: \n",
    "    country_fname = os.path.basename(filename)[42:].split('.')[-2] \n",
    "    country_name = dict_countries[country_fname] \n",
    "    roi_df = pd.read_csv(filename, index_col=0, parse_dates=True) \n",
    "    roi_df_m = roi_df.resample('1M').mean()\n",
    "    climo = roi_df_m.groupby([roi_df_m.index.month]).describe(percentiles=[0.1,0.2,0.3,0.333,0.4,0.5,0.6,0.666,0.7,0.8,0.9])\n",
    "    climo.columns = climo.columns.droplevel(0) \n",
    "    climo.index.name = 'month'\n",
    "    climo.to_csv(opath /  'GPM_IMERG_monthly_climo_{}.csv'.format(country_fname))"
   ]
  },
  {
   "cell_type": "code",
   "execution_count": null,
   "metadata": {},
   "outputs": [],
   "source": []
  }
 ],
 "metadata": {
  "kernelspec": {
   "display_name": "Python 3",
   "language": "python",
   "name": "python3"
  },
  "language_info": {
   "codemirror_mode": {
    "name": "ipython",
    "version": 3
   },
   "file_extension": ".py",
   "mimetype": "text/x-python",
   "name": "python",
   "nbconvert_exporter": "python",
   "pygments_lexer": "ipython3",
   "version": "3.7.5"
  }
 },
 "nbformat": 4,
 "nbformat_minor": 4
}
