{
 "cells": [
  {
   "cell_type": "code",
   "execution_count": 78,
   "metadata": {},
   "outputs": [],
   "source": [
    "import os\n",
    "import sys\n",
    "import pathlib\n",
    "from glob import glob \n",
    "from datetime import date, datetime, timedelta\n",
    "from dateutil.relativedelta import relativedelta\n",
    "import json"
   ]
  },
  {
   "cell_type": "code",
   "execution_count": 79,
   "metadata": {},
   "outputs": [],
   "source": [
    "import numpy as np\n",
    "import pandas as pd"
   ]
  },
  {
   "cell_type": "code",
   "execution_count": 80,
   "metadata": {},
   "outputs": [],
   "source": [
    "import xarray as xr\n",
    "import salem"
   ]
  },
  {
   "cell_type": "code",
   "execution_count": 81,
   "metadata": {},
   "outputs": [
    {
     "data": {
      "text/plain": [
       "'0.2.4'"
      ]
     },
     "execution_count": 81,
     "metadata": {},
     "output_type": "execute_result"
    }
   ],
   "source": [
    "salem.__version__"
   ]
  },
  {
   "cell_type": "markdown",
   "metadata": {},
   "source": [
    "### local function definition "
   ]
  },
  {
   "cell_type": "code",
   "execution_count": 82,
   "metadata": {},
   "outputs": [],
   "source": [
    "def make_ts(gpm_ts, climo): \n",
    "    \n",
    "    gpm_ts_c = gpm_ts.copy()\n",
    "    \n",
    "    dec = [\"{}%\".format(x) for x in range(20, 100, 20)]\n",
    "    \n",
    "    categories = []\n",
    "    anoms = []\n",
    "    anoms_pc = []\n",
    "\n",
    "    for i, row in gpm_ts_c.iterrows(): \n",
    "\n",
    "        month = row.name.month \n",
    "\n",
    "        val = row.values[0]\n",
    "\n",
    "        clim = climo.loc[month, :]\n",
    "\n",
    "        deciles = clim.loc[dec,]\n",
    "\n",
    "        ave = clim.loc['mean']\n",
    "\n",
    "        anom = val - ave\n",
    "\n",
    "        anom_pc = (val / ave) * 100\n",
    "\n",
    "        if (val < deciles.loc['20%']): \n",
    "            category = 'Well below'\n",
    "        elif (deciles.loc['20%'] <= val <= deciles.loc['40%']): \n",
    "            category = 'Below'\n",
    "        elif (deciles.loc['40%'] < val <= deciles.loc['60%']): \n",
    "            category = 'Normal'\n",
    "        elif (deciles.loc['60%'] < val <= deciles.loc['80%']): \n",
    "            category = 'Above'    \n",
    "        elif (val > deciles.loc['80%']): \n",
    "            category = 'Well above' \n",
    "        else: \n",
    "            print(\"category cannot be calculated\")\n",
    "\n",
    "        categories.append(category)\n",
    "\n",
    "        anoms.append(anom)\n",
    "\n",
    "        anoms_pc.append(anom_pc)\n",
    "        \n",
    "    gpm_ts_c.loc[:,'year'] = gpm_ts.index.year \n",
    "\n",
    "    gpm_ts_c.loc[:,'month'] = gpm_ts.index.month \n",
    "\n",
    "    gpm_ts_c.loc[:,'anomaly'] = np.array(anoms)\n",
    "\n",
    "    gpm_ts_c.loc[:,'percent'] = np.array(anoms_pc)\n",
    "\n",
    "    gpm_ts_c.loc[:,'category'] = np.array(categories)\n",
    "    \n",
    "    return gpm_ts_c.loc[:,['year','month','precipitationCal','anomaly','percent','category']]"
   ]
  },
  {
   "cell_type": "markdown",
   "metadata": {},
   "source": [
    "### defines the path to the climatologies "
   ]
  },
  {
   "cell_type": "code",
   "execution_count": 83,
   "metadata": {},
   "outputs": [],
   "source": [
    "dpath_climo = pathlib.Path.cwd().parent / 'outputs' / 'climatologies'"
   ]
  },
  {
   "cell_type": "code",
   "execution_count": 84,
   "metadata": {},
   "outputs": [
    {
     "data": {
      "text/plain": [
       "PosixPath('/home/nicolasf/operational/ICU/ops/GPM_IMERG/outputs/climatologies')"
      ]
     },
     "execution_count": 84,
     "metadata": {},
     "output_type": "execute_result"
    }
   ],
   "source": [
    "dpath_climo"
   ]
  },
  {
   "cell_type": "markdown",
   "metadata": {},
   "source": [
    "### list the files (monthly climatologies for each Island Group)"
   ]
  },
  {
   "cell_type": "code",
   "execution_count": 85,
   "metadata": {},
   "outputs": [],
   "source": [
    "lfiles_climo = list(dpath_climo.glob(\"GPM_IMERG_monthly_climo_*.csv\"))"
   ]
  },
  {
   "cell_type": "code",
   "execution_count": 86,
   "metadata": {},
   "outputs": [
    {
     "data": {
      "text/plain": [
       "29"
      ]
     },
     "execution_count": 86,
     "metadata": {},
     "output_type": "execute_result"
    }
   ],
   "source": [
    "len(lfiles_climo)"
   ]
  },
  {
   "cell_type": "markdown",
   "metadata": {},
   "source": [
    "### output path for the last 6 months time-series "
   ]
  },
  {
   "cell_type": "code",
   "execution_count": 87,
   "metadata": {},
   "outputs": [],
   "source": [
    "output_path = pathlib.Path.cwd().parent / 'outputs' / 'Time_Series' / 'last_6_months'"
   ]
  },
  {
   "cell_type": "code",
   "execution_count": 88,
   "metadata": {},
   "outputs": [
    {
     "data": {
      "text/plain": [
       "PosixPath('/home/nicolasf/operational/ICU/ops/GPM_IMERG/outputs/Time_Series/last_6_months')"
      ]
     },
     "execution_count": 88,
     "metadata": {},
     "output_type": "execute_result"
    }
   ],
   "source": [
    "output_path"
   ]
  },
  {
   "cell_type": "code",
   "execution_count": 89,
   "metadata": {},
   "outputs": [],
   "source": [
    "if not output_path.exists(): \n",
    "    output_path.mkdir(parents=True)"
   ]
  },
  {
   "cell_type": "markdown",
   "metadata": {},
   "source": [
    "### path to the updated **extended South Pacific** GPM / IMERG files "
   ]
  },
  {
   "cell_type": "code",
   "execution_count": 90,
   "metadata": {},
   "outputs": [],
   "source": [
    "dpath_GPM = pathlib.Path.cwd().parents[1] / 'data' / 'GPM_IMERG' / 'daily' / 'extended_SP'"
   ]
  },
  {
   "cell_type": "code",
   "execution_count": 91,
   "metadata": {},
   "outputs": [
    {
     "data": {
      "text/plain": [
       "PosixPath('/home/nicolasf/operational/ICU/ops/data/GPM_IMERG/daily/extended_SP')"
      ]
     },
     "execution_count": 91,
     "metadata": {},
     "output_type": "execute_result"
    }
   ],
   "source": [
    "dpath_GPM"
   ]
  },
  {
   "cell_type": "code",
   "execution_count": 92,
   "metadata": {},
   "outputs": [],
   "source": [
    "lfiles_GPM = list(dpath_GPM.glob('*.nc'))"
   ]
  },
  {
   "cell_type": "code",
   "execution_count": 93,
   "metadata": {},
   "outputs": [],
   "source": [
    "lfiles_GPM.sort()"
   ]
  },
  {
   "cell_type": "markdown",
   "metadata": {},
   "source": [
    "### check that the TRMM dataset has been updated to the latest available date here (~ 2 days lag to real time)"
   ]
  },
  {
   "cell_type": "code",
   "execution_count": 94,
   "metadata": {},
   "outputs": [
    {
     "data": {
      "text/plain": [
       "[PosixPath('/home/nicolasf/operational/ICU/ops/data/GPM_IMERG/daily/extended_SP/GPM_IMERG_daily.v06.2020.01.22.nc'),\n",
       " PosixPath('/home/nicolasf/operational/ICU/ops/data/GPM_IMERG/daily/extended_SP/GPM_IMERG_daily.v06.2020.01.23.nc'),\n",
       " PosixPath('/home/nicolasf/operational/ICU/ops/data/GPM_IMERG/daily/extended_SP/GPM_IMERG_daily.v06.2020.01.24.nc'),\n",
       " PosixPath('/home/nicolasf/operational/ICU/ops/data/GPM_IMERG/daily/extended_SP/GPM_IMERG_daily.v06.2020.01.25.nc'),\n",
       " PosixPath('/home/nicolasf/operational/ICU/ops/data/GPM_IMERG/daily/extended_SP/GPM_IMERG_daily.v06.2020.01.26.nc'),\n",
       " PosixPath('/home/nicolasf/operational/ICU/ops/data/GPM_IMERG/daily/extended_SP/GPM_IMERG_daily.v06.2020.01.27.nc'),\n",
       " PosixPath('/home/nicolasf/operational/ICU/ops/data/GPM_IMERG/daily/extended_SP/GPM_IMERG_daily.v06.2020.01.28.nc'),\n",
       " PosixPath('/home/nicolasf/operational/ICU/ops/data/GPM_IMERG/daily/extended_SP/GPM_IMERG_daily.v06.2020.01.29.nc'),\n",
       " PosixPath('/home/nicolasf/operational/ICU/ops/data/GPM_IMERG/daily/extended_SP/GPM_IMERG_daily.v06.2020.01.30.nc'),\n",
       " PosixPath('/home/nicolasf/operational/ICU/ops/data/GPM_IMERG/daily/extended_SP/GPM_IMERG_daily.v06.2020.01.31.nc')]"
      ]
     },
     "execution_count": 94,
     "metadata": {},
     "output_type": "execute_result"
    }
   ],
   "source": [
    "lfiles_GPM[-10:]"
   ]
  },
  {
   "cell_type": "markdown",
   "metadata": {},
   "source": [
    "if not updated:\n",
    "\n",
    "  \n",
    "1) cd into `~/operational/ICU/ops/data/GPM_IMERG/daily/extended_SP/` and note the date of the last netcdf file   \n",
    "2) activate the `pangeo` environment and cd into `~/operational/ICU/ops/data/GPM_IMERG/daily/scripts/`  \n",
    "3) run:   \n",
    "\n",
    "```\n",
    "python get_daily_GPM_IMERG_netcdf.py -o ../extended_SP -lonW 125 -lonE 240 -latN 25 -latS -50 -s YYYMMDD -e YYYYMMDD\n",
    "```\n",
    "\n",
    "Then re-run the lines above to get the updated list of files "
   ]
  },
  {
   "cell_type": "markdown",
   "metadata": {},
   "source": [
    "### get the last dates and determine the period to load in "
   ]
  },
  {
   "cell_type": "code",
   "execution_count": 95,
   "metadata": {},
   "outputs": [],
   "source": [
    "last_GPM_file = lfiles_GPM[-1]"
   ]
  },
  {
   "cell_type": "code",
   "execution_count": 96,
   "metadata": {},
   "outputs": [],
   "source": [
    "dates_elems = list(map(int, str(last_GPM_file).split('.')[-4:-1]))"
   ]
  },
  {
   "cell_type": "code",
   "execution_count": 97,
   "metadata": {},
   "outputs": [
    {
     "data": {
      "text/plain": [
       "[2020, 1, 31]"
      ]
     },
     "execution_count": 97,
     "metadata": {},
     "output_type": "execute_result"
    }
   ],
   "source": [
    "dates_elems"
   ]
  },
  {
   "cell_type": "code",
   "execution_count": 98,
   "metadata": {},
   "outputs": [],
   "source": [
    "last_date_GPM = datetime(*dates_elems)"
   ]
  },
  {
   "cell_type": "code",
   "execution_count": 99,
   "metadata": {},
   "outputs": [
    {
     "data": {
      "text/plain": [
       "datetime.datetime(2020, 1, 31, 0, 0)"
      ]
     },
     "execution_count": 99,
     "metadata": {},
     "output_type": "execute_result"
    }
   ],
   "source": [
    "last_date_GPM"
   ]
  },
  {
   "cell_type": "markdown",
   "metadata": {},
   "source": [
    "### we want the last 6 months of daily TRMM data "
   ]
  },
  {
   "cell_type": "code",
   "execution_count": 100,
   "metadata": {},
   "outputs": [],
   "source": [
    "nmonths = 6"
   ]
  },
  {
   "cell_type": "code",
   "execution_count": 101,
   "metadata": {},
   "outputs": [],
   "source": [
    "start_date_GPM = datetime((last_date_GPM - relativedelta(months=nmonths - 1)).year, (last_date_GPM - relativedelta(months=nmonths - 1)).month, 1)"
   ]
  },
  {
   "cell_type": "code",
   "execution_count": 102,
   "metadata": {},
   "outputs": [
    {
     "data": {
      "text/plain": [
       "datetime.datetime(2019, 8, 1, 0, 0)"
      ]
     },
     "execution_count": 102,
     "metadata": {},
     "output_type": "execute_result"
    }
   ],
   "source": [
    "start_date_GPM"
   ]
  },
  {
   "cell_type": "markdown",
   "metadata": {},
   "source": [
    "### sanity check on the dates here"
   ]
  },
  {
   "cell_type": "code",
   "execution_count": 103,
   "metadata": {},
   "outputs": [
    {
     "name": "stdout",
     "output_type": "stream",
     "text": [
      "the last 6 months GPM period will cover the days from 2019-08-01 to 2020-01-31\n"
     ]
    }
   ],
   "source": [
    "print(\"the last 6 months GPM period will cover the days from {:%Y-%m-%d} to {:%Y-%m-%d}\".format(start_date_GPM, last_date_GPM))"
   ]
  },
  {
   "cell_type": "markdown",
   "metadata": {},
   "source": [
    "### now construct the final list of files (using pandas date_range function)"
   ]
  },
  {
   "cell_type": "code",
   "execution_count": 104,
   "metadata": {},
   "outputs": [],
   "source": [
    "dates_GPM = pd.date_range(start=start_date_GPM, end=last_date_GPM, freq='1D')"
   ]
  },
  {
   "cell_type": "code",
   "execution_count": 105,
   "metadata": {},
   "outputs": [
    {
     "data": {
      "text/plain": [
       "DatetimeIndex(['2019-08-01', '2019-08-02', '2019-08-03', '2019-08-04',\n",
       "               '2019-08-05', '2019-08-06', '2019-08-07', '2019-08-08',\n",
       "               '2019-08-09', '2019-08-10',\n",
       "               ...\n",
       "               '2020-01-22', '2020-01-23', '2020-01-24', '2020-01-25',\n",
       "               '2020-01-26', '2020-01-27', '2020-01-28', '2020-01-29',\n",
       "               '2020-01-30', '2020-01-31'],\n",
       "              dtype='datetime64[ns]', length=184, freq='D')"
      ]
     },
     "execution_count": 105,
     "metadata": {},
     "output_type": "execute_result"
    }
   ],
   "source": [
    "dates_GPM"
   ]
  },
  {
   "cell_type": "code",
   "execution_count": 106,
   "metadata": {},
   "outputs": [],
   "source": [
    "lfiles_GPM = [] \n",
    "for d in dates_GPM: \n",
    "    lfiles_GPM.append(dpath_GPM / 'GPM_IMERG_daily.v06.{:%Y.%m.%d}.nc'.format(d))"
   ]
  },
  {
   "cell_type": "markdown",
   "metadata": {},
   "source": [
    "### and now loads the whole dataset of the last 6 months"
   ]
  },
  {
   "cell_type": "code",
   "execution_count": 107,
   "metadata": {},
   "outputs": [],
   "source": [
    "dset = xr.open_mfdataset(lfiles_GPM, combine='by_coords')"
   ]
  },
  {
   "cell_type": "code",
   "execution_count": 108,
   "metadata": {},
   "outputs": [
    {
     "data": {
      "text/html": [
       "<pre>&lt;xarray.Dataset&gt;\n",
       "Dimensions:           (lat: 300, lon: 460, time: 184)\n",
       "Coordinates:\n",
       "  * lon               (lon) float64 125.1 125.4 125.6 ... 239.4 239.6 239.9\n",
       "  * lat               (lat) float64 -49.88 -49.62 -49.38 ... 24.38 24.62 24.88\n",
       "  * time              (time) object 2019-08-01 00:00:00 ... 2020-01-31 00:00:00\n",
       "Data variables:\n",
       "    HQprecipitation   (time, lat, lon) float64 dask.array&lt;chunksize=(1, 300, 460), meta=np.ndarray&gt;\n",
       "    precipitationCal  (time, lat, lon) float64 dask.array&lt;chunksize=(1, 300, 460), meta=np.ndarray&gt;\n",
       "Attributes:\n",
       "    BeginDate:       2019-08-01\n",
       "    BeginTime:       00:00:00.000Z\n",
       "    EndDate:         2019-08-01\n",
       "    EndTime:         23:59:59.999Z\n",
       "    FileHeader:      StartGranuleDateTime=2019-08-01T00:00:00.000Z;\\nStopGran...\n",
       "    InputPointer:    3B-HHR-L.MS.MRG.3IMERG.20190801-S000000-E002959.0000.V06...\n",
       "    title:           GPM IMERG Late Precipitation L3 1 day 0.1 degree x 0.1 d...\n",
       "    DOI:             10.5067/GPM/IMERGDL/DAY/06\n",
       "    ProductionTime:  2019-08-02T14:08:29.697Z</pre>"
      ],
      "text/plain": [
       "<xarray.Dataset>\n",
       "Dimensions:           (lat: 300, lon: 460, time: 184)\n",
       "Coordinates:\n",
       "  * lon               (lon) float64 125.1 125.4 125.6 ... 239.4 239.6 239.9\n",
       "  * lat               (lat) float64 -49.88 -49.62 -49.38 ... 24.38 24.62 24.88\n",
       "  * time              (time) object 2019-08-01 00:00:00 ... 2020-01-31 00:00:00\n",
       "Data variables:\n",
       "    HQprecipitation   (time, lat, lon) float64 dask.array<chunksize=(1, 300, 460), meta=np.ndarray>\n",
       "    precipitationCal  (time, lat, lon) float64 dask.array<chunksize=(1, 300, 460), meta=np.ndarray>\n",
       "Attributes:\n",
       "    BeginDate:       2019-08-01\n",
       "    BeginTime:       00:00:00.000Z\n",
       "    EndDate:         2019-08-01\n",
       "    EndTime:         23:59:59.999Z\n",
       "    FileHeader:      StartGranuleDateTime=2019-08-01T00:00:00.000Z;\\nStopGran...\n",
       "    InputPointer:    3B-HHR-L.MS.MRG.3IMERG.20190801-S000000-E002959.0000.V06...\n",
       "    title:           GPM IMERG Late Precipitation L3 1 day 0.1 degree x 0.1 d...\n",
       "    DOI:             10.5067/GPM/IMERGDL/DAY/06\n",
       "    ProductionTime:  2019-08-02T14:08:29.697Z"
      ]
     },
     "execution_count": 108,
     "metadata": {},
     "output_type": "execute_result"
    }
   ],
   "source": [
    "dset"
   ]
  },
  {
   "cell_type": "markdown",
   "metadata": {},
   "source": [
    "### calculates the monthly averages, will be preliminary for the last month if not all days downloaded"
   ]
  },
  {
   "cell_type": "code",
   "execution_count": 109,
   "metadata": {},
   "outputs": [],
   "source": [
    "dset = dset[['precipitationCal']]"
   ]
  },
  {
   "cell_type": "code",
   "execution_count": 110,
   "metadata": {},
   "outputs": [],
   "source": [
    "dset = dset.resample(time='1M').mean('time')"
   ]
  },
  {
   "cell_type": "code",
   "execution_count": 111,
   "metadata": {},
   "outputs": [
    {
     "data": {
      "text/html": [
       "<pre>&lt;xarray.Dataset&gt;\n",
       "Dimensions:           (lat: 300, lon: 460, time: 6)\n",
       "Coordinates:\n",
       "  * time              (time) object 2019-08-31 00:00:00 ... 2020-01-31 00:00:00\n",
       "  * lon               (lon) float64 125.1 125.4 125.6 ... 239.4 239.6 239.9\n",
       "  * lat               (lat) float64 -49.88 -49.62 -49.38 ... 24.38 24.62 24.88\n",
       "Data variables:\n",
       "    precipitationCal  (time, lat, lon) float64 4.135 4.262 ... 0.361 0.3022</pre>"
      ],
      "text/plain": [
       "<xarray.Dataset>\n",
       "Dimensions:           (lat: 300, lon: 460, time: 6)\n",
       "Coordinates:\n",
       "  * time              (time) object 2019-08-31 00:00:00 ... 2020-01-31 00:00:00\n",
       "  * lon               (lon) float64 125.1 125.4 125.6 ... 239.4 239.6 239.9\n",
       "  * lat               (lat) float64 -49.88 -49.62 -49.38 ... 24.38 24.62 24.88\n",
       "Data variables:\n",
       "    precipitationCal  (time, lat, lon) float64 4.135 4.262 ... 0.361 0.3022"
      ]
     },
     "execution_count": 111,
     "metadata": {},
     "output_type": "execute_result"
    }
   ],
   "source": [
    "dset.compute()"
   ]
  },
  {
   "cell_type": "markdown",
   "metadata": {},
   "source": [
    "### Now loads the shapefiles "
   ]
  },
  {
   "cell_type": "code",
   "execution_count": 112,
   "metadata": {},
   "outputs": [],
   "source": [
    "shapes_ipath = pathlib.Path.cwd().parents[1] / 'data' / 'shapefiles' / 'ICU' / 'clipped' / 'countries_converted'"
   ]
  },
  {
   "cell_type": "code",
   "execution_count": 113,
   "metadata": {},
   "outputs": [
    {
     "data": {
      "text/plain": [
       "PosixPath('/home/nicolasf/operational/ICU/ops/data/shapefiles/ICU/clipped/countries_converted')"
      ]
     },
     "execution_count": 113,
     "metadata": {},
     "output_type": "execute_result"
    }
   ],
   "source": [
    "shapes_ipath"
   ]
  },
  {
   "cell_type": "code",
   "execution_count": 114,
   "metadata": {},
   "outputs": [],
   "source": [
    "lshapefiles = shapes_ipath.glob('*/*.shp')"
   ]
  },
  {
   "cell_type": "code",
   "execution_count": 115,
   "metadata": {},
   "outputs": [],
   "source": [
    "lshapefiles = list(lshapefiles)"
   ]
  },
  {
   "cell_type": "code",
   "execution_count": 116,
   "metadata": {},
   "outputs": [],
   "source": [
    "lshapefiles.sort()"
   ]
  },
  {
   "cell_type": "markdown",
   "metadata": {},
   "source": [
    "### open the dictionnay mapping country name in filenames to actual country name "
   ]
  },
  {
   "cell_type": "code",
   "execution_count": 117,
   "metadata": {},
   "outputs": [],
   "source": [
    "with open(pathlib.Path.cwd().parents[1] / 'resources' / 'dict_countries.json', 'r') as fj: \n",
    "    dict_countries = json.load(fj)"
   ]
  },
  {
   "cell_type": "markdown",
   "metadata": {},
   "source": [
    "### Now loops over each shapefile, use the country geometry to clip and mask the TRMM dataset, calculates the regional average, and make the last 6 months Time-Series"
   ]
  },
  {
   "cell_type": "code",
   "execution_count": 118,
   "metadata": {},
   "outputs": [
    {
     "data": {
      "text/plain": [
       "PosixPath('/home/nicolasf/operational/ICU/ops/GPM_IMERG/outputs/climatologies/GPM_IMERG_monthly_climo_Solomon_Islands.csv')"
      ]
     },
     "execution_count": 118,
     "metadata": {},
     "output_type": "execute_result"
    }
   ],
   "source": [
    "list(dpath_climo.glob(\"*monthly_climo*.csv\"))[-1]"
   ]
  },
  {
   "cell_type": "code",
   "execution_count": 119,
   "metadata": {},
   "outputs": [
    {
     "name": "stdout",
     "output_type": "stream",
     "text": [
      "processing American Samoa\n",
      "processing Austral Islands\n",
      "processing Federated States of Micronesia\n",
      "processing Fiji\n",
      "processing Guam\n",
      "processing Kiribati: Gilbert Islands\n",
      "processing Kiribati: Line Islands\n",
      "processing Kiribati: Phoenix Islands\n",
      "processing Marquesas\n",
      "processing Marshall Islands\n",
      "processing Nauru\n",
      "processing New Caledonia\n",
      "processing Niue\n",
      "processing Northern Cook Islands\n",
      "processing Northern Marianas\n",
      "processing Palau\n",
      "processing Papua New Guinea\n",
      "processing Pitcairn Islands\n",
      "processing Samoa\n",
      "processing Society Islands\n",
      "processing Solomon Islands\n",
      "processing Southern Cook Islands\n",
      "processing Tokelau\n",
      "processing Tonga\n",
      "processing Tuamotu / Gambier Islands\n",
      "processing Tuvalu\n",
      "processing Vanuatu North\n",
      "processing Vanuatu South\n",
      "processing Wallis & Futuna\n"
     ]
    }
   ],
   "source": [
    "for shp_filename in lshapefiles: \n",
    "    \n",
    "    shapes = salem.read_shapefile(shp_filename)\n",
    "    \n",
    "    country_fname = os.path.basename(shp_filename)[7:-4]\n",
    "    \n",
    "    country_name = dict_countries[country_fname]\n",
    "    \n",
    "    print(\"processing {}\".format(country_name))\n",
    "    \n",
    "    subset = dset.salem.subset(shape=shapes, margin=2)\n",
    "    \n",
    "    roi = subset.salem.roi(shape=shapes, all_touched=True)\n",
    "\n",
    "    gpm_ts = roi.mean(dim=('lat','lon')).to_dataframe()\n",
    "    \n",
    "    last_date = gpm_ts.index[-1]\n",
    "    \n",
    "    climo = pd.read_csv(dpath_climo / 'GPM_IMERG_monthly_climo_{}.csv'.format(country_fname), index_col=0)\n",
    "    \n",
    "    last_6_months = make_ts(gpm_ts, climo)\n",
    "        \n",
    "    last_6_months.to_csv(output_path / 'GPM_IMERG_{}_pbased.csv'.format(country_fname))"
   ]
  },
  {
   "cell_type": "code",
   "execution_count": 120,
   "metadata": {},
   "outputs": [
    {
     "data": {
      "text/plain": [
       "PosixPath('/home/nicolasf/operational/ICU/ops/GPM_IMERG/outputs/climatologies')"
      ]
     },
     "execution_count": 120,
     "metadata": {},
     "output_type": "execute_result"
    }
   ],
   "source": [
    "dpath_climo"
   ]
  },
  {
   "cell_type": "code",
   "execution_count": 121,
   "metadata": {},
   "outputs": [
    {
     "data": {
      "text/plain": [
       "PosixPath('/home/nicolasf/operational/ICU/ops/GPM_IMERG/outputs/Time_Series/last_6_months')"
      ]
     },
     "execution_count": 121,
     "metadata": {},
     "output_type": "execute_result"
    }
   ],
   "source": [
    "output_path"
   ]
  },
  {
   "cell_type": "code",
   "execution_count": 122,
   "metadata": {},
   "outputs": [
    {
     "data": {
      "text/html": [
       "<div>\n",
       "<style scoped>\n",
       "    .dataframe tbody tr th:only-of-type {\n",
       "        vertical-align: middle;\n",
       "    }\n",
       "\n",
       "    .dataframe tbody tr th {\n",
       "        vertical-align: top;\n",
       "    }\n",
       "\n",
       "    .dataframe thead th {\n",
       "        text-align: right;\n",
       "    }\n",
       "</style>\n",
       "<table border=\"1\" class=\"dataframe\">\n",
       "  <thead>\n",
       "    <tr style=\"text-align: right;\">\n",
       "      <th></th>\n",
       "      <th>year</th>\n",
       "      <th>month</th>\n",
       "      <th>precipitationCal</th>\n",
       "      <th>anomaly</th>\n",
       "      <th>percent</th>\n",
       "      <th>category</th>\n",
       "    </tr>\n",
       "    <tr>\n",
       "      <th>time</th>\n",
       "      <th></th>\n",
       "      <th></th>\n",
       "      <th></th>\n",
       "      <th></th>\n",
       "      <th></th>\n",
       "      <th></th>\n",
       "    </tr>\n",
       "  </thead>\n",
       "  <tbody>\n",
       "    <tr>\n",
       "      <th>2019-08-31 00:00:00</th>\n",
       "      <td>2019</td>\n",
       "      <td>8</td>\n",
       "      <td>4.448450</td>\n",
       "      <td>1.077634</td>\n",
       "      <td>131.969522</td>\n",
       "      <td>Well above</td>\n",
       "    </tr>\n",
       "    <tr>\n",
       "      <th>2019-09-30 00:00:00</th>\n",
       "      <td>2019</td>\n",
       "      <td>9</td>\n",
       "      <td>7.528955</td>\n",
       "      <td>1.552173</td>\n",
       "      <td>125.970047</td>\n",
       "      <td>Above</td>\n",
       "    </tr>\n",
       "    <tr>\n",
       "      <th>2019-10-31 00:00:00</th>\n",
       "      <td>2019</td>\n",
       "      <td>10</td>\n",
       "      <td>5.991062</td>\n",
       "      <td>-2.588615</td>\n",
       "      <td>69.828526</td>\n",
       "      <td>Below</td>\n",
       "    </tr>\n",
       "    <tr>\n",
       "      <th>2019-11-30 00:00:00</th>\n",
       "      <td>2019</td>\n",
       "      <td>11</td>\n",
       "      <td>10.047151</td>\n",
       "      <td>-1.705875</td>\n",
       "      <td>85.485654</td>\n",
       "      <td>Below</td>\n",
       "    </tr>\n",
       "    <tr>\n",
       "      <th>2019-12-31 00:00:00</th>\n",
       "      <td>2019</td>\n",
       "      <td>12</td>\n",
       "      <td>12.003279</td>\n",
       "      <td>-1.911412</td>\n",
       "      <td>86.263356</td>\n",
       "      <td>Normal</td>\n",
       "    </tr>\n",
       "    <tr>\n",
       "      <th>2020-01-31 00:00:00</th>\n",
       "      <td>2020</td>\n",
       "      <td>1</td>\n",
       "      <td>17.149258</td>\n",
       "      <td>5.078937</td>\n",
       "      <td>142.077897</td>\n",
       "      <td>Above</td>\n",
       "    </tr>\n",
       "  </tbody>\n",
       "</table>\n",
       "</div>"
      ],
      "text/plain": [
       "                     year  month  precipitationCal   anomaly     percent  \\\n",
       "time                                                                       \n",
       "2019-08-31 00:00:00  2019      8          4.448450  1.077634  131.969522   \n",
       "2019-09-30 00:00:00  2019      9          7.528955  1.552173  125.970047   \n",
       "2019-10-31 00:00:00  2019     10          5.991062 -2.588615   69.828526   \n",
       "2019-11-30 00:00:00  2019     11         10.047151 -1.705875   85.485654   \n",
       "2019-12-31 00:00:00  2019     12         12.003279 -1.911412   86.263356   \n",
       "2020-01-31 00:00:00  2020      1         17.149258  5.078937  142.077897   \n",
       "\n",
       "                       category  \n",
       "time                             \n",
       "2019-08-31 00:00:00  Well above  \n",
       "2019-09-30 00:00:00       Above  \n",
       "2019-10-31 00:00:00       Below  \n",
       "2019-11-30 00:00:00       Below  \n",
       "2019-12-31 00:00:00      Normal  \n",
       "2020-01-31 00:00:00       Above  "
      ]
     },
     "execution_count": 122,
     "metadata": {},
     "output_type": "execute_result"
    }
   ],
   "source": [
    "last_6_months"
   ]
  },
  {
   "cell_type": "code",
   "execution_count": 123,
   "metadata": {},
   "outputs": [
    {
     "data": {
      "text/html": [
       "<div>\n",
       "<style scoped>\n",
       "    .dataframe tbody tr th:only-of-type {\n",
       "        vertical-align: middle;\n",
       "    }\n",
       "\n",
       "    .dataframe tbody tr th {\n",
       "        vertical-align: top;\n",
       "    }\n",
       "\n",
       "    .dataframe thead th {\n",
       "        text-align: right;\n",
       "    }\n",
       "</style>\n",
       "<table border=\"1\" class=\"dataframe\">\n",
       "  <thead>\n",
       "    <tr style=\"text-align: right;\">\n",
       "      <th></th>\n",
       "      <th>precipitationCal</th>\n",
       "    </tr>\n",
       "    <tr>\n",
       "      <th>time</th>\n",
       "      <th></th>\n",
       "    </tr>\n",
       "  </thead>\n",
       "  <tbody>\n",
       "    <tr>\n",
       "      <th>2019-08-31 00:00:00</th>\n",
       "      <td>4.448450</td>\n",
       "    </tr>\n",
       "    <tr>\n",
       "      <th>2019-09-30 00:00:00</th>\n",
       "      <td>7.528955</td>\n",
       "    </tr>\n",
       "    <tr>\n",
       "      <th>2019-10-31 00:00:00</th>\n",
       "      <td>5.991062</td>\n",
       "    </tr>\n",
       "    <tr>\n",
       "      <th>2019-11-30 00:00:00</th>\n",
       "      <td>10.047151</td>\n",
       "    </tr>\n",
       "    <tr>\n",
       "      <th>2019-12-31 00:00:00</th>\n",
       "      <td>12.003279</td>\n",
       "    </tr>\n",
       "    <tr>\n",
       "      <th>2020-01-31 00:00:00</th>\n",
       "      <td>17.149258</td>\n",
       "    </tr>\n",
       "  </tbody>\n",
       "</table>\n",
       "</div>"
      ],
      "text/plain": [
       "                     precipitationCal\n",
       "time                                 \n",
       "2019-08-31 00:00:00          4.448450\n",
       "2019-09-30 00:00:00          7.528955\n",
       "2019-10-31 00:00:00          5.991062\n",
       "2019-11-30 00:00:00         10.047151\n",
       "2019-12-31 00:00:00         12.003279\n",
       "2020-01-31 00:00:00         17.149258"
      ]
     },
     "execution_count": 123,
     "metadata": {},
     "output_type": "execute_result"
    }
   ],
   "source": [
    "gpm_ts"
   ]
  },
  {
   "cell_type": "code",
   "execution_count": null,
   "metadata": {},
   "outputs": [],
   "source": []
  },
  {
   "cell_type": "code",
   "execution_count": null,
   "metadata": {},
   "outputs": [],
   "source": []
  },
  {
   "cell_type": "code",
   "execution_count": null,
   "metadata": {},
   "outputs": [],
   "source": []
  }
 ],
 "metadata": {
  "kernelspec": {
   "display_name": "Python 3",
   "language": "python",
   "name": "python3"
  },
  "language_info": {
   "codemirror_mode": {
    "name": "ipython",
    "version": 3
   },
   "file_extension": ".py",
   "mimetype": "text/x-python",
   "name": "python",
   "nbconvert_exporter": "python",
   "pygments_lexer": "ipython3",
   "version": "3.7.5"
  }
 },
 "nbformat": 4,
 "nbformat_minor": 4
}
