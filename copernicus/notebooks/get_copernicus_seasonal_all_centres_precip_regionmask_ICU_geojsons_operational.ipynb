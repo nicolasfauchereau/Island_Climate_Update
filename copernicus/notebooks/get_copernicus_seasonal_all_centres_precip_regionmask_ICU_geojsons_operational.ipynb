{
 "cells": [
  {
   "cell_type": "markdown",
   "metadata": {},
   "source": [
    "### extract the Copernicus rainfall forecasts for *land* grid points falling within the EEZ of each ICU country   \n",
    "\n",
    "\n",
    "uses a land-sea mask derived from the ETOPO1 dataset, see notebook `etopo_to_landseamask.ipynb` in ~/data/etopo1\n",
    "\n",
    "the conversion of the EEZ geometries from -180 -> 180 longitude to 0 -> 360 is done in the notebook `convert_shapefiles_0_360_EEZ.ipynb`"
   ]
  },
  {
   "cell_type": "code",
   "execution_count": 1,
   "metadata": {},
   "outputs": [],
   "source": [
    "%matplotlib inline\n",
    "from matplotlib import pyplot as plt\n",
    "import seaborn as sns"
   ]
  },
  {
   "cell_type": "code",
   "execution_count": 2,
   "metadata": {},
   "outputs": [],
   "source": [
    "import os\n",
    "import sys\n",
    "import glob\n",
    "import json\n",
    "import pathlib"
   ]
  },
  {
   "cell_type": "code",
   "execution_count": 3,
   "metadata": {},
   "outputs": [],
   "source": [
    "import numpy as np"
   ]
  },
  {
   "cell_type": "code",
   "execution_count": 4,
   "metadata": {},
   "outputs": [],
   "source": [
    "import pandas as pd"
   ]
  },
  {
   "cell_type": "code",
   "execution_count": 5,
   "metadata": {},
   "outputs": [],
   "source": [
    "import cartopy.crs as ccrs\n",
    "from cartopy import feature"
   ]
  },
  {
   "cell_type": "code",
   "execution_count": 6,
   "metadata": {},
   "outputs": [],
   "source": [
    "import xarray as xr\n",
    "import cfgrib\n",
    "import pygrib"
   ]
  },
  {
   "cell_type": "code",
   "execution_count": 7,
   "metadata": {},
   "outputs": [],
   "source": [
    "from datetime import datetime, timedelta"
   ]
  },
  {
   "cell_type": "code",
   "execution_count": 8,
   "metadata": {},
   "outputs": [],
   "source": [
    "from monthdelta import monthdelta\n",
    "from calendar import monthrange"
   ]
  },
  {
   "cell_type": "code",
   "execution_count": 9,
   "metadata": {},
   "outputs": [],
   "source": [
    "import salem"
   ]
  },
  {
   "cell_type": "code",
   "execution_count": 10,
   "metadata": {},
   "outputs": [],
   "source": [
    "import cdsapi"
   ]
  },
  {
   "cell_type": "code",
   "execution_count": 11,
   "metadata": {},
   "outputs": [],
   "source": [
    "import geopandas as gpd\n",
    "import fiona "
   ]
  },
  {
   "cell_type": "code",
   "execution_count": 12,
   "metadata": {},
   "outputs": [],
   "source": [
    "def get_dataframe_dist(dset, shape, varname='tpara', all_touched=False): \n",
    "    dset = dset.mean('step')\n",
    "    dset = dset.salem.subset(shape=shape, margin=0)\n",
    "    dset_map = dset.salem.roi(shape=shape, all_touched=all_touched)\n",
    "    dset_index = dset_map.mean('latitude').mean('longitude')\n",
    "    dset_index = dset_index.to_dataframe()\n",
    "    dset_index = dset_index.loc[:,[varname]]\n",
    "    #     dset_index = (dset_index - dset_index.mean()) / dset_index.std()\n",
    "    dset_index = dset_index * 1e9\n",
    "    return dset_index, dset_map.mean('number') * 1e9"
   ]
  },
  {
   "cell_type": "code",
   "execution_count": 13,
   "metadata": {},
   "outputs": [],
   "source": [
    "def plot_region_map(dset, model='ECMWF', vmin=-5, vmax=5, step=1, ax=None, cmap=plt.cm.RdBu, central_longitude=180, varname='tpara_masked'): \n",
    "    im = ax.pcolormesh(dset.longitude - central_longitude, dset.latitude, dset[varname], vmin=vmin, vmax=vmax, cmap=cmap)\n",
    "    cb = plt.colorbar(im, ax=ax, orientation='horizontal', ticks=np.arange(-5, 5 + 1, 1), boundaries=np.arange(vmin, vmax + step, step), drawedges=True, pad=0.01)\n",
    "    [l.set_fontsize(10) for l in cb.ax.xaxis.get_ticklabels()]\n",
    "    ax.coastlines(resolution='10m')\n",
    "    ax.set_title(model)\n",
    "    ax.gridlines(linestyle=':', alpha=0.5)"
   ]
  },
  {
   "cell_type": "code",
   "execution_count": 14,
   "metadata": {},
   "outputs": [],
   "source": [
    "def round_to_100_percent(number_set, digit_after_decimal=2):\n",
    "    \"\"\"\n",
    "        This function take a list of number and return a list of percentage, which represents the portion of each number in sum of all numbers\n",
    "        Moreover, those percentages are adding up to 100%!!!\n",
    "        Notice: the algorithm we are using here is 'Largest Remainder'\n",
    "        The down-side is that the results won't be accurate, but they are never accurate anyway:)\n",
    "    \"\"\"\n",
    "    unround_numbers = [x / float(sum(number_set)) * 100 * 10 ** digit_after_decimal for x in number_set]\n",
    "    decimal_part_with_index = sorted([(index, unround_numbers[index] % 1) for index in range(len(unround_numbers))], key=lambda y: y[1], reverse=True)\n",
    "    remainder = 100 * 10 ** digit_after_decimal - sum([int(x) for x in unround_numbers])\n",
    "    index = 0\n",
    "    while remainder > 0:\n",
    "        unround_numbers[decimal_part_with_index[index][0]] += 1\n",
    "        remainder -= 1\n",
    "        index = (index + 1) % len(number_set)\n",
    "    return [int(x) / float(10 ** digit_after_decimal) for x in unround_numbers]"
   ]
  },
  {
   "cell_type": "markdown",
   "metadata": {},
   "source": [
    "### try and retrieve the seasonal forecasts from ALL centres"
   ]
  },
  {
   "cell_type": "code",
   "execution_count": 15,
   "metadata": {},
   "outputs": [],
   "source": [
    "month = 3\n",
    "year = 2019"
   ]
  },
  {
   "cell_type": "code",
   "execution_count": 16,
   "metadata": {},
   "outputs": [],
   "source": [
    "varname = 'tpara'"
   ]
  },
  {
   "cell_type": "code",
   "execution_count": 17,
   "metadata": {},
   "outputs": [],
   "source": [
    "download = False"
   ]
  },
  {
   "cell_type": "code",
   "execution_count": 18,
   "metadata": {},
   "outputs": [],
   "source": [
    "forecast_dir = 'AMJ_2019'"
   ]
  },
  {
   "cell_type": "code",
   "execution_count": 19,
   "metadata": {},
   "outputs": [],
   "source": [
    "dpath_copernicus = pathlib.Path.home()  / 'drives' / 'auck_projects' / 'END19101' / 'Working' / 'data' / 'forecasts'"
   ]
  },
  {
   "cell_type": "code",
   "execution_count": 20,
   "metadata": {},
   "outputs": [],
   "source": [
    "centres = ['cmcc','dwd','ecmwf','meteo_france','ukmo']"
   ]
  },
  {
   "cell_type": "code",
   "execution_count": 21,
   "metadata": {},
   "outputs": [],
   "source": [
    "if download:\n",
    "    \n",
    "    c = cdsapi.Client()\n",
    "    \n",
    "    for centre in centres:\n",
    "        c = cdsapi.Client()\n",
    "        c.retrieve(\n",
    "        'seasonal-postprocessed-single-levels',\n",
    "        {\n",
    "            'format':'grib',\n",
    "            'originating_centre':centre,\n",
    "            'variable':'total_precipitation_anomalous_rate_of_accumulation',\n",
    "            'product_type':'monthly_mean',\n",
    "            'year':str(year),\n",
    "            'month':str(month),\n",
    "            'leadtime_month':[\n",
    "                '2','3','4'\n",
    "            ]\n",
    "        },\n",
    "        '{}/{}/{}_seas_forecasts_from_{}_{}_{}.grib'.format(str(dpath_copernicus), centre, varname, year, month, centre))"
   ]
  },
  {
   "cell_type": "code",
   "execution_count": 46,
   "metadata": {},
   "outputs": [],
   "source": [
    "ecmwf = xr.open_dataset(dpath_copernicus / 'ecmwf' / 'ensemble_tpara_seas_forecasts_from_{}_{}_ecmwf.grib'.format(year, month), \\\n",
    "                        engine='cfgrib', backend_kwargs={'indexpath':''})"
   ]
  },
  {
   "cell_type": "code",
   "execution_count": 47,
   "metadata": {},
   "outputs": [],
   "source": [
    "ukmo = xr.open_dataset(dpath_copernicus / 'ukmo' / 'ensemble_tpara_seas_forecasts_from_{}_{}_ukmo.grib'.format(year, month), \\\n",
    "                       engine='cfgrib', backend_kwargs={'indexpath':''})"
   ]
  },
  {
   "cell_type": "code",
   "execution_count": 48,
   "metadata": {},
   "outputs": [],
   "source": [
    "meteo_france = xr.open_dataset(dpath_copernicus / 'meteo_france' / 'ensemble_tpara_seas_forecasts_from_{}_{}_meteo_france.grib'.format(year, month), \\\n",
    "                               engine='cfgrib', backend_kwargs={'indexpath':''})"
   ]
  },
  {
   "cell_type": "code",
   "execution_count": 49,
   "metadata": {},
   "outputs": [],
   "source": [
    "cmcc = xr.open_dataset(dpath_copernicus / 'cmcc' / 'ensemble_tpara_seas_forecasts_from_{}_{}_cmcc.grib'.format(year, month), \\\n",
    "                       engine='cfgrib', backend_kwargs={'indexpath':''})"
   ]
  },
  {
   "cell_type": "code",
   "execution_count": 50,
   "metadata": {},
   "outputs": [],
   "source": [
    "dwd = xr.open_dataset(dpath_copernicus / 'dwd' / 'ensemble_tpara_seas_forecasts_from_{}_{}_dwd.grib'.format(year, month), \\\n",
    "                      engine='cfgrib', backend_kwargs={'indexpath':''})"
   ]
  },
  {
   "cell_type": "markdown",
   "metadata": {},
   "source": [
    "### interpolates the ECMWF dataset onto the others' grid"
   ]
  },
  {
   "cell_type": "code",
   "execution_count": 27,
   "metadata": {},
   "outputs": [],
   "source": [
    "ecmwf = ecmwf.interp_like(ukmo)"
   ]
  },
  {
   "cell_type": "markdown",
   "metadata": {},
   "source": [
    "### Now interpolates onto a 1/4 degree grid "
   ]
  },
  {
   "cell_type": "code",
   "execution_count": 28,
   "metadata": {},
   "outputs": [],
   "source": [
    "interp_res = True"
   ]
  },
  {
   "cell_type": "code",
   "execution_count": 29,
   "metadata": {},
   "outputs": [],
   "source": [
    "if interp_res: \n",
    "    \n",
    "    new_lon = np.arange(dwd.longitude.data[0], dwd.longitude.data[-1] + 0.25, 0.25)\n",
    "\n",
    "    new_lat = np.arange(dwd.latitude[0], dwd.latitude[-1] - 0.25, -0.25)\n",
    "\n",
    "    new_grid = {}\n",
    "    new_grid['latitude'] = (('latitude', new_lat))\n",
    "    new_grid['longitude'] = (('longitude', new_lon))\n",
    "\n",
    "    new_grid = xr.Dataset(new_grid)\n",
    "\n",
    "    #### now interpolate \n",
    "\n",
    "    ecmwf = ecmwf.interp_like(new_grid)\n",
    "\n",
    "    cmcc = cmcc.interp_like(new_grid)\n",
    "\n",
    "    dwd = dwd.interp_like(new_grid)\n",
    "\n",
    "    meteo_france = meteo_france.interp_like(new_grid)\n",
    "\n",
    "    ukmo = ukmo.interp_like(new_grid)"
   ]
  },
  {
   "cell_type": "markdown",
   "metadata": {},
   "source": [
    "### reads the land sea-mask \n",
    "\n",
    "There are 2 options, native resolution or interpolated resolution"
   ]
  },
  {
   "cell_type": "code",
   "execution_count": 30,
   "metadata": {},
   "outputs": [],
   "source": [
    "if interp_res: \n",
    "    lsmask = xr.open_dataset(pathlib.Path.cwd().parents[1] / 'data' / 'etopo1' / 'topo_0.25deg_RATIO_topo.nc')\n",
    "else: \n",
    "    lsmask = xr.open_dataset(pathlib.Path.cwd().parents[1] / 'data' / 'etopo1' / 'topo_1deg_RATIO_topo.nc')"
   ]
  },
  {
   "cell_type": "code",
   "execution_count": 31,
   "metadata": {},
   "outputs": [],
   "source": [
    "per = 0.0001"
   ]
  },
  {
   "cell_type": "code",
   "execution_count": 32,
   "metadata": {},
   "outputs": [],
   "source": [
    "mask = lsmask.where(lsmask.topo >= per).topo"
   ]
  },
  {
   "cell_type": "code",
   "execution_count": 33,
   "metadata": {},
   "outputs": [],
   "source": [
    "mask_data = mask.data"
   ]
  },
  {
   "cell_type": "code",
   "execution_count": 34,
   "metadata": {},
   "outputs": [
    {
     "name": "stderr",
     "output_type": "stream",
     "text": [
      "/home/nicolasf/anaconda3/envs/pangeo/lib/python3.6/site-packages/ipykernel_launcher.py:1: RuntimeWarning: invalid value encountered in greater_equal\n",
      "  \"\"\"Entry point for launching an IPython kernel.\n"
     ]
    }
   ],
   "source": [
    "mask_data[mask_data >= 0] = 1"
   ]
  },
  {
   "cell_type": "code",
   "execution_count": 35,
   "metadata": {},
   "outputs": [],
   "source": [
    "lsmask['mask_per'] = (('latitude', 'longitude'), mask_data)"
   ]
  },
  {
   "cell_type": "markdown",
   "metadata": {},
   "source": [
    "### plots the land sea mask "
   ]
  },
  {
   "cell_type": "code",
   "execution_count": 36,
   "metadata": {},
   "outputs": [
    {
     "data": {
      "text/plain": [
       "<xarray.Dataset>\n",
       "Dimensions:    (latitude: 717, longitude: 1437)\n",
       "Coordinates:\n",
       "  * latitude   (latitude) float64 89.5 89.25 89.0 88.75 ... -89.0 -89.25 -89.5\n",
       "  * longitude  (longitude) float64 0.5 0.75 1.0 1.25 ... 358.8 359.0 359.2 359.5\n",
       "Data variables:\n",
       "    topo       (latitude, longitude) float64 0.0 0.0 0.0 0.0 ... 1.0 1.0 1.0 1.0\n",
       "    mask       (latitude, longitude) float64 ...\n",
       "    topo_land  (latitude, longitude) float64 ...\n",
       "    mask_per   (latitude, longitude) float64 nan nan nan nan ... 1.0 1.0 1.0 1.0"
      ]
     },
     "execution_count": 36,
     "metadata": {},
     "output_type": "execute_result"
    }
   ],
   "source": [
    "lsmask"
   ]
  },
  {
   "cell_type": "code",
   "execution_count": 37,
   "metadata": {},
   "outputs": [
    {
     "data": {
      "text/plain": [
       "<matplotlib.collections.QuadMesh at 0x7fc64364c080>"
      ]
     },
     "execution_count": 37,
     "metadata": {},
     "output_type": "execute_result"
    },
    {
     "data": {
      "image/png": "[encoded data removed]",
      "text/plain": [
       "<Figure size 432x288 with 2 Axes>"
      ]
     },
     "metadata": {
      "needs_background": "light"
     },
     "output_type": "display_data"
    }
   ],
   "source": [
    "lsmask.sel(longitude=slice(100, 290), latitude=slice(20, -45))['mask_per'].plot()"
   ]
  },
  {
   "cell_type": "markdown",
   "metadata": {},
   "source": [
    "#### multiply the forecasts by the land sea mask "
   ]
  },
  {
   "cell_type": "code",
   "execution_count": 37,
   "metadata": {},
   "outputs": [],
   "source": [
    "cmcc['tpara_masked'] = cmcc['tpara'] * lsmask['mask_per']"
   ]
  },
  {
   "cell_type": "code",
   "execution_count": 38,
   "metadata": {},
   "outputs": [],
   "source": [
    "dwd['tpara_masked'] = dwd['tpara'] * lsmask['mask_per']"
   ]
  },
  {
   "cell_type": "code",
   "execution_count": 39,
   "metadata": {},
   "outputs": [],
   "source": [
    "ecmwf['tpara_masked'] = ecmwf['tpara'] * lsmask['mask_per']"
   ]
  },
  {
   "cell_type": "code",
   "execution_count": 40,
   "metadata": {},
   "outputs": [],
   "source": [
    "meteo_france['tpara_masked'] = meteo_france['tpara'] * lsmask['mask_per']"
   ]
  },
  {
   "cell_type": "code",
   "execution_count": 41,
   "metadata": {},
   "outputs": [],
   "source": [
    "ukmo['tpara_masked'] = ukmo['tpara'] * lsmask['mask_per']"
   ]
  },
  {
   "cell_type": "markdown",
   "metadata": {},
   "source": [
    "### loads the JSON file containing the dictionnary mapping the filenames for the converted shapefiles for each country to the actual country names with special characters"
   ]
  },
  {
   "cell_type": "code",
   "execution_count": 42,
   "metadata": {},
   "outputs": [],
   "source": [
    "with open(pathlib.Path.cwd().parents[1] / 'resources' /  'country_names_dictionnary.json', 'r') as fp: \n",
    "    dict_country_names = json.load(fp)"
   ]
  },
  {
   "cell_type": "markdown",
   "metadata": {},
   "source": [
    "### path to the shapefiles for the ICU Island Groups "
   ]
  },
  {
   "cell_type": "code",
   "execution_count": 43,
   "metadata": {},
   "outputs": [],
   "source": [
    "shapes_from_geojson_path = pathlib.Path.cwd().parents[1] /  'data' / 'shapefiles' / 'geojson' / 'converted'"
   ]
  },
  {
   "cell_type": "markdown",
   "metadata": {},
   "source": [
    "### make the forecast path if it doesnt exist "
   ]
  },
  {
   "cell_type": "code",
   "execution_count": 44,
   "metadata": {},
   "outputs": [],
   "source": [
    "if not (pathlib.Path.cwd().parent / 'figures' / 'forecasts' / forecast_dir).exists(): \n",
    "    (pathlib.Path.cwd().parent / 'figures' / 'forecasts' / forecast_dir).mkdir(parents=True)"
   ]
  },
  {
   "cell_type": "markdown",
   "metadata": {},
   "source": [
    "### loops over the country names, and derive the probabilistic forecasts from the distribution of rainfall anomalies "
   ]
  },
  {
   "cell_type": "code",
   "execution_count": 45,
   "metadata": {},
   "outputs": [
    {
     "name": "stdout",
     "output_type": "stream",
     "text": [
      "processing New Caledonia\n"
     ]
    },
    {
     "name": "stderr",
     "output_type": "stream",
     "text": [
      "/home/nicolasf/anaconda3/envs/pangeo/lib/python3.6/site-packages/xarray/core/nanops.py:159: RuntimeWarning: Mean of empty slice\n",
      "  return np.nanmean(a, axis=axis, dtype=dtype)\n",
      "/home/nicolasf/anaconda3/envs/pangeo/lib/python3.6/site-packages/scipy/stats/stats.py:1713: FutureWarning: Using a non-tuple sequence for multidimensional indexing is deprecated; use `arr[tuple(seq)]` instead of `arr[seq]`. In the future this will be interpreted as an array index, `arr[np.array(seq)]`, which will result either in an error or a different result.\n",
      "  return np.add.reduce(sorted[indexer] * weights, axis=axis) / sumval\n"
     ]
    },
    {
     "name": "stdout",
     "output_type": "stream",
     "text": [
      "processing Pitcairn Islands\n",
      "processing Papua New Guinea\n",
      "processing Solomon Islands\n",
      "processing Kiribati: Phoenix Islands\n",
      "processing Fiji\n",
      "processing Tuvalu\n",
      "processing Northern Cook Islands\n",
      "processing Kiribati: Line Islands\n",
      "processing Federated States of Micronesia\n",
      "processing Samoa\n",
      "processing Kiribati: Gilbert Islands\n",
      "processing Wallis & Futuna\n",
      "processing Tokelau\n",
      "processing Tuamotu / Gambier Islands\n",
      "processing Tonga\n",
      "processing Niue\n",
      "processing Southern Cook Islands\n",
      "processing Austral Islands\n",
      "processing Society Islands\n",
      "processing Marquesas\n",
      "processing Vanuatu South\n",
      "processing Vanuatu North\n",
      "processing Guam\n",
      "processing Northern Marianas\n",
      "processing Marshall Islands\n",
      "processing Nauru\n",
      "processing Palau\n",
      "processing American Samoa\n"
     ]
    }
   ],
   "source": [
    "dist_probs = []\n",
    "all_probs = []\n",
    "\n",
    "for country_fname in dict_country_names.keys(): \n",
    "    \n",
    "    country_name = dict_country_names[country_fname]\n",
    "    \n",
    "    print(\"processing {}\".format(country_name))\n",
    "    \n",
    "    shape = gpd.read_file(shapes_from_geojson_path / 'shapes_{}_converted.shp'.format(country_fname))\n",
    "    \n",
    "    ecmwf_index, ecmwf_map = get_dataframe_dist(ecmwf, shape, varname='tpara_masked', all_touched=True) \n",
    "    meteo_france_index, meteo_france_map = get_dataframe_dist(meteo_france, shape, varname='tpara_masked', all_touched=True)\n",
    "    ukmo_index, ukmo_map = get_dataframe_dist(ukmo, shape, varname='tpara_masked', all_touched=True)\n",
    "    dwd_index, dwd_map = get_dataframe_dist(dwd, shape, varname='tpara_masked', all_touched=True) \n",
    "    cmcc_index, cmcc_map = get_dataframe_dist(cmcc, shape, varname='tpara_masked', all_touched=True)\n",
    "    \n",
    "    concat_dist = pd.concat([ecmwf_index, ukmo_index, meteo_france_index, cmcc_index, dwd_index], axis=0)\n",
    "    \n",
    "    concat_dist = concat_dist.dropna()\n",
    "    \n",
    "    concat_dist.to_csv(pathlib.Path.cwd().parent / 'outputs' / 'distribution_{}_v2_{}.csv'.format(country_fname, forecast_dir))\n",
    "    \n",
    "    sns.set_context('paper')\n",
    "    \n",
    "    concat_dist_3cat = concat_dist.copy()\n",
    "    \n",
    "    labels = ['T1','T2','T3'] \n",
    "    \n",
    "    # starts with a U-shaped tercile distribution, then iteratively change \n",
    "    # the threshold until the distribution is ordered\n",
    "    \n",
    "    dist_prob3 = pd.Series([40,20,40], index=labels)\n",
    "    \n",
    "    boundary = 4\n",
    "    \n",
    "    while (dist_prob3.T3 > dist_prob3.T2) and (dist_prob3.T1 > dist_prob3.T2): \n",
    "\n",
    "        thresholds = [-np.inf, -boundary, boundary + 1e-9, np.inf]\n",
    "\n",
    "        concat_dist_3cat.loc[:,'outcome'] = pd.cut(concat_dist_3cat.tpara_masked.values.flatten(), thresholds, labels=labels)\n",
    "\n",
    "        dist_prob3 = ((pd.value_counts(concat_dist_3cat.outcome) / len(concat_dist_3cat)) * 100).reindex(labels)\n",
    "\n",
    "        dist_prob3.loc[:,] = np.array(round_to_100_percent(dist_prob3.values, digit_after_decimal=0))\n",
    "\n",
    "        boundary += 1\n",
    "\n",
    "    mat_prob = dist_prob3.to_frame().T\n",
    "    mat_prob.index = [country_fname]\n",
    "    mat_prob.loc[:,'country_fname'] = country_fname\n",
    "    mat_prob.loc[:,'country_name'] = country_name\n",
    "    all_probs.append(mat_prob)\n",
    "    \n",
    "    label = \"Blw: {0}, Nml: {1}, Abv: {2}\".format(*dist_prob3.values.tolist())\n",
    "\n",
    "    f, ax = plt.subplots()\n",
    "    f.subplots_adjust(bottom=0.26, top=0.85, left=0.15)\n",
    "    dist_prob3.plot(kind='bar', color=['coral','0.8','steelblue'], ax=ax, width=0.9)\n",
    "    ax.set_title(\"{}: {}\\n{}, threshold {} mm\".format(country_name, varname, label, boundary))\n",
    "    ax.set_ylabel('%')\n",
    "    f.savefig(pathlib.Path.cwd().parent / 'figures' / 'forecasts' / forecast_dir / '{}_3cat_{}.png'.format(country_fname, forecast_dir), dpi=200)   \n",
    "    plt.close(f)\n",
    "    \n",
    "    f, ax = plt.subplots()\n",
    "    f.subplots_adjust(top=0.75)\n",
    "    sns.distplot(concat_dist, ax=ax, rug=True, norm_hist=True, color='0.3')\n",
    "    ax.axvline(0, color='k')\n",
    "    ax.axvline(-boundary, color='b', lw=2)\n",
    "    ax.axvline(boundary, color='r', lw=2)\n",
    "    ax.grid(ls=':')\n",
    "    ax.set_title('distribution of rainfall anomalies\\n{}\\nN = {}'.format(country_name, len(concat_dist.dropna())))\n",
    "    f.savefig(pathlib.Path.cwd().parent / 'figures' / 'forecasts' / forecast_dir / 'distribution_{}_v2_{}.png'.format(country_fname, forecast_dir), dpi=200)\n",
    "    plt.close(f)\n",
    "    \n",
    "    concat_dist.columns = [country_name]\n",
    "    \n",
    "    dist_probs.append(concat_dist)\n",
    "    "
   ]
  },
  {
   "cell_type": "markdown",
   "metadata": {},
   "source": [
    "### concatenates the forecasts in one Pandas DataFrame "
   ]
  },
  {
   "cell_type": "code",
   "execution_count": 51,
   "metadata": {},
   "outputs": [],
   "source": [
    "all_probs_df = pd.concat(all_probs, axis=0)"
   ]
  },
  {
   "cell_type": "code",
   "execution_count": 52,
   "metadata": {},
   "outputs": [],
   "source": [
    "all_probs_df = all_probs_df.astype({\"T1\": int, \"T2\": int, 'T3':int})"
   ]
  },
  {
   "cell_type": "code",
   "execution_count": 53,
   "metadata": {},
   "outputs": [
    {
     "data": {
      "text/html": [
       "<div>\n",
       "<style scoped>\n",
       "    .dataframe tbody tr th:only-of-type {\n",
       "        vertical-align: middle;\n",
       "    }\n",
       "\n",
       "    .dataframe tbody tr th {\n",
       "        vertical-align: top;\n",
       "    }\n",
       "\n",
       "    .dataframe thead th {\n",
       "        text-align: right;\n",
       "    }\n",
       "</style>\n",
       "<table border=\"1\" class=\"dataframe\">\n",
       "  <thead>\n",
       "    <tr style=\"text-align: right;\">\n",
       "      <th></th>\n",
       "      <th>T1</th>\n",
       "      <th>T2</th>\n",
       "      <th>T3</th>\n",
       "      <th>country_fname</th>\n",
       "      <th>country_name</th>\n",
       "    </tr>\n",
       "  </thead>\n",
       "  <tbody>\n",
       "    <tr>\n",
       "      <th>New_Caledonia</th>\n",
       "      <td>72</td>\n",
       "      <td>17</td>\n",
       "      <td>11</td>\n",
       "      <td>New_Caledonia</td>\n",
       "      <td>New Caledonia</td>\n",
       "    </tr>\n",
       "    <tr>\n",
       "      <th>Pitcairn_Islands</th>\n",
       "      <td>26</td>\n",
       "      <td>27</td>\n",
       "      <td>47</td>\n",
       "      <td>Pitcairn_Islands</td>\n",
       "      <td>Pitcairn Islands</td>\n",
       "    </tr>\n",
       "    <tr>\n",
       "      <th>Papua_New_Guinea</th>\n",
       "      <td>43</td>\n",
       "      <td>31</td>\n",
       "      <td>26</td>\n",
       "      <td>Papua_New_Guinea</td>\n",
       "      <td>Papua New Guinea</td>\n",
       "    </tr>\n",
       "    <tr>\n",
       "      <th>Solomon_Islands</th>\n",
       "      <td>26</td>\n",
       "      <td>32</td>\n",
       "      <td>42</td>\n",
       "      <td>Solomon_Islands</td>\n",
       "      <td>Solomon Islands</td>\n",
       "    </tr>\n",
       "    <tr>\n",
       "      <th>Kiribati:_Phoenix_Islands</th>\n",
       "      <td>1</td>\n",
       "      <td>2</td>\n",
       "      <td>97</td>\n",
       "      <td>Kiribati:_Phoenix_Islands</td>\n",
       "      <td>Kiribati: Phoenix Islands</td>\n",
       "    </tr>\n",
       "  </tbody>\n",
       "</table>\n",
       "</div>"
      ],
      "text/plain": [
       "                           T1  T2  T3              country_fname  \\\n",
       "New_Caledonia              72  17  11              New_Caledonia   \n",
       "Pitcairn_Islands           26  27  47           Pitcairn_Islands   \n",
       "Papua_New_Guinea           43  31  26           Papua_New_Guinea   \n",
       "Solomon_Islands            26  32  42            Solomon_Islands   \n",
       "Kiribati:_Phoenix_Islands   1   2  97  Kiribati:_Phoenix_Islands   \n",
       "\n",
       "                                        country_name  \n",
       "New_Caledonia                          New Caledonia  \n",
       "Pitcairn_Islands                    Pitcairn Islands  \n",
       "Papua_New_Guinea                    Papua New Guinea  \n",
       "Solomon_Islands                      Solomon Islands  \n",
       "Kiribati:_Phoenix_Islands  Kiribati: Phoenix Islands  "
      ]
     },
     "execution_count": 53,
     "metadata": {},
     "output_type": "execute_result"
    }
   ],
   "source": [
    "all_probs_df.head()"
   ]
  },
  {
   "cell_type": "code",
   "execution_count": 54,
   "metadata": {},
   "outputs": [],
   "source": [
    "dist_probs_all = pd.concat(dist_probs, axis=1)"
   ]
  },
  {
   "cell_type": "code",
   "execution_count": 55,
   "metadata": {},
   "outputs": [],
   "source": [
    "std_dist = dist_probs_all.std().to_frame()"
   ]
  },
  {
   "cell_type": "code",
   "execution_count": 56,
   "metadata": {},
   "outputs": [],
   "source": [
    "std_dist.columns = ['std']"
   ]
  },
  {
   "cell_type": "code",
   "execution_count": 57,
   "metadata": {},
   "outputs": [],
   "source": [
    "all_probs_df = all_probs_df.set_index('country_name')"
   ]
  },
  {
   "cell_type": "code",
   "execution_count": 58,
   "metadata": {},
   "outputs": [],
   "source": [
    "all_probs_df = all_probs_df.merge(std_dist, left_index=True, right_index=True)"
   ]
  },
  {
   "cell_type": "markdown",
   "metadata": {},
   "source": [
    "### calculates the confidence level from the standard deviation of the rainfall anomalies (subjective)"
   ]
  },
  {
   "cell_type": "code",
   "execution_count": 59,
   "metadata": {},
   "outputs": [],
   "source": [
    "all_probs_df.loc[:,'CONFIDENCE'] = pd.cut(all_probs_df.loc[:,'std'], bins=[0, 15, 20, 25], labels=['High','Moderate-High','Moderate'])"
   ]
  },
  {
   "cell_type": "code",
   "execution_count": 60,
   "metadata": {},
   "outputs": [],
   "source": [
    "all_probs_df.index.name = 'country_name'"
   ]
  },
  {
   "cell_type": "markdown",
   "metadata": {},
   "source": [
    "### if the bulletin directory does not exists, create it "
   ]
  },
  {
   "cell_type": "code",
   "execution_count": 61,
   "metadata": {},
   "outputs": [],
   "source": [
    "opath = pathlib.Path.cwd().parents[1] / 'bulletin' / forecast_dir"
   ]
  },
  {
   "cell_type": "code",
   "execution_count": 62,
   "metadata": {},
   "outputs": [],
   "source": [
    "if not opath.exists(): \n",
    "    opath.mkdir(parents=True)"
   ]
  },
  {
   "cell_type": "markdown",
   "metadata": {},
   "source": [
    "### saves the forecasts to disk "
   ]
  },
  {
   "cell_type": "code",
   "execution_count": 63,
   "metadata": {},
   "outputs": [],
   "source": [
    "all_probs_df.to_csv(opath / 'copernicus_forecasts_{}.csv'.format(forecast_dir))"
   ]
  },
  {
   "cell_type": "code",
   "execution_count": null,
   "metadata": {},
   "outputs": [],
   "source": []
  }
 ],
 "metadata": {
  "kernelspec": {
   "display_name": "Python 3",
   "language": "python",
   "name": "python3"
  },
  "language_info": {
   "codemirror_mode": {
    "name": "ipython",
    "version": 3
   },
   "file_extension": ".py",
   "mimetype": "text/x-python",
   "name": "python",
   "nbconvert_exporter": "python",
   "pygments_lexer": "ipython3",
   "version": "3.6.6"
  }
 },
 "nbformat": 4,
 "nbformat_minor": 2
}
