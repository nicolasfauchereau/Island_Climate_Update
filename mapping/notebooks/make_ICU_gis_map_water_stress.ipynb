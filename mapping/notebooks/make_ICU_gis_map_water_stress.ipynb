{
 "cells": [
  {
   "cell_type": "markdown",
   "metadata": {},
   "source": [
    "# mapping the ICU water stress"
   ]
  },
  {
   "cell_type": "code",
   "execution_count": 1,
   "metadata": {},
   "outputs": [],
   "source": [
    "%matplotlib inline"
   ]
  },
  {
   "cell_type": "code",
   "execution_count": 2,
   "metadata": {},
   "outputs": [],
   "source": [
    "import os\n",
    "import sys\n",
    "import pathlib"
   ]
  },
  {
   "cell_type": "code",
   "execution_count": 3,
   "metadata": {},
   "outputs": [],
   "source": [
    "import numpy as np\n",
    "import pandas as pd\n",
    "\n",
    "import geopandas as gpd\n",
    "\n",
    "import cartopy.crs as ccrs\n",
    "from cartopy.feature import ShapelyFeature\n",
    "import cartopy.io.shapereader as shpreader\n",
    "\n",
    "import matplotlib.pyplot as plt\n",
    "from matplotlib import patheffects\n",
    "from matplotlib.transforms import offset_copy"
   ]
  },
  {
   "cell_type": "markdown",
   "metadata": {},
   "source": [
    "### loads the local functions"
   ]
  },
  {
   "cell_type": "code",
   "execution_count": 4,
   "metadata": {},
   "outputs": [],
   "source": [
    "sys.path.append(str(pathlib.Path.cwd().parent))"
   ]
  },
  {
   "cell_type": "code",
   "execution_count": 5,
   "metadata": {},
   "outputs": [],
   "source": [
    "from lib import *"
   ]
  },
  {
   "cell_type": "markdown",
   "metadata": {},
   "source": [
    "### bulletin directory "
   ]
  },
  {
   "cell_type": "code",
   "execution_count": 6,
   "metadata": {},
   "outputs": [],
   "source": [
    "bulletin_dir = 'MJJ_2019'"
   ]
  },
  {
   "cell_type": "markdown",
   "metadata": {},
   "source": [
    "### season"
   ]
  },
  {
   "cell_type": "code",
   "execution_count": 7,
   "metadata": {},
   "outputs": [],
   "source": [
    "season = 'May - Jul.'"
   ]
  },
  {
   "cell_type": "markdown",
   "metadata": {},
   "source": [
    "### project folder on the project drive "
   ]
  },
  {
   "cell_type": "code",
   "execution_count": 8,
   "metadata": {},
   "outputs": [],
   "source": [
    "if not (pathlib.Path.home() / 'drives' / 'auck_projects' / 'ICU14101' / 'Working' / bulletin_dir).exists(): \n",
    "    (pathlib.Path.home() / 'drives' / 'auck_projects' / 'ICU14101' / 'Working' / bulletin_dir).mkdir(parents=True)"
   ]
  },
  {
   "cell_type": "markdown",
   "metadata": {},
   "source": [
    "### defines the path to the shapefiles "
   ]
  },
  {
   "cell_type": "code",
   "execution_count": 9,
   "metadata": {},
   "outputs": [],
   "source": [
    "shapes_path = pathlib.Path.cwd().parents[1] / 'data' / 'shapefiles' / 'ICU' / 'all_ICU_countries'"
   ]
  },
  {
   "cell_type": "markdown",
   "metadata": {},
   "source": [
    "### build dictionnary with level: colors for mapping of water stress level"
   ]
  },
  {
   "cell_type": "code",
   "execution_count": 10,
   "metadata": {},
   "outputs": [],
   "source": [
    "stress_rgb = [[49, 130, 189], [158, 202, 225], [222, 235, 247], [255, 255, 255], [254, 224, 210], [252, 146, 114], [222, 45, 38]]"
   ]
  },
  {
   "cell_type": "code",
   "execution_count": 11,
   "metadata": {},
   "outputs": [],
   "source": [
    "stress_rgb = [rgb2hex(*x) for x in stress_rgb]"
   ]
  },
  {
   "cell_type": "code",
   "execution_count": 12,
   "metadata": {},
   "outputs": [],
   "source": [
    "stress_rgb = dict(zip([3, 2, 1, 0, -1, -2, -3], stress_rgb))"
   ]
  },
  {
   "cell_type": "markdown",
   "metadata": {},
   "source": [
    "### set crs here "
   ]
  },
  {
   "cell_type": "markdown",
   "metadata": {},
   "source": [
    "**NOTE**: potential problems with the Mercator projection might be due to the version of `proj4` that is used"
   ]
  },
  {
   "cell_type": "code",
   "execution_count": 13,
   "metadata": {},
   "outputs": [],
   "source": [
    "extent = [125, -120, -32, 25]"
   ]
  },
  {
   "cell_type": "code",
   "execution_count": 14,
   "metadata": {},
   "outputs": [],
   "source": [
    "crs = ccrs.Mercator(central_longitude=180., latitude_true_scale=0., min_latitude=extent[-2], max_latitude=extent[-1])"
   ]
  },
  {
   "cell_type": "markdown",
   "metadata": {},
   "source": [
    "### read the shapefile with the ICU EEZ geometries"
   ]
  },
  {
   "cell_type": "code",
   "execution_count": 15,
   "metadata": {},
   "outputs": [],
   "source": [
    "shapes_path = pathlib.Path.cwd().parents[1] / 'data' / 'shapefiles' / 'ICU' / 'all_ICU_countries'"
   ]
  },
  {
   "cell_type": "code",
   "execution_count": 16,
   "metadata": {},
   "outputs": [],
   "source": [
    "shape_gpd = gpd.read_file(shapes_path / 'ALL_ICU_countries.shp')"
   ]
  },
  {
   "cell_type": "code",
   "execution_count": 17,
   "metadata": {},
   "outputs": [],
   "source": [
    "shape_gpd = shape_gpd.loc[:,['COUNTRYNAM','geometry']]"
   ]
  },
  {
   "cell_type": "code",
   "execution_count": 18,
   "metadata": {},
   "outputs": [],
   "source": [
    "lons_lats = {}\n",
    "for i, row in shape_gpd.iterrows():\n",
    "    geom = row.geometry\n",
    "    x = geom.centroid.xy[0][0]\n",
    "    y = geom.centroid.xy[1][0]\n",
    "    lons_lats[row.COUNTRYNAM] = np.array([x, y]) \n",
    "lons_lats = pd.DataFrame(lons_lats).T\n",
    "lons_lats.columns = ['lon','lat']"
   ]
  },
  {
   "cell_type": "code",
   "execution_count": 19,
   "metadata": {},
   "outputs": [],
   "source": [
    "shape_gpd.set_index('COUNTRYNAM', drop=False, inplace=True)"
   ]
  },
  {
   "cell_type": "code",
   "execution_count": 20,
   "metadata": {},
   "outputs": [],
   "source": [
    "shape_gpd.loc[:,'name_to_plot'] = shape_gpd.loc[:,'COUNTRYNAM']"
   ]
  },
  {
   "cell_type": "code",
   "execution_count": 21,
   "metadata": {},
   "outputs": [],
   "source": [
    "shape_gpd = shape_gpd.merge(lons_lats, left_index=True, right_index=True)"
   ]
  },
  {
   "cell_type": "code",
   "execution_count": 22,
   "metadata": {},
   "outputs": [
    {
     "data": {
      "text/html": [
       "<div>\n",
       "<style scoped>\n",
       "    .dataframe tbody tr th:only-of-type {\n",
       "        vertical-align: middle;\n",
       "    }\n",
       "\n",
       "    .dataframe tbody tr th {\n",
       "        vertical-align: top;\n",
       "    }\n",
       "\n",
       "    .dataframe thead th {\n",
       "        text-align: right;\n",
       "    }\n",
       "</style>\n",
       "<table border=\"1\" class=\"dataframe\">\n",
       "  <thead>\n",
       "    <tr style=\"text-align: right;\">\n",
       "      <th></th>\n",
       "      <th>COUNTRYNAM</th>\n",
       "      <th>geometry</th>\n",
       "      <th>name_to_plot</th>\n",
       "      <th>lon</th>\n",
       "      <th>lat</th>\n",
       "    </tr>\n",
       "  </thead>\n",
       "  <tbody>\n",
       "    <tr>\n",
       "      <th>Northern Marianas</th>\n",
       "      <td>Northern Marianas</td>\n",
       "      <td>POLYGON ((142.130214 15.621139, 142.2 15.91558...</td>\n",
       "      <td>Northern Marianas</td>\n",
       "      <td>145.787063</td>\n",
       "      <td>18.242864</td>\n",
       "    </tr>\n",
       "    <tr>\n",
       "      <th>Marshall Islands</th>\n",
       "      <td>Marshall Islands</td>\n",
       "      <td>POLYGON ((168.5875 1.767222, 168.289595 1.8735...</td>\n",
       "      <td>Marshall Islands</td>\n",
       "      <td>167.498711</td>\n",
       "      <td>10.119736</td>\n",
       "    </tr>\n",
       "    <tr>\n",
       "      <th>Nauru</th>\n",
       "      <td>Nauru</td>\n",
       "      <td>POLYGON ((167.823425 -3.76847, 167.8081 -3.771...</td>\n",
       "      <td>Nauru</td>\n",
       "      <td>166.123609</td>\n",
       "      <td>-0.575436</td>\n",
       "    </tr>\n",
       "    <tr>\n",
       "      <th>Palau</th>\n",
       "      <td>Palau</td>\n",
       "      <td>POLYGON ((134.615853 3.445384, 133.925946 3.02...</td>\n",
       "      <td>Palau</td>\n",
       "      <td>133.069028</td>\n",
       "      <td>6.360811</td>\n",
       "    </tr>\n",
       "    <tr>\n",
       "      <th>American Samoa</th>\n",
       "      <td>American Samoa</td>\n",
       "      <td>(POLYGON ((-171.309843 -16.844947, -171.496166...</td>\n",
       "      <td>American Samoa</td>\n",
       "      <td>-169.057020</td>\n",
       "      <td>-13.860065</td>\n",
       "    </tr>\n",
       "  </tbody>\n",
       "</table>\n",
       "</div>"
      ],
      "text/plain": [
       "                          COUNTRYNAM  \\\n",
       "Northern Marianas  Northern Marianas   \n",
       "Marshall Islands    Marshall Islands   \n",
       "Nauru                          Nauru   \n",
       "Palau                          Palau   \n",
       "American Samoa        American Samoa   \n",
       "\n",
       "                                                            geometry  \\\n",
       "Northern Marianas  POLYGON ((142.130214 15.621139, 142.2 15.91558...   \n",
       "Marshall Islands   POLYGON ((168.5875 1.767222, 168.289595 1.8735...   \n",
       "Nauru              POLYGON ((167.823425 -3.76847, 167.8081 -3.771...   \n",
       "Palau              POLYGON ((134.615853 3.445384, 133.925946 3.02...   \n",
       "American Samoa     (POLYGON ((-171.309843 -16.844947, -171.496166...   \n",
       "\n",
       "                        name_to_plot         lon        lat  \n",
       "Northern Marianas  Northern Marianas  145.787063  18.242864  \n",
       "Marshall Islands    Marshall Islands  167.498711  10.119736  \n",
       "Nauru                          Nauru  166.123609  -0.575436  \n",
       "Palau                          Palau  133.069028   6.360811  \n",
       "American Samoa        American Samoa -169.057020 -13.860065  "
      ]
     },
     "execution_count": 22,
     "metadata": {},
     "output_type": "execute_result"
    }
   ],
   "source": [
    "shape_gpd.tail()"
   ]
  },
  {
   "cell_type": "markdown",
   "metadata": {},
   "source": [
    "### some changes to the lat and lon position of the Island Group name in the map to avoid overlaps "
   ]
  },
  {
   "cell_type": "code",
   "execution_count": 23,
   "metadata": {},
   "outputs": [],
   "source": [
    "shape_gpd.loc['Fiji','lon'] = 181\n",
    "\n",
    "shape_gpd.loc['Tuvalu','lon'] = 180\n",
    "\n",
    "shape_gpd.loc['Tuamotu / Gambier Islands','lon'] = shape_gpd.loc['Tuamotu / Gambier Islands','lon'] + 2\n",
    "\n",
    "shape_gpd.loc['Kiribati: Gilbert Islands','lon'] = shape_gpd.loc['Kiribati: Gilbert Islands','lon'] + 2\n",
    "\n",
    "shape_gpd.loc['Wallis & Futuna','lon'] = shape_gpd.loc['Wallis & Futuna','lon'] -3\n",
    "shape_gpd.loc['Wallis & Futuna','lat'] = shape_gpd.loc['Wallis & Futuna','lat'] + 1\n",
    "\n",
    "shape_gpd.loc['American Samoa','lon'] = shape_gpd.loc['American Samoa','lon'] + 2\n",
    "shape_gpd.loc['American Samoa','lat'] = shape_gpd.loc['American Samoa','lat'] + 1\n",
    "\n",
    "shape_gpd.loc['Samoa','lat'] = shape_gpd.loc['Samoa','lat'] - 1\n",
    "\n",
    "shape_gpd.loc['Nauru','lat'] = shape_gpd.loc['Nauru','lat'] - 1\n",
    "\n",
    "shape_gpd.loc['Southern Cook Islands','lat'] = shape_gpd.loc['Southern Cook Islands','lat'] - 1\n",
    "\n",
    "shape_gpd.loc['Tonga','lon'] = shape_gpd.loc['Tonga','lon'] + 1"
   ]
  },
  {
   "cell_type": "markdown",
   "metadata": {},
   "source": [
    "### reads the table containing the water stress"
   ]
  },
  {
   "cell_type": "code",
   "execution_count": 24,
   "metadata": {},
   "outputs": [
    {
     "data": {
      "text/plain": [
       "PosixPath('/home/nicolasf/operational/ICU/ops/bulletin/MJJ_2019')"
      ]
     },
     "execution_count": 24,
     "metadata": {},
     "output_type": "execute_result"
    }
   ],
   "source": [
    "pathlib.Path.cwd().parents[1] / 'bulletin' / bulletin_dir"
   ]
  },
  {
   "cell_type": "code",
   "execution_count": 25,
   "metadata": {},
   "outputs": [],
   "source": [
    "table_stress = pd.read_csv(pathlib.Path.cwd().parents[1] / 'bulletin' / bulletin_dir / 'ICU_stress_table_for_mapping.csv')"
   ]
  },
  {
   "cell_type": "code",
   "execution_count": 26,
   "metadata": {},
   "outputs": [],
   "source": [
    "table_stress = table_stress.loc[:,['locationID','stress_category']]"
   ]
  },
  {
   "cell_type": "code",
   "execution_count": 27,
   "metadata": {},
   "outputs": [],
   "source": [
    "table_stress = table_stress.set_index('locationID', drop=True)"
   ]
  },
  {
   "cell_type": "code",
   "execution_count": 28,
   "metadata": {},
   "outputs": [],
   "source": [
    "shape_gpd_m = shape_gpd.merge(table_stress, left_index=True, right_index=True)"
   ]
  },
  {
   "cell_type": "code",
   "execution_count": 29,
   "metadata": {},
   "outputs": [
    {
     "data": {
      "text/html": [
       "<div>\n",
       "<style scoped>\n",
       "    .dataframe tbody tr th:only-of-type {\n",
       "        vertical-align: middle;\n",
       "    }\n",
       "\n",
       "    .dataframe tbody tr th {\n",
       "        vertical-align: top;\n",
       "    }\n",
       "\n",
       "    .dataframe thead th {\n",
       "        text-align: right;\n",
       "    }\n",
       "</style>\n",
       "<table border=\"1\" class=\"dataframe\">\n",
       "  <thead>\n",
       "    <tr style=\"text-align: right;\">\n",
       "      <th></th>\n",
       "      <th>COUNTRYNAM</th>\n",
       "      <th>geometry</th>\n",
       "      <th>name_to_plot</th>\n",
       "      <th>lon</th>\n",
       "      <th>lat</th>\n",
       "      <th>stress_category</th>\n",
       "    </tr>\n",
       "  </thead>\n",
       "  <tbody>\n",
       "    <tr>\n",
       "      <th>New Caledonia</th>\n",
       "      <td>New Caledonia</td>\n",
       "      <td>POLYGON ((158.6108 -25.14667, 157.8011 -23.248...</td>\n",
       "      <td>New Caledonia</td>\n",
       "      <td>163.075425</td>\n",
       "      <td>-20.864542</td>\n",
       "      <td>-2</td>\n",
       "    </tr>\n",
       "    <tr>\n",
       "      <th>Pitcairn Islands</th>\n",
       "      <td>Pitcairn Islands</td>\n",
       "      <td>POLYGON ((-132.499382 -22.511733, -132.228513 ...</td>\n",
       "      <td>Pitcairn Islands</td>\n",
       "      <td>-127.470494</td>\n",
       "      <td>-24.568268</td>\n",
       "      <td>-1</td>\n",
       "    </tr>\n",
       "    <tr>\n",
       "      <th>Papua New Guinea</th>\n",
       "      <td>Papua New Guinea</td>\n",
       "      <td>POLYGON ((157.168058 -13.692712, 157.038334 -1...</td>\n",
       "      <td>Papua New Guinea</td>\n",
       "      <td>149.829278</td>\n",
       "      <td>-5.626700</td>\n",
       "      <td>-1</td>\n",
       "    </tr>\n",
       "    <tr>\n",
       "      <th>Solomon Islands</th>\n",
       "      <td>Solomon Islands</td>\n",
       "      <td>POLYGON ((173.5906 -11.85417, 173.525754 -12.5...</td>\n",
       "      <td>Solomon Islands</td>\n",
       "      <td>163.613350</td>\n",
       "      <td>-10.031313</td>\n",
       "      <td>0</td>\n",
       "    </tr>\n",
       "    <tr>\n",
       "      <th>Kiribati: Phoenix Islands</th>\n",
       "      <td>Kiribati: Phoenix Islands</td>\n",
       "      <td>POLYGON ((-168.921636 -6.882211000000032, -170...</td>\n",
       "      <td>Kiribati: Phoenix Islands</td>\n",
       "      <td>-172.445006</td>\n",
       "      <td>-3.731197</td>\n",
       "      <td>3</td>\n",
       "    </tr>\n",
       "  </tbody>\n",
       "</table>\n",
       "</div>"
      ],
      "text/plain": [
       "                                          COUNTRYNAM  \\\n",
       "New Caledonia                          New Caledonia   \n",
       "Pitcairn Islands                    Pitcairn Islands   \n",
       "Papua New Guinea                    Papua New Guinea   \n",
       "Solomon Islands                      Solomon Islands   \n",
       "Kiribati: Phoenix Islands  Kiribati: Phoenix Islands   \n",
       "\n",
       "                                                                    geometry  \\\n",
       "New Caledonia              POLYGON ((158.6108 -25.14667, 157.8011 -23.248...   \n",
       "Pitcairn Islands           POLYGON ((-132.499382 -22.511733, -132.228513 ...   \n",
       "Papua New Guinea           POLYGON ((157.168058 -13.692712, 157.038334 -1...   \n",
       "Solomon Islands            POLYGON ((173.5906 -11.85417, 173.525754 -12.5...   \n",
       "Kiribati: Phoenix Islands  POLYGON ((-168.921636 -6.882211000000032, -170...   \n",
       "\n",
       "                                        name_to_plot         lon        lat  \\\n",
       "New Caledonia                          New Caledonia  163.075425 -20.864542   \n",
       "Pitcairn Islands                    Pitcairn Islands -127.470494 -24.568268   \n",
       "Papua New Guinea                    Papua New Guinea  149.829278  -5.626700   \n",
       "Solomon Islands                      Solomon Islands  163.613350 -10.031313   \n",
       "Kiribati: Phoenix Islands  Kiribati: Phoenix Islands -172.445006  -3.731197   \n",
       "\n",
       "                           stress_category  \n",
       "New Caledonia                           -2  \n",
       "Pitcairn Islands                        -1  \n",
       "Papua New Guinea                        -1  \n",
       "Solomon Islands                          0  \n",
       "Kiribati: Phoenix Islands                3  "
      ]
     },
     "execution_count": 29,
     "metadata": {},
     "output_type": "execute_result"
    }
   ],
   "source": [
    "shape_gpd_m.head()"
   ]
  },
  {
   "cell_type": "code",
   "execution_count": 30,
   "metadata": {},
   "outputs": [],
   "source": [
    "year = bulletin_dir.split('_')[-1]"
   ]
  },
  {
   "cell_type": "code",
   "execution_count": 31,
   "metadata": {},
   "outputs": [
    {
     "data": {
      "image/png": "[encoded data removed]",
      "text/plain": [
       "<Figure size 792x576 with 1 Axes>"
      ]
     },
     "metadata": {
      "needs_background": "light"
     },
     "output_type": "display_data"
    }
   ],
   "source": [
    "f, ax = plt.subplots(figsize=(11, 8), subplot_kw=dict(projection=crs))\n",
    "\n",
    "make_choropleth(ax, shape_gpd_m, var='stress_category', dict_colors=stress_rgb)\n",
    "\n",
    "draw_Pacific(ax, extent = extent)\n",
    "\n",
    "# ax.set_title('Current Heat Stress (Bleaching Area Index) for {:%B %Y}'.format(date))\n",
    "\n",
    "transform = ccrs.PlateCarree()._as_mpl_transform(ax)\n",
    "\n",
    "text_transform = offset_copy(transform, units='dots', x=-25)\n",
    "\n",
    "for i, row in shape_gpd.iterrows(): \n",
    "    cname = row.name_to_plot\n",
    "    lon = row.lon\n",
    "    lat = row.lat\n",
    "    txt = ax.text(lon, lat, cname, color='k', verticalalignment='center', horizontalalignment='center',\n",
    "                 transform=text_transform, fontsize=7)\n",
    "    txt.set_path_effects([patheffects.withStroke(linewidth=3, foreground='w')])\n",
    "\n",
    "make_legend_stress(ax, facecolors=stress_rgb, title='Potential water stress', subtitle = '{} {}'.format(season, year), fontsize=8.5)\n",
    "\n",
    "# ax.axvline(180, color='0.8', lw=0.5)\n",
    "\n",
    "ax.set_extent([125, 360-120, -32, 25], crs=ccrs.PlateCarree())\n",
    "\n",
    "f.savefig(pathlib.Path.cwd().parents[1] / 'bulletin' / bulletin_dir / 'ICU_water_stress_map_{}.png'.format(bulletin_dir), bbox_inches='tight', dpi=200)"
   ]
  },
  {
   "cell_type": "markdown",
   "metadata": {},
   "source": [
    "### formatting and saving to GeoJSON for the Clidesc Portal"
   ]
  },
  {
   "cell_type": "code",
   "execution_count": 46,
   "metadata": {},
   "outputs": [],
   "source": [
    "if not (pathlib.Path.cwd().parent / 'geojsons').exists(): \n",
    "    (pathlib.Path.cwd().parent / 'geojsons').mkdir()"
   ]
  },
  {
   "cell_type": "code",
   "execution_count": 47,
   "metadata": {},
   "outputs": [],
   "source": [
    "shape_gpd_m = shape_gpd_m.rename({'stress_category':'Stress'}, axis=1)"
   ]
  },
  {
   "cell_type": "code",
   "execution_count": 48,
   "metadata": {},
   "outputs": [],
   "source": [
    "shape_gpd_m.loc[:,'Color'] = shape_gpd_m.loc[:,'Stress']"
   ]
  },
  {
   "cell_type": "code",
   "execution_count": 49,
   "metadata": {},
   "outputs": [],
   "source": [
    "shape_gpd_m = shape_gpd_m.replace({'Color':stress_rgb})"
   ]
  },
  {
   "cell_type": "code",
   "execution_count": 50,
   "metadata": {},
   "outputs": [],
   "source": [
    "shape_gpd_m.loc[:,'Forecast_season'] = bulletin_dir"
   ]
  },
  {
   "cell_type": "code",
   "execution_count": 51,
   "metadata": {},
   "outputs": [],
   "source": [
    "with open(pathlib.Path.cwd().parent / 'geojsons' / 'ICU_water_stress_latest.geojson', 'w') as f:\n",
    "    f.write(shape_gpd_m.to_json())"
   ]
  },
  {
   "cell_type": "code",
   "execution_count": null,
   "metadata": {},
   "outputs": [],
   "source": []
  }
 ],
 "metadata": {
  "kernelspec": {
   "display_name": "Python 3",
   "language": "python",
   "name": "python3"
  },
  "language_info": {
   "codemirror_mode": {
    "name": "ipython",
    "version": 3
   },
   "file_extension": ".py",
   "mimetype": "text/x-python",
   "name": "python",
   "nbconvert_exporter": "python",
   "pygments_lexer": "ipython3",
   "version": "3.6.6"
  }
 },
 "nbformat": 4,
 "nbformat_minor": 2
}
