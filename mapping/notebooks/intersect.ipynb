{
 "cells": [
  {
   "cell_type": "markdown",
   "metadata": {},
   "source": [
    "# mapping the ICU rainfall forecast"
   ]
  },
  {
   "cell_type": "code",
   "execution_count": 40,
   "metadata": {},
   "outputs": [],
   "source": [
    "import numpy as np\n",
    "import matplotlib.pyplot as plt\n",
    "from matplotlib import patheffects\n",
    "from matplotlib.transforms import offset_copy\n",
    "\n",
    "import cartopy.crs as ccrs\n",
    "from cartopy.feature import ShapelyFeature\n",
    "import cartopy.io.shapereader as shpreader\n",
    "\n",
    "import geopandas as gpd\n",
    "import pandas as pd\n",
    "\n",
    "%matplotlib inline"
   ]
  },
  {
   "cell_type": "code",
   "execution_count": 41,
   "metadata": {},
   "outputs": [],
   "source": [
    "def rgb2hex(r,g,b): \n",
    "    \"transform a triplet r, g, b in hex color\"\n",
    "    \n",
    "    def clamp(x): \n",
    "        return max(0, min(x, 255))\n",
    "    \n",
    "    h = \"#{0:02x}{1:02x}{2:02x}\".format(clamp(r), clamp(g), clamp(b))\n",
    "    \n",
    "    return h"
   ]
  },
  {
   "cell_type": "markdown",
   "metadata": {},
   "source": [
    "### build dictionnary with level: colors for mapping of coral bleaching stress level (current)"
   ]
  },
  {
   "cell_type": "code",
   "execution_count": 42,
   "metadata": {},
   "outputs": [],
   "source": [
    "outlook_rgb = [[131, 180, 215], [216, 241, 255], [237, 237, 237], [255, 236, 228], [235, 129, 125]]"
   ]
  },
  {
   "cell_type": "code",
   "execution_count": 43,
   "metadata": {},
   "outputs": [],
   "source": [
    "outlook_rgb = [rgb2hex(*x) for x in outlook_rgb]"
   ]
  },
  {
   "cell_type": "code",
   "execution_count": 44,
   "metadata": {},
   "outputs": [],
   "source": [
    "outlook_rgb = dict(zip([4, 2, 0, -3, -5], outlook_rgb))"
   ]
  },
  {
   "cell_type": "code",
   "execution_count": 45,
   "metadata": {},
   "outputs": [],
   "source": [
    "extent = [125, -120, -32, 25]"
   ]
  },
  {
   "cell_type": "code",
   "execution_count": 46,
   "metadata": {},
   "outputs": [],
   "source": [
    "def draw_Pacific(ax, extent = extent, facecolor='0.9', edgecolor='0.6'):\n",
    "    \"\"\"\n",
    "    draws a blank map of the Pacific, \n",
    "    note that `ax` needs to be a cartopy subclass of matplotlib axes, i.e. define first \n",
    "    \n",
    "    ```\n",
    "    extent = [120, -120, -45., 30]\n",
    "    crs = ccrs.Mercator(central_longitude=180., latitude_true_scale=0., min_latitude=extent[-2], max_latitude=extent[-1])\n",
    "    f, ax = plt.subplots(figsize=(10, 8), subplot_kw=dict(projection=crs))\n",
    "    ```\n",
    "    \"\"\"\n",
    "    \n",
    "    import cartopy.feature as cfeature\n",
    "    land_10m = cfeature.NaturalEarthFeature('physical', 'land', '10m',\n",
    "                                        edgecolor='0.1',\n",
    "                                        facecolor='0.3', alpha=0.5, linewidth=0.2)\n",
    "    ax.set_extent(extent)\n",
    "    ax.add_feature(land_10m)"
   ]
  },
  {
   "cell_type": "code",
   "execution_count": 124,
   "metadata": {},
   "outputs": [],
   "source": [
    "def make_choropleth(ax, df, var='Stress', dict_colors=outlook_rgb):\n",
    "    \"\"\"\n",
    "    makes a choropleth map from \n",
    "    \"\"\"\n",
    "    \n",
    "    from shapely.geometry import Point, LineString\n",
    "    \n",
    "    dateline = LineString([Point(180., -32.), Point(180., 25.)])\n",
    "\n",
    "    for i, row in df.iterrows():\n",
    "        \n",
    "        v = int(row.loc[var])\n",
    "        \n",
    "        if v == -999: \n",
    "            color = 'w'\n",
    "            geom = row.geometry\n",
    "            sp = ShapelyFeature([geom], ccrs.PlateCarree(),\n",
    "                                edgecolor='k',\n",
    "                                facecolor=color, lw=0.5, hatch='//')            \n",
    "        else:\n",
    "            \n",
    "            color = dict_colors[v]\n",
    "            \n",
    "            geom = row.geometry\n",
    "                \n",
    "            sp = ShapelyFeature([geom], ccrs.PlateCarree(),\n",
    "                                edgecolor='k',\n",
    "                                facecolor=color, lw=0.5)\n",
    "            \n",
    "            ax.add_feature(sp)\n",
    "            \n",
    "            if geom.intersects(dateline): \n",
    "                line = geom.intersection(dateline)\n",
    "                sp = ShapelyFeature([line], ccrs.PlateCarree(), lw=1.05, color=color)\n",
    "                ax.add_feature(sp)"
   ]
  },
  {
   "cell_type": "code",
   "execution_count": 48,
   "metadata": {},
   "outputs": [],
   "source": [
    "def make_legend(ax, facecolors=outlook_rgb, title = 'Rainfall forecast', subtitle = 'March to May'):\n",
    "    \n",
    "    from matplotlib.patches import Rectangle\n",
    "    \n",
    "    xt = 0.75\n",
    "\n",
    "    ax.text(xt, 0.95, title, fontsize=13, transform=ax.transAxes)\n",
    "    ax.text(xt, 0.915, subtitle, fontsize=11, transform=ax.transAxes)\n",
    "\n",
    "    ax.add_patch(Rectangle([xt, 0.85], 0.04, 0.04, facecolor=facecolors[-5], edgecolor='0.8', transform=ax.transAxes))\n",
    "    ax.add_patch(Rectangle([xt, 0.8], 0.04, 0.04, facecolor=facecolors[-3], edgecolor='0.8', transform=ax.transAxes))\n",
    "    ax.add_patch(Rectangle([xt, 0.75], 0.04, 0.04, facecolor=facecolors[0], edgecolor='0.8', transform=ax.transAxes))\n",
    "    ax.add_patch(Rectangle([xt, 0.7], 0.04, 0.04, facecolor=facecolors[2], edgecolor='0.8', transform=ax.transAxes))\n",
    "    ax.add_patch(Rectangle([xt, 0.65], 0.04, 0.04, facecolor=facecolors[4], edgecolor='0.8', transform=ax.transAxes))\n",
    "\n",
    "    toffset_x = 0.05\n",
    "    toffset_y = 0.015\n",
    "\n",
    "    ax.text(xt + toffset_x, 0.85 + toffset_y, 'Below', transform=ax.transAxes, fontsize=9)\n",
    "    ax.text(xt + toffset_x, 0.8 + toffset_y, 'Normal or below', transform=ax.transAxes, fontsize=9)\n",
    "    ax.text(xt + toffset_x, 0.75 + toffset_y, 'Near normal', transform=ax.transAxes, fontsize=9)\n",
    "    ax.text(xt + toffset_x, 0.7 + toffset_y, 'Normal or above', transform=ax.transAxes, fontsize=9)\n",
    "    ax.text(xt + toffset_x, 0.65 + toffset_y, 'Above', transform=ax.transAxes, fontsize=9)"
   ]
  },
  {
   "cell_type": "code",
   "execution_count": 49,
   "metadata": {},
   "outputs": [],
   "source": [
    "dict_countries = {}"
   ]
  },
  {
   "cell_type": "code",
   "execution_count": 50,
   "metadata": {},
   "outputs": [],
   "source": [
    "dict_countries['FSM'] = 'Federated States of Micronesia'\n",
    "dict_countries['Kiribati (Gilbert)'] = 'Kiribati: Gilbert Islands'\n",
    "dict_countries['Kiribati (Line)'] = 'Kiribati: Line Islands'\n",
    "dict_countries['Kiribati (Phoenix)'] = 'Kiribati: Phoenix Islands'\n",
    "dict_countries['Tuamotu/Gambier'] = 'Tuamotu / Gambier Islands'"
   ]
  },
  {
   "cell_type": "markdown",
   "metadata": {},
   "source": [
    "### set crs here "
   ]
  },
  {
   "cell_type": "markdown",
   "metadata": {},
   "source": [
    "**NOTE**: potential problems with the Mercator projection might be due to the version of `proj4` that is "
   ]
  },
  {
   "cell_type": "code",
   "execution_count": 51,
   "metadata": {},
   "outputs": [],
   "source": [
    "# crs = ccrs.Mercator(central_longitude=180., latitude_true_scale=0., min_latitude=extent[-2], max_latitude=extent[-1])"
   ]
  },
  {
   "cell_type": "code",
   "execution_count": 52,
   "metadata": {},
   "outputs": [],
   "source": [
    "crs = ccrs.PlateCarree(central_longitude=180)"
   ]
  },
  {
   "cell_type": "markdown",
   "metadata": {},
   "source": [
    "### read the shapefile with the ICU EEZ geometries"
   ]
  },
  {
   "cell_type": "code",
   "execution_count": 53,
   "metadata": {},
   "outputs": [],
   "source": [
    "shape_gpd = gpd.read_file('/Users/nicolasf/operational/ICU/ICU_marine/CRW/shapefiles/all_ICU_countries/ALL_ICU_countries.shp')"
   ]
  },
  {
   "cell_type": "code",
   "execution_count": 54,
   "metadata": {},
   "outputs": [],
   "source": [
    "shape_gpd = shape_gpd.loc[:,['COUNTRYNAM','geometry']]"
   ]
  },
  {
   "cell_type": "code",
   "execution_count": 55,
   "metadata": {},
   "outputs": [],
   "source": [
    "lons_lats = {}\n",
    "for i, row in shape_gpd.iterrows():\n",
    "    geom = row.geometry\n",
    "    x = geom.centroid.xy[0][0]\n",
    "    y = geom.centroid.xy[1][0]\n",
    "    lons_lats[row.COUNTRYNAM] = np.array([x, y]) \n",
    "lons_lats = pd.DataFrame(lons_lats).T\n",
    "lons_lats.columns = ['lon','lat']"
   ]
  },
  {
   "cell_type": "code",
   "execution_count": 56,
   "metadata": {},
   "outputs": [
    {
     "name": "stdout",
     "output_type": "stream",
     "text": [
      "/Users/nicolasf/operational/ICU/development/ICU_GIS_maps/notebooks\n"
     ]
    }
   ],
   "source": [
    "!pwd"
   ]
  },
  {
   "cell_type": "code",
   "execution_count": 57,
   "metadata": {},
   "outputs": [],
   "source": [
    "lons_lats.to_csv('../data/lons_lats_countrynames.csv')"
   ]
  },
  {
   "cell_type": "code",
   "execution_count": 58,
   "metadata": {},
   "outputs": [],
   "source": [
    "shape_gpd.set_index('COUNTRYNAM', drop=False, inplace=True)"
   ]
  },
  {
   "cell_type": "code",
   "execution_count": 59,
   "metadata": {},
   "outputs": [],
   "source": [
    "shape_gpd.loc[:,'name_to_plot'] = shape_gpd.loc[:,'COUNTRYNAM']"
   ]
  },
  {
   "cell_type": "code",
   "execution_count": 60,
   "metadata": {},
   "outputs": [],
   "source": [
    "shape_gpd.loc['Kiribati: Phoenix Islands','name_to_plot'] = 'Kiribati:\\nPhoenix Islands'\n",
    "shape_gpd.loc['Northern Cook Islands','name_to_plot'] = 'Northern\\nCook Islands'\n",
    "shape_gpd.loc['Kiribati: Line Islands','name_to_plot'] = 'Kiribati:\\nLine Islands'\n",
    "shape_gpd.loc['Kiribati: Gilbert Islands','name_to_plot'] = 'Kiribati:\\nGilbert Islands'\n",
    "shape_gpd.loc['Wallis & Futuna','name_to_plot'] = 'Wallis &\\nFutuna'\n",
    "shape_gpd.loc['Tuamotu / Gambier Islands','name_to_plot'] = 'Tuamotu / Gambier\\nIslands'\n",
    "shape_gpd.loc['Southern Cook Islands','name_to_plot'] = 'Southern\\nCook Islands'\n",
    "shape_gpd.loc['Vanuatu South','name_to_plot'] = 'Vanuatu\\nSouth'\n",
    "shape_gpd.loc['Vanuatu North','name_to_plot'] = 'Vanuatu\\nNorth'\n",
    "shape_gpd.loc['Northern Marianas','name_to_plot'] = 'Northern\\nMarianas'\n",
    "shape_gpd.loc['American Samoa','name_to_plot'] = 'American\\nSamoa'"
   ]
  },
  {
   "cell_type": "code",
   "execution_count": 61,
   "metadata": {},
   "outputs": [],
   "source": [
    "shape_gpd = shape_gpd.merge(lons_lats, left_index=True, right_index=True)"
   ]
  },
  {
   "cell_type": "code",
   "execution_count": 62,
   "metadata": {},
   "outputs": [
    {
     "data": {
      "text/html": [
       "<div>\n",
       "<style scoped>\n",
       "    .dataframe tbody tr th:only-of-type {\n",
       "        vertical-align: middle;\n",
       "    }\n",
       "\n",
       "    .dataframe tbody tr th {\n",
       "        vertical-align: top;\n",
       "    }\n",
       "\n",
       "    .dataframe thead th {\n",
       "        text-align: right;\n",
       "    }\n",
       "</style>\n",
       "<table border=\"1\" class=\"dataframe\">\n",
       "  <thead>\n",
       "    <tr style=\"text-align: right;\">\n",
       "      <th></th>\n",
       "      <th>COUNTRYNAM</th>\n",
       "      <th>geometry</th>\n",
       "      <th>name_to_plot</th>\n",
       "      <th>lon</th>\n",
       "      <th>lat</th>\n",
       "    </tr>\n",
       "    <tr>\n",
       "      <th>COUNTRYNAM</th>\n",
       "      <th></th>\n",
       "      <th></th>\n",
       "      <th></th>\n",
       "      <th></th>\n",
       "      <th></th>\n",
       "    </tr>\n",
       "  </thead>\n",
       "  <tbody>\n",
       "    <tr>\n",
       "      <th>New Caledonia</th>\n",
       "      <td>New Caledonia</td>\n",
       "      <td>POLYGON ((158.6108 -25.14667, 157.8011 -23.248...</td>\n",
       "      <td>New Caledonia</td>\n",
       "      <td>163.075425</td>\n",
       "      <td>-20.864542</td>\n",
       "    </tr>\n",
       "    <tr>\n",
       "      <th>Pitcairn Islands</th>\n",
       "      <td>Pitcairn Islands</td>\n",
       "      <td>POLYGON ((-132.499382 -22.511733, -132.228513 ...</td>\n",
       "      <td>Pitcairn Islands</td>\n",
       "      <td>-127.470494</td>\n",
       "      <td>-24.568268</td>\n",
       "    </tr>\n",
       "    <tr>\n",
       "      <th>Papua New Guinea</th>\n",
       "      <td>Papua New Guinea</td>\n",
       "      <td>POLYGON ((157.168058 -13.692712, 157.038334 -1...</td>\n",
       "      <td>Papua New Guinea</td>\n",
       "      <td>149.829278</td>\n",
       "      <td>-5.626700</td>\n",
       "    </tr>\n",
       "    <tr>\n",
       "      <th>Solomon Islands</th>\n",
       "      <td>Solomon Islands</td>\n",
       "      <td>POLYGON ((173.5906 -11.85417, 173.525754 -12.5...</td>\n",
       "      <td>Solomon Islands</td>\n",
       "      <td>163.613350</td>\n",
       "      <td>-10.031313</td>\n",
       "    </tr>\n",
       "    <tr>\n",
       "      <th>Kiribati: Phoenix Islands</th>\n",
       "      <td>Kiribati: Phoenix Islands</td>\n",
       "      <td>POLYGON ((-168.921636 -6.882211000000032, -170...</td>\n",
       "      <td>Kiribati:\\nPhoenix Islands</td>\n",
       "      <td>-172.445006</td>\n",
       "      <td>-3.731197</td>\n",
       "    </tr>\n",
       "  </tbody>\n",
       "</table>\n",
       "</div>"
      ],
      "text/plain": [
       "                                          COUNTRYNAM  \\\n",
       "COUNTRYNAM                                             \n",
       "New Caledonia                          New Caledonia   \n",
       "Pitcairn Islands                    Pitcairn Islands   \n",
       "Papua New Guinea                    Papua New Guinea   \n",
       "Solomon Islands                      Solomon Islands   \n",
       "Kiribati: Phoenix Islands  Kiribati: Phoenix Islands   \n",
       "\n",
       "                                                                    geometry  \\\n",
       "COUNTRYNAM                                                                     \n",
       "New Caledonia              POLYGON ((158.6108 -25.14667, 157.8011 -23.248...   \n",
       "Pitcairn Islands           POLYGON ((-132.499382 -22.511733, -132.228513 ...   \n",
       "Papua New Guinea           POLYGON ((157.168058 -13.692712, 157.038334 -1...   \n",
       "Solomon Islands            POLYGON ((173.5906 -11.85417, 173.525754 -12.5...   \n",
       "Kiribati: Phoenix Islands  POLYGON ((-168.921636 -6.882211000000032, -170...   \n",
       "\n",
       "                                         name_to_plot         lon        lat  \n",
       "COUNTRYNAM                                                                    \n",
       "New Caledonia                           New Caledonia  163.075425 -20.864542  \n",
       "Pitcairn Islands                     Pitcairn Islands -127.470494 -24.568268  \n",
       "Papua New Guinea                     Papua New Guinea  149.829278  -5.626700  \n",
       "Solomon Islands                       Solomon Islands  163.613350 -10.031313  \n",
       "Kiribati: Phoenix Islands  Kiribati:\\nPhoenix Islands -172.445006  -3.731197  "
      ]
     },
     "execution_count": 62,
     "metadata": {},
     "output_type": "execute_result"
    }
   ],
   "source": [
    "shape_gpd.head()"
   ]
  },
  {
   "cell_type": "code",
   "execution_count": 63,
   "metadata": {},
   "outputs": [],
   "source": [
    "shape_gpd.loc['Fiji','lon'] = 181\n",
    "shape_gpd.loc['Tuvalu','lon'] = 180\n",
    "shape_gpd.loc['Tuamotu / Gambier Islands','lon'] = shape_gpd.loc['Tuamotu / Gambier Islands','lon'] + 2\n",
    "shape_gpd.loc['Kiribati: Gilbert Islands','lon'] = shape_gpd.loc['Kiribati: Gilbert Islands','lon'] + 2\n",
    "shape_gpd.loc['Wallis & Futuna','lon'] = shape_gpd.loc['Wallis & Futuna','lon'] - 3\n",
    "shape_gpd.loc['Wallis & Futuna','lat'] = shape_gpd.loc['Wallis & Futuna','lat'] + 1\n",
    "shape_gpd.loc['American Samoa','lon'] = shape_gpd.loc['American Samoa','lon'] + 2\n",
    "shape_gpd.loc['Samoa','lat'] = shape_gpd.loc['Samoa','lat'] - 1"
   ]
  },
  {
   "cell_type": "code",
   "execution_count": 64,
   "metadata": {},
   "outputs": [],
   "source": [
    "table = pd.read_csv('/Users/nicolasf/operational/ICU/bulletin/218_NDJ_2018_2019/ICU_forecast_table_for_mapping.csv')"
   ]
  },
  {
   "cell_type": "code",
   "execution_count": 65,
   "metadata": {},
   "outputs": [
    {
     "data": {
      "text/html": [
       "<div>\n",
       "<style scoped>\n",
       "    .dataframe tbody tr th:only-of-type {\n",
       "        vertical-align: middle;\n",
       "    }\n",
       "\n",
       "    .dataframe tbody tr th {\n",
       "        vertical-align: top;\n",
       "    }\n",
       "\n",
       "    .dataframe thead th {\n",
       "        text-align: right;\n",
       "    }\n",
       "</style>\n",
       "<table border=\"1\" class=\"dataframe\">\n",
       "  <thead>\n",
       "    <tr style=\"text-align: right;\">\n",
       "      <th></th>\n",
       "      <th>locationID</th>\n",
       "      <th>Stress</th>\n",
       "      <th>COUNTRYNAM</th>\n",
       "    </tr>\n",
       "  </thead>\n",
       "  <tbody>\n",
       "    <tr>\n",
       "      <th>0</th>\n",
       "      <td>American Samoa</td>\n",
       "      <td>-3</td>\n",
       "      <td>American Samoa</td>\n",
       "    </tr>\n",
       "    <tr>\n",
       "      <th>1</th>\n",
       "      <td>Austral Islands</td>\n",
       "      <td>2</td>\n",
       "      <td>Austral Islands</td>\n",
       "    </tr>\n",
       "    <tr>\n",
       "      <th>2</th>\n",
       "      <td>Central Kiribati (Phoenix)</td>\n",
       "      <td>2</td>\n",
       "      <td>Central Kiribati (Phoenix)</td>\n",
       "    </tr>\n",
       "    <tr>\n",
       "      <th>3</th>\n",
       "      <td>Cook Islands (Northern)</td>\n",
       "      <td>-5</td>\n",
       "      <td>Cook Islands (Northern)</td>\n",
       "    </tr>\n",
       "    <tr>\n",
       "      <th>4</th>\n",
       "      <td>Cook Islands (Southern)</td>\n",
       "      <td>0</td>\n",
       "      <td>Cook Islands (Southern)</td>\n",
       "    </tr>\n",
       "  </tbody>\n",
       "</table>\n",
       "</div>"
      ],
      "text/plain": [
       "                   locationID  Stress                  COUNTRYNAM\n",
       "0             American Samoa       -3             American Samoa \n",
       "1             Austral Islands       2             Austral Islands\n",
       "2  Central Kiribati (Phoenix)       2  Central Kiribati (Phoenix)\n",
       "3    Cook Islands (Northern)       -5    Cook Islands (Northern) \n",
       "4    Cook Islands (Southern)        0    Cook Islands (Southern) "
      ]
     },
     "execution_count": 65,
     "metadata": {},
     "output_type": "execute_result"
    }
   ],
   "source": [
    "table.head()"
   ]
  },
  {
   "cell_type": "code",
   "execution_count": 66,
   "metadata": {},
   "outputs": [],
   "source": [
    "dict_names = {}\n",
    "dict_names['Kiribati (Western)'] = 'Kiribati: Gilbert Islands'\n",
    "dict_names['Kiribati (Eastern)'] = 'Kiribati: Line Islands'\n",
    "dict_names['Central Kiribati (Phoenix)'] = 'Kiribati: Phoenix Islands' \n",
    "dict_names['Wallis and Futuna'] = 'Wallis & Futuna' \n",
    "dict_names['Cook Islands (Northern) '] = 'Northern Cook Islands' \n",
    "dict_names['Cook Islands (Southern) '] = 'Southern Cook Islands' \n",
    "dict_names['N. Marianas'] = 'Northern Marianas' \n",
    "dict_names['Vanuatu (North)'] = 'Vanuatu North' \n",
    "dict_names['Vanuatu (South)'] = 'Vanuatu South' \n",
    "dict_names['Tuamotu Islands'] = 'Tuamotu / Gambier Islands' \n",
    "dict_names['FSM'] = 'Federated States of Micronesia' \n",
    "dict_names['American Samoa '] = 'American Samoa'\n",
    "dict_names['Pitcairn Island'] = 'Pitcairn Islands'"
   ]
  },
  {
   "cell_type": "code",
   "execution_count": 67,
   "metadata": {},
   "outputs": [],
   "source": [
    "table = table.replace({'COUNTRYNAM':dict_names})"
   ]
  },
  {
   "cell_type": "code",
   "execution_count": 68,
   "metadata": {},
   "outputs": [
    {
     "data": {
      "text/html": [
       "<div>\n",
       "<style scoped>\n",
       "    .dataframe tbody tr th:only-of-type {\n",
       "        vertical-align: middle;\n",
       "    }\n",
       "\n",
       "    .dataframe tbody tr th {\n",
       "        vertical-align: top;\n",
       "    }\n",
       "\n",
       "    .dataframe thead th {\n",
       "        text-align: right;\n",
       "    }\n",
       "</style>\n",
       "<table border=\"1\" class=\"dataframe\">\n",
       "  <thead>\n",
       "    <tr style=\"text-align: right;\">\n",
       "      <th></th>\n",
       "      <th>locationID</th>\n",
       "      <th>Stress</th>\n",
       "      <th>COUNTRYNAM</th>\n",
       "    </tr>\n",
       "  </thead>\n",
       "  <tbody>\n",
       "    <tr>\n",
       "      <th>0</th>\n",
       "      <td>American Samoa</td>\n",
       "      <td>-3</td>\n",
       "      <td>American Samoa</td>\n",
       "    </tr>\n",
       "    <tr>\n",
       "      <th>1</th>\n",
       "      <td>Austral Islands</td>\n",
       "      <td>2</td>\n",
       "      <td>Austral Islands</td>\n",
       "    </tr>\n",
       "    <tr>\n",
       "      <th>2</th>\n",
       "      <td>Central Kiribati (Phoenix)</td>\n",
       "      <td>2</td>\n",
       "      <td>Kiribati: Phoenix Islands</td>\n",
       "    </tr>\n",
       "    <tr>\n",
       "      <th>3</th>\n",
       "      <td>Cook Islands (Northern)</td>\n",
       "      <td>-5</td>\n",
       "      <td>Northern Cook Islands</td>\n",
       "    </tr>\n",
       "    <tr>\n",
       "      <th>4</th>\n",
       "      <td>Cook Islands (Southern)</td>\n",
       "      <td>0</td>\n",
       "      <td>Southern Cook Islands</td>\n",
       "    </tr>\n",
       "    <tr>\n",
       "      <th>5</th>\n",
       "      <td>FSM</td>\n",
       "      <td>-3</td>\n",
       "      <td>Federated States of Micronesia</td>\n",
       "    </tr>\n",
       "    <tr>\n",
       "      <th>6</th>\n",
       "      <td>Fiji</td>\n",
       "      <td>2</td>\n",
       "      <td>Fiji</td>\n",
       "    </tr>\n",
       "    <tr>\n",
       "      <th>7</th>\n",
       "      <td>Guam</td>\n",
       "      <td>2</td>\n",
       "      <td>Guam</td>\n",
       "    </tr>\n",
       "    <tr>\n",
       "      <th>8</th>\n",
       "      <td>Kiribati (Eastern)</td>\n",
       "      <td>2</td>\n",
       "      <td>Kiribati: Line Islands</td>\n",
       "    </tr>\n",
       "    <tr>\n",
       "      <th>9</th>\n",
       "      <td>Kiribati (Western)</td>\n",
       "      <td>2</td>\n",
       "      <td>Kiribati: Gilbert Islands</td>\n",
       "    </tr>\n",
       "    <tr>\n",
       "      <th>10</th>\n",
       "      <td>Marquesas</td>\n",
       "      <td>-5</td>\n",
       "      <td>Marquesas</td>\n",
       "    </tr>\n",
       "    <tr>\n",
       "      <th>11</th>\n",
       "      <td>Marshall Islands</td>\n",
       "      <td>4</td>\n",
       "      <td>Marshall Islands</td>\n",
       "    </tr>\n",
       "    <tr>\n",
       "      <th>12</th>\n",
       "      <td>N. Marianas</td>\n",
       "      <td>-3</td>\n",
       "      <td>Northern Marianas</td>\n",
       "    </tr>\n",
       "    <tr>\n",
       "      <th>13</th>\n",
       "      <td>Nauru</td>\n",
       "      <td>2</td>\n",
       "      <td>Nauru</td>\n",
       "    </tr>\n",
       "    <tr>\n",
       "      <th>14</th>\n",
       "      <td>New Caledonia</td>\n",
       "      <td>-5</td>\n",
       "      <td>New Caledonia</td>\n",
       "    </tr>\n",
       "    <tr>\n",
       "      <th>15</th>\n",
       "      <td>Niue</td>\n",
       "      <td>0</td>\n",
       "      <td>Niue</td>\n",
       "    </tr>\n",
       "    <tr>\n",
       "      <th>16</th>\n",
       "      <td>Palau</td>\n",
       "      <td>-3</td>\n",
       "      <td>Palau</td>\n",
       "    </tr>\n",
       "    <tr>\n",
       "      <th>17</th>\n",
       "      <td>Papua New Guinea</td>\n",
       "      <td>-3</td>\n",
       "      <td>Papua New Guinea</td>\n",
       "    </tr>\n",
       "    <tr>\n",
       "      <th>18</th>\n",
       "      <td>Pitcairn Island</td>\n",
       "      <td>0</td>\n",
       "      <td>Pitcairn Islands</td>\n",
       "    </tr>\n",
       "    <tr>\n",
       "      <th>19</th>\n",
       "      <td>Samoa</td>\n",
       "      <td>-3</td>\n",
       "      <td>Samoa</td>\n",
       "    </tr>\n",
       "    <tr>\n",
       "      <th>20</th>\n",
       "      <td>Society Islands</td>\n",
       "      <td>-3</td>\n",
       "      <td>Society Islands</td>\n",
       "    </tr>\n",
       "    <tr>\n",
       "      <th>21</th>\n",
       "      <td>Solomon Islands</td>\n",
       "      <td>4</td>\n",
       "      <td>Solomon Islands</td>\n",
       "    </tr>\n",
       "    <tr>\n",
       "      <th>22</th>\n",
       "      <td>Tokelau</td>\n",
       "      <td>-5</td>\n",
       "      <td>Tokelau</td>\n",
       "    </tr>\n",
       "    <tr>\n",
       "      <th>23</th>\n",
       "      <td>Tonga</td>\n",
       "      <td>0</td>\n",
       "      <td>Tonga</td>\n",
       "    </tr>\n",
       "    <tr>\n",
       "      <th>24</th>\n",
       "      <td>Tuamotu Islands</td>\n",
       "      <td>-5</td>\n",
       "      <td>Tuamotu / Gambier Islands</td>\n",
       "    </tr>\n",
       "    <tr>\n",
       "      <th>25</th>\n",
       "      <td>Tuvalu</td>\n",
       "      <td>0</td>\n",
       "      <td>Tuvalu</td>\n",
       "    </tr>\n",
       "    <tr>\n",
       "      <th>26</th>\n",
       "      <td>Vanuatu (North)</td>\n",
       "      <td>-3</td>\n",
       "      <td>Vanuatu North</td>\n",
       "    </tr>\n",
       "    <tr>\n",
       "      <th>27</th>\n",
       "      <td>Vanuatu (South)</td>\n",
       "      <td>-3</td>\n",
       "      <td>Vanuatu South</td>\n",
       "    </tr>\n",
       "    <tr>\n",
       "      <th>28</th>\n",
       "      <td>Wallis &amp; Futuna</td>\n",
       "      <td>0</td>\n",
       "      <td>Wallis &amp; Futuna</td>\n",
       "    </tr>\n",
       "  </tbody>\n",
       "</table>\n",
       "</div>"
      ],
      "text/plain": [
       "                    locationID  Stress                      COUNTRYNAM\n",
       "0              American Samoa       -3                  American Samoa\n",
       "1              Austral Islands       2                 Austral Islands\n",
       "2   Central Kiribati (Phoenix)       2       Kiribati: Phoenix Islands\n",
       "3     Cook Islands (Northern)       -5           Northern Cook Islands\n",
       "4     Cook Islands (Southern)        0           Southern Cook Islands\n",
       "5                          FSM      -3  Federated States of Micronesia\n",
       "6                         Fiji       2                            Fiji\n",
       "7                         Guam       2                            Guam\n",
       "8           Kiribati (Eastern)       2          Kiribati: Line Islands\n",
       "9           Kiribati (Western)       2       Kiribati: Gilbert Islands\n",
       "10                   Marquesas      -5                       Marquesas\n",
       "11            Marshall Islands       4                Marshall Islands\n",
       "12                 N. Marianas      -3               Northern Marianas\n",
       "13                       Nauru       2                           Nauru\n",
       "14               New Caledonia      -5                   New Caledonia\n",
       "15                        Niue       0                            Niue\n",
       "16                       Palau      -3                           Palau\n",
       "17            Papua New Guinea      -3                Papua New Guinea\n",
       "18             Pitcairn Island       0                Pitcairn Islands\n",
       "19                       Samoa      -3                           Samoa\n",
       "20             Society Islands      -3                 Society Islands\n",
       "21             Solomon Islands       4                 Solomon Islands\n",
       "22                     Tokelau      -5                         Tokelau\n",
       "23                       Tonga       0                           Tonga\n",
       "24             Tuamotu Islands      -5       Tuamotu / Gambier Islands\n",
       "25                      Tuvalu       0                          Tuvalu\n",
       "26             Vanuatu (North)      -3                   Vanuatu North\n",
       "27             Vanuatu (South)      -3                   Vanuatu South\n",
       "28             Wallis & Futuna       0                 Wallis & Futuna"
      ]
     },
     "execution_count": 68,
     "metadata": {},
     "output_type": "execute_result"
    }
   ],
   "source": [
    "table"
   ]
  },
  {
   "cell_type": "code",
   "execution_count": 69,
   "metadata": {},
   "outputs": [],
   "source": [
    "table = table.set_index('COUNTRYNAM', drop=False)"
   ]
  },
  {
   "cell_type": "code",
   "execution_count": 70,
   "metadata": {},
   "outputs": [],
   "source": [
    "table = table.iloc[:,1:]"
   ]
  },
  {
   "cell_type": "code",
   "execution_count": 71,
   "metadata": {},
   "outputs": [
    {
     "data": {
      "text/plain": [
       "COUNTRYNAM\n",
       "American Samoa                                    American Samoa\n",
       "Austral Islands                                  Austral Islands\n",
       "Kiribati: Phoenix Islands              Kiribati: Phoenix Islands\n",
       "Northern Cook Islands                      Northern Cook Islands\n",
       "Southern Cook Islands                      Southern Cook Islands\n",
       "Federated States of Micronesia    Federated States of Micronesia\n",
       "Fiji                                                        Fiji\n",
       "Guam                                                        Guam\n",
       "Kiribati: Line Islands                    Kiribati: Line Islands\n",
       "Kiribati: Gilbert Islands              Kiribati: Gilbert Islands\n",
       "Marquesas                                              Marquesas\n",
       "Marshall Islands                                Marshall Islands\n",
       "Northern Marianas                              Northern Marianas\n",
       "Nauru                                                      Nauru\n",
       "New Caledonia                                      New Caledonia\n",
       "Niue                                                        Niue\n",
       "Palau                                                      Palau\n",
       "Papua New Guinea                                Papua New Guinea\n",
       "Pitcairn Islands                                Pitcairn Islands\n",
       "Samoa                                                      Samoa\n",
       "Society Islands                                  Society Islands\n",
       "Solomon Islands                                  Solomon Islands\n",
       "Tokelau                                                  Tokelau\n",
       "Tonga                                                      Tonga\n",
       "Tuamotu / Gambier Islands              Tuamotu / Gambier Islands\n",
       "Tuvalu                                                    Tuvalu\n",
       "Vanuatu North                                      Vanuatu North\n",
       "Vanuatu South                                      Vanuatu South\n",
       "Wallis & Futuna                                  Wallis & Futuna\n",
       "Name: COUNTRYNAM, dtype: object"
      ]
     },
     "execution_count": 71,
     "metadata": {},
     "output_type": "execute_result"
    }
   ],
   "source": [
    "table.COUNTRYNAM"
   ]
  },
  {
   "cell_type": "code",
   "execution_count": 72,
   "metadata": {},
   "outputs": [
    {
     "data": {
      "text/plain": [
       "'Pitcairn Islands'"
      ]
     },
     "execution_count": 72,
     "metadata": {},
     "output_type": "execute_result"
    }
   ],
   "source": [
    "table.COUNTRYNAM[18]"
   ]
  },
  {
   "cell_type": "code",
   "execution_count": 73,
   "metadata": {},
   "outputs": [
    {
     "data": {
      "text/plain": [
       "'Pitcairn Islands'"
      ]
     },
     "execution_count": 73,
     "metadata": {},
     "output_type": "execute_result"
    }
   ],
   "source": [
    "shape_gpd.COUNTRYNAM[1]"
   ]
  },
  {
   "cell_type": "code",
   "execution_count": 74,
   "metadata": {},
   "outputs": [
    {
     "name": "stderr",
     "output_type": "stream",
     "text": [
      "/Users/nicolasf/anaconda3/envs/salem/lib/python3.6/site-packages/geopandas/geodataframe.py:475: FutureWarning: 'COUNTRYNAM' is both an index level and a column label.\n",
      "Defaulting to column, but this will raise an ambiguity error in a future version\n",
      "  result = DataFrame.merge(self, *args, **kwargs)\n"
     ]
    }
   ],
   "source": [
    "shape_gpd_m = shape_gpd.merge(table, on='COUNTRYNAM')"
   ]
  },
  {
   "cell_type": "code",
   "execution_count": 125,
   "metadata": {},
   "outputs": [
    {
     "data": {
      "image/png": "[encoded data removed]",
      "text/plain": [
       "<Figure size 720x576 with 1 Axes>"
      ]
     },
     "metadata": {
      "needs_background": "light"
     },
     "output_type": "display_data"
    }
   ],
   "source": [
    "f, ax = plt.subplots(figsize=(10, 8), subplot_kw=dict(projection=crs))\n",
    "\n",
    "make_choropleth(ax, shape_gpd_m, dict_colors=outlook_rgb)\n",
    "\n",
    "draw_Pacific(ax, extent = extent)\n",
    "\n",
    "# ax.set_title('Current Heat Stress (Bleaching Area Index) for {:%B %Y}'.format(date))\n",
    "\n",
    "transform = ccrs.PlateCarree()._as_mpl_transform(ax)\n",
    "\n",
    "text_transform = offset_copy(transform, units='dots', x=-25)\n",
    "\n",
    "for i, row in shape_gpd.iterrows(): \n",
    "    cname = row.name_to_plot\n",
    "    lon = row.lon\n",
    "    lat = row.lat\n",
    "    txt = ax.text(lon, lat, cname, color='k', verticalalignment='center', horizontalalignment='center',\n",
    "                 transform=text_transform, fontsize=7.5)\n",
    "    txt.set_path_effects([patheffects.withStroke(linewidth=3, foreground='w')])\n",
    "\n",
    "make_legend(ax, subtitle = 'Nov. 2018 to Jan. 2018')\n",
    "\n",
    "ax.axvline(180, color='0.8', lw=0.5)\n",
    "\n",
    "f.tight_layout()\n",
    "\n",
    "ax.set_extent([125, 360-120, -32, 25], crs=ccrs.PlateCarree())\n",
    "\n",
    "f.savefig('/Users/nicolasf/operational/ICU/bulletin/218_NDJ_2018_2019/images/ICU_rainfall_forecast_map_NDJ_2018_2019.png', dpi=200)"
   ]
  },
  {
   "cell_type": "code",
   "execution_count": 126,
   "metadata": {},
   "outputs": [],
   "source": [
    "name = '/Users/nicolasf/operational/ICU/bulletin/218_NDJ_2018_2019/images/ICU_rainfall_forecast_map_NDJ_2018_2019.png'"
   ]
  },
  {
   "cell_type": "code",
   "execution_count": 128,
   "metadata": {},
   "outputs": [],
   "source": [
    "!open {name}"
   ]
  },
  {
   "cell_type": "code",
   "execution_count": null,
   "metadata": {},
   "outputs": [],
   "source": []
  }
 ],
 "metadata": {
  "kernelspec": {
   "display_name": "Python 3",
   "language": "python",
   "name": "python3"
  },
  "language_info": {
   "codemirror_mode": {
    "name": "ipython",
    "version": 3
   },
   "file_extension": ".py",
   "mimetype": "text/x-python",
   "name": "python",
   "nbconvert_exporter": "python",
   "pygments_lexer": "ipython3",
   "version": "3.6.6"
  }
 },
 "nbformat": 4,
 "nbformat_minor": 2
}
